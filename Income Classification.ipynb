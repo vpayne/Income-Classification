{
 "cells": [
  {
   "cell_type": "markdown",
   "metadata": {
    "colab_type": "text",
    "id": "57HqT5klqxgu",
    "slideshow": {
     "slide_type": "slide"
    }
   },
   "source": [
    "+Using the dataset \"Income Classification\" from Kaggle I am going to create a model that will predict income (as either <= 50k or > 50k) using a number of features.  This topic interests me because there are many conflicting ideas about what makes someone get a higher income.  Does a higher level of education lead to more money?  How big of a role does gender or race play?  These (and others) are questions that I hope I will be able to identify by examining this dataset. \n",
    "\n",
    "Link to dataset: https://www.kaggle.com/lodetomasi1995/income-classification"
   ]
  },
  {
   "cell_type": "code",
   "execution_count": 104,
   "metadata": {
    "colab": {},
    "colab_type": "code",
    "id": "KTbQ4-JBrYxO",
    "slideshow": {
     "slide_type": "slide"
    }
   },
   "outputs": [],
   "source": [
    "import pandas as pd\n",
    "import numpy as np\n",
    "import matplotlib.pyplot as plt\n",
    "from sklearn.model_selection import train_test_split\n",
    "from sklearn.linear_model import LogisticRegression\n",
    "import seaborn as sns\n",
    "from scipy import stats\n",
    "import warnings\n",
    "warnings.filterwarnings(action='ignore')"
   ]
  },
  {
   "cell_type": "code",
   "execution_count": 105,
   "metadata": {
    "colab": {
     "base_uri": "https://localhost:8080/",
     "height": 75,
     "resources": {
      "http://localhost:8080/nbextensions/google.colab/files.js": {
       "data": "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",
       "headers": [
        [
         "content-type",
         "application/javascript"
        ]
       ],
       "ok": true,
       "status": 200,
       "status_text": ""
      }
     }
    },
    "colab_type": "code",
    "executionInfo": {
     "elapsed": 40486,
     "status": "ok",
     "timestamp": 1580071224492,
     "user": {
      "displayName": "Vince Payne",
      "photoUrl": "https://lh3.googleusercontent.com/a-/AAuE7mCP60AdSc8hNhjbgz0TQ2KWP4jwdyaOnPMdvDrJAA=s64",
      "userId": "14103510985297891925"
     },
     "user_tz": 360
    },
    "id": "gkdHkmq3qsbv",
    "outputId": "955bc4df-74cc-4c15-f7ec-aa722b2efd47",
    "slideshow": {
     "slide_type": "fragment"
    }
   },
   "outputs": [],
   "source": [
    "income_df = pd.read_csv(\"income_evaluation.csv\")"
   ]
  },
  {
   "cell_type": "markdown",
   "metadata": {
    "colab_type": "text",
    "id": "E8SNxTDcC8gE",
    "slideshow": {
     "slide_type": "slide"
    }
   },
   "source": [
    "# Introductory Analysis of Dataset"
   ]
  },
  {
   "cell_type": "code",
   "execution_count": 106,
   "metadata": {
    "colab": {
     "base_uri": "https://localhost:8080/",
     "height": 364
    },
    "colab_type": "code",
    "executionInfo": {
     "elapsed": 40476,
     "status": "ok",
     "timestamp": 1580071224493,
     "user": {
      "displayName": "Vince Payne",
      "photoUrl": "https://lh3.googleusercontent.com/a-/AAuE7mCP60AdSc8hNhjbgz0TQ2KWP4jwdyaOnPMdvDrJAA=s64",
      "userId": "14103510985297891925"
     },
     "user_tz": 360
    },
    "id": "ZDkd6tlW2ePx",
    "outputId": "9f343e93-ac21-4640-e6a4-57eb4031c9fd",
    "slideshow": {
     "slide_type": "fragment"
    }
   },
   "outputs": [
    {
     "name": "stdout",
     "output_type": "stream",
     "text": [
      "<class 'pandas.core.frame.DataFrame'>\n",
      "RangeIndex: 32561 entries, 0 to 32560\n",
      "Data columns (total 15 columns):\n",
      "age                32561 non-null int64\n",
      " workclass         32561 non-null object\n",
      " fnlwgt            32561 non-null int64\n",
      " education         32561 non-null object\n",
      " education-num     32561 non-null int64\n",
      " marital-status    32561 non-null object\n",
      " occupation        32561 non-null object\n",
      " relationship      32561 non-null object\n",
      " race              32561 non-null object\n",
      " sex               32561 non-null object\n",
      " capital-gain      32561 non-null int64\n",
      " capital-loss      32561 non-null int64\n",
      " hours-per-week    32561 non-null int64\n",
      " native-country    32561 non-null object\n",
      " income            32561 non-null object\n",
      "dtypes: int64(6), object(9)\n",
      "memory usage: 3.7+ MB\n"
     ]
    }
   ],
   "source": [
    "income_df.info()"
   ]
  },
  {
   "cell_type": "code",
   "execution_count": 107,
   "metadata": {
    "colab": {
     "base_uri": "https://localhost:8080/",
     "height": 202
    },
    "colab_type": "code",
    "executionInfo": {
     "elapsed": 40456,
     "status": "ok",
     "timestamp": 1580071224494,
     "user": {
      "displayName": "Vince Payne",
      "photoUrl": "https://lh3.googleusercontent.com/a-/AAuE7mCP60AdSc8hNhjbgz0TQ2KWP4jwdyaOnPMdvDrJAA=s64",
      "userId": "14103510985297891925"
     },
     "user_tz": 360
    },
    "id": "PWa1-_CL1k0P",
    "outputId": "96617033-ea5f-42de-b1a8-0f70a5458fcb",
    "slideshow": {
     "slide_type": "slide"
    }
   },
   "outputs": [
    {
     "data": {
      "text/html": [
       "<div>\n",
       "<style scoped>\n",
       "    .dataframe tbody tr th:only-of-type {\n",
       "        vertical-align: middle;\n",
       "    }\n",
       "\n",
       "    .dataframe tbody tr th {\n",
       "        vertical-align: top;\n",
       "    }\n",
       "\n",
       "    .dataframe thead th {\n",
       "        text-align: right;\n",
       "    }\n",
       "</style>\n",
       "<table border=\"1\" class=\"dataframe\">\n",
       "  <thead>\n",
       "    <tr style=\"text-align: right;\">\n",
       "      <th></th>\n",
       "      <th>age</th>\n",
       "      <th>workclass</th>\n",
       "      <th>fnlwgt</th>\n",
       "      <th>education</th>\n",
       "      <th>education-num</th>\n",
       "      <th>marital-status</th>\n",
       "      <th>occupation</th>\n",
       "      <th>relationship</th>\n",
       "      <th>race</th>\n",
       "      <th>sex</th>\n",
       "      <th>capital-gain</th>\n",
       "      <th>capital-loss</th>\n",
       "      <th>hours-per-week</th>\n",
       "      <th>native-country</th>\n",
       "      <th>income</th>\n",
       "    </tr>\n",
       "  </thead>\n",
       "  <tbody>\n",
       "    <tr>\n",
       "      <td>0</td>\n",
       "      <td>39</td>\n",
       "      <td>State-gov</td>\n",
       "      <td>77516</td>\n",
       "      <td>Bachelors</td>\n",
       "      <td>13</td>\n",
       "      <td>Never-married</td>\n",
       "      <td>Adm-clerical</td>\n",
       "      <td>Not-in-family</td>\n",
       "      <td>White</td>\n",
       "      <td>Male</td>\n",
       "      <td>2174</td>\n",
       "      <td>0</td>\n",
       "      <td>40</td>\n",
       "      <td>United-States</td>\n",
       "      <td>&lt;=50K</td>\n",
       "    </tr>\n",
       "    <tr>\n",
       "      <td>1</td>\n",
       "      <td>50</td>\n",
       "      <td>Self-emp-not-inc</td>\n",
       "      <td>83311</td>\n",
       "      <td>Bachelors</td>\n",
       "      <td>13</td>\n",
       "      <td>Married-civ-spouse</td>\n",
       "      <td>Exec-managerial</td>\n",
       "      <td>Husband</td>\n",
       "      <td>White</td>\n",
       "      <td>Male</td>\n",
       "      <td>0</td>\n",
       "      <td>0</td>\n",
       "      <td>13</td>\n",
       "      <td>United-States</td>\n",
       "      <td>&lt;=50K</td>\n",
       "    </tr>\n",
       "    <tr>\n",
       "      <td>2</td>\n",
       "      <td>38</td>\n",
       "      <td>Private</td>\n",
       "      <td>215646</td>\n",
       "      <td>HS-grad</td>\n",
       "      <td>9</td>\n",
       "      <td>Divorced</td>\n",
       "      <td>Handlers-cleaners</td>\n",
       "      <td>Not-in-family</td>\n",
       "      <td>White</td>\n",
       "      <td>Male</td>\n",
       "      <td>0</td>\n",
       "      <td>0</td>\n",
       "      <td>40</td>\n",
       "      <td>United-States</td>\n",
       "      <td>&lt;=50K</td>\n",
       "    </tr>\n",
       "    <tr>\n",
       "      <td>3</td>\n",
       "      <td>53</td>\n",
       "      <td>Private</td>\n",
       "      <td>234721</td>\n",
       "      <td>11th</td>\n",
       "      <td>7</td>\n",
       "      <td>Married-civ-spouse</td>\n",
       "      <td>Handlers-cleaners</td>\n",
       "      <td>Husband</td>\n",
       "      <td>Black</td>\n",
       "      <td>Male</td>\n",
       "      <td>0</td>\n",
       "      <td>0</td>\n",
       "      <td>40</td>\n",
       "      <td>United-States</td>\n",
       "      <td>&lt;=50K</td>\n",
       "    </tr>\n",
       "    <tr>\n",
       "      <td>4</td>\n",
       "      <td>28</td>\n",
       "      <td>Private</td>\n",
       "      <td>338409</td>\n",
       "      <td>Bachelors</td>\n",
       "      <td>13</td>\n",
       "      <td>Married-civ-spouse</td>\n",
       "      <td>Prof-specialty</td>\n",
       "      <td>Wife</td>\n",
       "      <td>Black</td>\n",
       "      <td>Female</td>\n",
       "      <td>0</td>\n",
       "      <td>0</td>\n",
       "      <td>40</td>\n",
       "      <td>Cuba</td>\n",
       "      <td>&lt;=50K</td>\n",
       "    </tr>\n",
       "  </tbody>\n",
       "</table>\n",
       "</div>"
      ],
      "text/plain": [
       "   age          workclass   fnlwgt   education   education-num  \\\n",
       "0   39          State-gov    77516   Bachelors              13   \n",
       "1   50   Self-emp-not-inc    83311   Bachelors              13   \n",
       "2   38            Private   215646     HS-grad               9   \n",
       "3   53            Private   234721        11th               7   \n",
       "4   28            Private   338409   Bachelors              13   \n",
       "\n",
       "        marital-status          occupation    relationship    race      sex  \\\n",
       "0        Never-married        Adm-clerical   Not-in-family   White     Male   \n",
       "1   Married-civ-spouse     Exec-managerial         Husband   White     Male   \n",
       "2             Divorced   Handlers-cleaners   Not-in-family   White     Male   \n",
       "3   Married-civ-spouse   Handlers-cleaners         Husband   Black     Male   \n",
       "4   Married-civ-spouse      Prof-specialty            Wife   Black   Female   \n",
       "\n",
       "    capital-gain   capital-loss   hours-per-week  native-country  income  \n",
       "0           2174              0               40   United-States   <=50K  \n",
       "1              0              0               13   United-States   <=50K  \n",
       "2              0              0               40   United-States   <=50K  \n",
       "3              0              0               40   United-States   <=50K  \n",
       "4              0              0               40            Cuba   <=50K  "
      ]
     },
     "execution_count": 107,
     "metadata": {},
     "output_type": "execute_result"
    }
   ],
   "source": [
    "income_df.head()"
   ]
  },
  {
   "cell_type": "code",
   "execution_count": 108,
   "metadata": {
    "colab": {
     "base_uri": "https://localhost:8080/",
     "height": 295
    },
    "colab_type": "code",
    "executionInfo": {
     "elapsed": 40446,
     "status": "ok",
     "timestamp": 1580071224495,
     "user": {
      "displayName": "Vince Payne",
      "photoUrl": "https://lh3.googleusercontent.com/a-/AAuE7mCP60AdSc8hNhjbgz0TQ2KWP4jwdyaOnPMdvDrJAA=s64",
      "userId": "14103510985297891925"
     },
     "user_tz": 360
    },
    "id": "-WuQOfEPzimX",
    "outputId": "7633623e-c273-4935-f30a-ef865ee32ff4",
    "slideshow": {
     "slide_type": "slide"
    }
   },
   "outputs": [
    {
     "data": {
      "text/plain": [
       "age                0\n",
       " workclass         0\n",
       " fnlwgt            0\n",
       " education         0\n",
       " education-num     0\n",
       " marital-status    0\n",
       " occupation        0\n",
       " relationship      0\n",
       " race              0\n",
       " sex               0\n",
       " capital-gain      0\n",
       " capital-loss      0\n",
       " hours-per-week    0\n",
       " native-country    0\n",
       " income            0\n",
       "dtype: int64"
      ]
     },
     "execution_count": 108,
     "metadata": {},
     "output_type": "execute_result"
    }
   ],
   "source": [
    "# I am checking to see if there are any null values\n",
    "income_df.isnull().sum()"
   ]
  },
  {
   "cell_type": "markdown",
   "metadata": {
    "colab_type": "text",
    "id": "OuzuNqek1z5a",
    "slideshow": {
     "slide_type": "fragment"
    }
   },
   "source": [
    "So far a couple of things stick out to me.  First, I notice that there are no null values!  Second, I notice there are a lot of objects that I will need to make into integers so that I can use them in my models.  The first thing I do will be to manipulate this DataFrame to make it more \"model friendly.\""
   ]
  },
  {
   "cell_type": "markdown",
   "metadata": {
    "colab_type": "text",
    "id": "LMb9Ie5j-nEm",
    "slideshow": {
     "slide_type": "slide"
    }
   },
   "source": [
    "As I was working through some of this I was getting Keytype errors even though I double-checked that I was typing column names in correctly.  What I realized is that some of the columns have spaces in front of them that were causing the errors.  I am going to eliminate all of those here to make the rest of my work easier."
   ]
  },
  {
   "cell_type": "code",
   "execution_count": 109,
   "metadata": {
    "colab": {
     "base_uri": "https://localhost:8080/",
     "height": 87
    },
    "colab_type": "code",
    "executionInfo": {
     "elapsed": 40438,
     "status": "ok",
     "timestamp": 1580071224496,
     "user": {
      "displayName": "Vince Payne",
      "photoUrl": "https://lh3.googleusercontent.com/a-/AAuE7mCP60AdSc8hNhjbgz0TQ2KWP4jwdyaOnPMdvDrJAA=s64",
      "userId": "14103510985297891925"
     },
     "user_tz": 360
    },
    "id": "4lmXCO-UlSdC",
    "outputId": "40f433ff-827f-4c6e-d357-68309c82f7a7",
    "slideshow": {
     "slide_type": "fragment"
    }
   },
   "outputs": [
    {
     "name": "stdout",
     "output_type": "stream",
     "text": [
      "['age' ' workclass' ' fnlwgt' ' education' ' education-num'\n",
      " ' marital-status' ' occupation' ' relationship' ' race' ' sex'\n",
      " ' capital-gain' ' capital-loss' ' hours-per-week' ' native-country'\n",
      " ' income']\n"
     ]
    }
   ],
   "source": [
    "print(income_df.columns.values)"
   ]
  },
  {
   "cell_type": "code",
   "execution_count": 110,
   "metadata": {
    "colab": {},
    "colab_type": "code",
    "id": "DxblW6BS_Gdb",
    "slideshow": {
     "slide_type": "fragment"
    }
   },
   "outputs": [],
   "source": [
    "# This will remove the space in front of the income column name\n",
    "income_df.columns = income_df.columns.str.strip()"
   ]
  },
  {
   "cell_type": "code",
   "execution_count": 111,
   "metadata": {
    "colab": {
     "base_uri": "https://localhost:8080/",
     "height": 69
    },
    "colab_type": "code",
    "executionInfo": {
     "elapsed": 40711,
     "status": "ok",
     "timestamp": 1580071224782,
     "user": {
      "displayName": "Vince Payne",
      "photoUrl": "https://lh3.googleusercontent.com/a-/AAuE7mCP60AdSc8hNhjbgz0TQ2KWP4jwdyaOnPMdvDrJAA=s64",
      "userId": "14103510985297891925"
     },
     "user_tz": 360
    },
    "id": "w26qQaiT6Znf",
    "outputId": "c506155c-25e5-4ef3-c4b1-a01d888c9321",
    "slideshow": {
     "slide_type": "fragment"
    }
   },
   "outputs": [
    {
     "name": "stdout",
     "output_type": "stream",
     "text": [
      "['age' 'workclass' 'fnlwgt' 'education' 'education-num' 'marital-status'\n",
      " 'occupation' 'relationship' 'race' 'sex' 'capital-gain' 'capital-loss'\n",
      " 'hours-per-week' 'native-country' 'income']\n"
     ]
    }
   ],
   "source": [
    "print(income_df.columns.values)"
   ]
  },
  {
   "cell_type": "code",
   "execution_count": 112,
   "metadata": {
    "colab": {
     "base_uri": "https://localhost:8080/",
     "height": 355
    },
    "colab_type": "code",
    "executionInfo": {
     "elapsed": 40704,
     "status": "ok",
     "timestamp": 1580071224783,
     "user": {
      "displayName": "Vince Payne",
      "photoUrl": "https://lh3.googleusercontent.com/a-/AAuE7mCP60AdSc8hNhjbgz0TQ2KWP4jwdyaOnPMdvDrJAA=s64",
      "userId": "14103510985297891925"
     },
     "user_tz": 360
    },
    "id": "adS8-o9P8OWd",
    "outputId": "e38c0e49-8a41-4025-c948-2bb345942571",
    "slideshow": {
     "slide_type": "slide"
    }
   },
   "outputs": [
    {
     "data": {
      "text/html": [
       "<div>\n",
       "<style scoped>\n",
       "    .dataframe tbody tr th:only-of-type {\n",
       "        vertical-align: middle;\n",
       "    }\n",
       "\n",
       "    .dataframe tbody tr th {\n",
       "        vertical-align: top;\n",
       "    }\n",
       "\n",
       "    .dataframe thead th {\n",
       "        text-align: right;\n",
       "    }\n",
       "</style>\n",
       "<table border=\"1\" class=\"dataframe\">\n",
       "  <thead>\n",
       "    <tr style=\"text-align: right;\">\n",
       "      <th></th>\n",
       "      <th>age</th>\n",
       "      <th>workclass</th>\n",
       "      <th>fnlwgt</th>\n",
       "      <th>education</th>\n",
       "      <th>education-num</th>\n",
       "      <th>marital-status</th>\n",
       "      <th>occupation</th>\n",
       "      <th>relationship</th>\n",
       "      <th>race</th>\n",
       "      <th>sex</th>\n",
       "      <th>capital-gain</th>\n",
       "      <th>capital-loss</th>\n",
       "      <th>hours-per-week</th>\n",
       "      <th>native-country</th>\n",
       "      <th>income</th>\n",
       "    </tr>\n",
       "  </thead>\n",
       "  <tbody>\n",
       "    <tr>\n",
       "      <td>0</td>\n",
       "      <td>39</td>\n",
       "      <td>State-gov</td>\n",
       "      <td>77516</td>\n",
       "      <td>Bachelors</td>\n",
       "      <td>13</td>\n",
       "      <td>Never-married</td>\n",
       "      <td>Adm-clerical</td>\n",
       "      <td>Not-in-family</td>\n",
       "      <td>White</td>\n",
       "      <td>Male</td>\n",
       "      <td>2174</td>\n",
       "      <td>0</td>\n",
       "      <td>40</td>\n",
       "      <td>United-States</td>\n",
       "      <td>&lt;=50K</td>\n",
       "    </tr>\n",
       "    <tr>\n",
       "      <td>1</td>\n",
       "      <td>50</td>\n",
       "      <td>Self-emp-not-inc</td>\n",
       "      <td>83311</td>\n",
       "      <td>Bachelors</td>\n",
       "      <td>13</td>\n",
       "      <td>Married-civ-spouse</td>\n",
       "      <td>Exec-managerial</td>\n",
       "      <td>Husband</td>\n",
       "      <td>White</td>\n",
       "      <td>Male</td>\n",
       "      <td>0</td>\n",
       "      <td>0</td>\n",
       "      <td>13</td>\n",
       "      <td>United-States</td>\n",
       "      <td>&lt;=50K</td>\n",
       "    </tr>\n",
       "    <tr>\n",
       "      <td>2</td>\n",
       "      <td>38</td>\n",
       "      <td>Private</td>\n",
       "      <td>215646</td>\n",
       "      <td>HS-grad</td>\n",
       "      <td>9</td>\n",
       "      <td>Divorced</td>\n",
       "      <td>Handlers-cleaners</td>\n",
       "      <td>Not-in-family</td>\n",
       "      <td>White</td>\n",
       "      <td>Male</td>\n",
       "      <td>0</td>\n",
       "      <td>0</td>\n",
       "      <td>40</td>\n",
       "      <td>United-States</td>\n",
       "      <td>&lt;=50K</td>\n",
       "    </tr>\n",
       "    <tr>\n",
       "      <td>3</td>\n",
       "      <td>53</td>\n",
       "      <td>Private</td>\n",
       "      <td>234721</td>\n",
       "      <td>11th</td>\n",
       "      <td>7</td>\n",
       "      <td>Married-civ-spouse</td>\n",
       "      <td>Handlers-cleaners</td>\n",
       "      <td>Husband</td>\n",
       "      <td>Black</td>\n",
       "      <td>Male</td>\n",
       "      <td>0</td>\n",
       "      <td>0</td>\n",
       "      <td>40</td>\n",
       "      <td>United-States</td>\n",
       "      <td>&lt;=50K</td>\n",
       "    </tr>\n",
       "    <tr>\n",
       "      <td>4</td>\n",
       "      <td>28</td>\n",
       "      <td>Private</td>\n",
       "      <td>338409</td>\n",
       "      <td>Bachelors</td>\n",
       "      <td>13</td>\n",
       "      <td>Married-civ-spouse</td>\n",
       "      <td>Prof-specialty</td>\n",
       "      <td>Wife</td>\n",
       "      <td>Black</td>\n",
       "      <td>Female</td>\n",
       "      <td>0</td>\n",
       "      <td>0</td>\n",
       "      <td>40</td>\n",
       "      <td>Cuba</td>\n",
       "      <td>&lt;=50K</td>\n",
       "    </tr>\n",
       "    <tr>\n",
       "      <td>5</td>\n",
       "      <td>37</td>\n",
       "      <td>Private</td>\n",
       "      <td>284582</td>\n",
       "      <td>Masters</td>\n",
       "      <td>14</td>\n",
       "      <td>Married-civ-spouse</td>\n",
       "      <td>Exec-managerial</td>\n",
       "      <td>Wife</td>\n",
       "      <td>White</td>\n",
       "      <td>Female</td>\n",
       "      <td>0</td>\n",
       "      <td>0</td>\n",
       "      <td>40</td>\n",
       "      <td>United-States</td>\n",
       "      <td>&lt;=50K</td>\n",
       "    </tr>\n",
       "    <tr>\n",
       "      <td>6</td>\n",
       "      <td>49</td>\n",
       "      <td>Private</td>\n",
       "      <td>160187</td>\n",
       "      <td>9th</td>\n",
       "      <td>5</td>\n",
       "      <td>Married-spouse-absent</td>\n",
       "      <td>Other-service</td>\n",
       "      <td>Not-in-family</td>\n",
       "      <td>Black</td>\n",
       "      <td>Female</td>\n",
       "      <td>0</td>\n",
       "      <td>0</td>\n",
       "      <td>16</td>\n",
       "      <td>Jamaica</td>\n",
       "      <td>&lt;=50K</td>\n",
       "    </tr>\n",
       "    <tr>\n",
       "      <td>7</td>\n",
       "      <td>52</td>\n",
       "      <td>Self-emp-not-inc</td>\n",
       "      <td>209642</td>\n",
       "      <td>HS-grad</td>\n",
       "      <td>9</td>\n",
       "      <td>Married-civ-spouse</td>\n",
       "      <td>Exec-managerial</td>\n",
       "      <td>Husband</td>\n",
       "      <td>White</td>\n",
       "      <td>Male</td>\n",
       "      <td>0</td>\n",
       "      <td>0</td>\n",
       "      <td>45</td>\n",
       "      <td>United-States</td>\n",
       "      <td>&gt;50K</td>\n",
       "    </tr>\n",
       "    <tr>\n",
       "      <td>8</td>\n",
       "      <td>31</td>\n",
       "      <td>Private</td>\n",
       "      <td>45781</td>\n",
       "      <td>Masters</td>\n",
       "      <td>14</td>\n",
       "      <td>Never-married</td>\n",
       "      <td>Prof-specialty</td>\n",
       "      <td>Not-in-family</td>\n",
       "      <td>White</td>\n",
       "      <td>Female</td>\n",
       "      <td>14084</td>\n",
       "      <td>0</td>\n",
       "      <td>50</td>\n",
       "      <td>United-States</td>\n",
       "      <td>&gt;50K</td>\n",
       "    </tr>\n",
       "    <tr>\n",
       "      <td>9</td>\n",
       "      <td>42</td>\n",
       "      <td>Private</td>\n",
       "      <td>159449</td>\n",
       "      <td>Bachelors</td>\n",
       "      <td>13</td>\n",
       "      <td>Married-civ-spouse</td>\n",
       "      <td>Exec-managerial</td>\n",
       "      <td>Husband</td>\n",
       "      <td>White</td>\n",
       "      <td>Male</td>\n",
       "      <td>5178</td>\n",
       "      <td>0</td>\n",
       "      <td>40</td>\n",
       "      <td>United-States</td>\n",
       "      <td>&gt;50K</td>\n",
       "    </tr>\n",
       "  </tbody>\n",
       "</table>\n",
       "</div>"
      ],
      "text/plain": [
       "   age          workclass  fnlwgt   education  education-num  \\\n",
       "0   39          State-gov   77516   Bachelors             13   \n",
       "1   50   Self-emp-not-inc   83311   Bachelors             13   \n",
       "2   38            Private  215646     HS-grad              9   \n",
       "3   53            Private  234721        11th              7   \n",
       "4   28            Private  338409   Bachelors             13   \n",
       "5   37            Private  284582     Masters             14   \n",
       "6   49            Private  160187         9th              5   \n",
       "7   52   Self-emp-not-inc  209642     HS-grad              9   \n",
       "8   31            Private   45781     Masters             14   \n",
       "9   42            Private  159449   Bachelors             13   \n",
       "\n",
       "           marital-status          occupation    relationship    race  \\\n",
       "0           Never-married        Adm-clerical   Not-in-family   White   \n",
       "1      Married-civ-spouse     Exec-managerial         Husband   White   \n",
       "2                Divorced   Handlers-cleaners   Not-in-family   White   \n",
       "3      Married-civ-spouse   Handlers-cleaners         Husband   Black   \n",
       "4      Married-civ-spouse      Prof-specialty            Wife   Black   \n",
       "5      Married-civ-spouse     Exec-managerial            Wife   White   \n",
       "6   Married-spouse-absent       Other-service   Not-in-family   Black   \n",
       "7      Married-civ-spouse     Exec-managerial         Husband   White   \n",
       "8           Never-married      Prof-specialty   Not-in-family   White   \n",
       "9      Married-civ-spouse     Exec-managerial         Husband   White   \n",
       "\n",
       "       sex  capital-gain  capital-loss  hours-per-week  native-country  income  \n",
       "0     Male          2174             0              40   United-States   <=50K  \n",
       "1     Male             0             0              13   United-States   <=50K  \n",
       "2     Male             0             0              40   United-States   <=50K  \n",
       "3     Male             0             0              40   United-States   <=50K  \n",
       "4   Female             0             0              40            Cuba   <=50K  \n",
       "5   Female             0             0              40   United-States   <=50K  \n",
       "6   Female             0             0              16         Jamaica   <=50K  \n",
       "7     Male             0             0              45   United-States    >50K  \n",
       "8   Female         14084             0              50   United-States    >50K  \n",
       "9     Male          5178             0              40   United-States    >50K  "
      ]
     },
     "execution_count": 112,
     "metadata": {},
     "output_type": "execute_result"
    }
   ],
   "source": [
    "income_df.head(10)"
   ]
  },
  {
   "cell_type": "markdown",
   "metadata": {
    "colab_type": "text",
    "id": "UsNZaLbFCr-3",
    "slideshow": {
     "slide_type": "slide"
    }
   },
   "source": [
    "# Target Variable: Income\n",
    "My goal is to use a classification model to classify each person into one of two categories: <=50k or > 50k.  I am going to look more in-depth at my target variable and make some comparisons to the other features of it to get a better idea of what I am working with.  To use this variable with my model I need to make it an integer.  I have decided to create a column called '>50K' that will return a 1 if they make more than 50K and a 0 if they make less.\n",
    "\n",
    "I will be using this section to explore the data in relation to the income variable."
   ]
  },
  {
   "cell_type": "code",
   "execution_count": 113,
   "metadata": {
    "colab": {
     "base_uri": "https://localhost:8080/",
     "height": 415
    },
    "colab_type": "code",
    "executionInfo": {
     "elapsed": 40696,
     "status": "ok",
     "timestamp": 1580071224785,
     "user": {
      "displayName": "Vince Payne",
      "photoUrl": "https://lh3.googleusercontent.com/a-/AAuE7mCP60AdSc8hNhjbgz0TQ2KWP4jwdyaOnPMdvDrJAA=s64",
      "userId": "14103510985297891925"
     },
     "user_tz": 360
    },
    "id": "Tcretgda2SQ5",
    "outputId": "85570353-ead4-4dc4-93b2-284484e6257e",
    "slideshow": {
     "slide_type": "slide"
    }
   },
   "outputs": [
    {
     "data": {
      "text/html": [
       "<div>\n",
       "<style scoped>\n",
       "    .dataframe tbody tr th:only-of-type {\n",
       "        vertical-align: middle;\n",
       "    }\n",
       "\n",
       "    .dataframe tbody tr th {\n",
       "        vertical-align: top;\n",
       "    }\n",
       "\n",
       "    .dataframe thead th {\n",
       "        text-align: right;\n",
       "    }\n",
       "</style>\n",
       "<table border=\"1\" class=\"dataframe\">\n",
       "  <thead>\n",
       "    <tr style=\"text-align: right;\">\n",
       "      <th></th>\n",
       "      <th>age</th>\n",
       "      <th>workclass</th>\n",
       "      <th>fnlwgt</th>\n",
       "      <th>education</th>\n",
       "      <th>education-num</th>\n",
       "      <th>marital-status</th>\n",
       "      <th>occupation</th>\n",
       "      <th>relationship</th>\n",
       "      <th>race</th>\n",
       "      <th>sex</th>\n",
       "      <th>capital-gain</th>\n",
       "      <th>capital-loss</th>\n",
       "      <th>hours-per-week</th>\n",
       "      <th>native-country</th>\n",
       "      <th>income</th>\n",
       "      <th>&gt;50K</th>\n",
       "    </tr>\n",
       "  </thead>\n",
       "  <tbody>\n",
       "    <tr>\n",
       "      <td>0</td>\n",
       "      <td>39</td>\n",
       "      <td>State-gov</td>\n",
       "      <td>77516</td>\n",
       "      <td>Bachelors</td>\n",
       "      <td>13</td>\n",
       "      <td>Never-married</td>\n",
       "      <td>Adm-clerical</td>\n",
       "      <td>Not-in-family</td>\n",
       "      <td>White</td>\n",
       "      <td>Male</td>\n",
       "      <td>2174</td>\n",
       "      <td>0</td>\n",
       "      <td>40</td>\n",
       "      <td>United-States</td>\n",
       "      <td>&lt;=50K</td>\n",
       "      <td>0</td>\n",
       "    </tr>\n",
       "    <tr>\n",
       "      <td>1</td>\n",
       "      <td>50</td>\n",
       "      <td>Self-emp-not-inc</td>\n",
       "      <td>83311</td>\n",
       "      <td>Bachelors</td>\n",
       "      <td>13</td>\n",
       "      <td>Married-civ-spouse</td>\n",
       "      <td>Exec-managerial</td>\n",
       "      <td>Husband</td>\n",
       "      <td>White</td>\n",
       "      <td>Male</td>\n",
       "      <td>0</td>\n",
       "      <td>0</td>\n",
       "      <td>13</td>\n",
       "      <td>United-States</td>\n",
       "      <td>&lt;=50K</td>\n",
       "      <td>0</td>\n",
       "    </tr>\n",
       "    <tr>\n",
       "      <td>2</td>\n",
       "      <td>38</td>\n",
       "      <td>Private</td>\n",
       "      <td>215646</td>\n",
       "      <td>HS-grad</td>\n",
       "      <td>9</td>\n",
       "      <td>Divorced</td>\n",
       "      <td>Handlers-cleaners</td>\n",
       "      <td>Not-in-family</td>\n",
       "      <td>White</td>\n",
       "      <td>Male</td>\n",
       "      <td>0</td>\n",
       "      <td>0</td>\n",
       "      <td>40</td>\n",
       "      <td>United-States</td>\n",
       "      <td>&lt;=50K</td>\n",
       "      <td>0</td>\n",
       "    </tr>\n",
       "    <tr>\n",
       "      <td>3</td>\n",
       "      <td>53</td>\n",
       "      <td>Private</td>\n",
       "      <td>234721</td>\n",
       "      <td>11th</td>\n",
       "      <td>7</td>\n",
       "      <td>Married-civ-spouse</td>\n",
       "      <td>Handlers-cleaners</td>\n",
       "      <td>Husband</td>\n",
       "      <td>Black</td>\n",
       "      <td>Male</td>\n",
       "      <td>0</td>\n",
       "      <td>0</td>\n",
       "      <td>40</td>\n",
       "      <td>United-States</td>\n",
       "      <td>&lt;=50K</td>\n",
       "      <td>0</td>\n",
       "    </tr>\n",
       "    <tr>\n",
       "      <td>4</td>\n",
       "      <td>28</td>\n",
       "      <td>Private</td>\n",
       "      <td>338409</td>\n",
       "      <td>Bachelors</td>\n",
       "      <td>13</td>\n",
       "      <td>Married-civ-spouse</td>\n",
       "      <td>Prof-specialty</td>\n",
       "      <td>Wife</td>\n",
       "      <td>Black</td>\n",
       "      <td>Female</td>\n",
       "      <td>0</td>\n",
       "      <td>0</td>\n",
       "      <td>40</td>\n",
       "      <td>Cuba</td>\n",
       "      <td>&lt;=50K</td>\n",
       "      <td>0</td>\n",
       "    </tr>\n",
       "    <tr>\n",
       "      <td>...</td>\n",
       "      <td>...</td>\n",
       "      <td>...</td>\n",
       "      <td>...</td>\n",
       "      <td>...</td>\n",
       "      <td>...</td>\n",
       "      <td>...</td>\n",
       "      <td>...</td>\n",
       "      <td>...</td>\n",
       "      <td>...</td>\n",
       "      <td>...</td>\n",
       "      <td>...</td>\n",
       "      <td>...</td>\n",
       "      <td>...</td>\n",
       "      <td>...</td>\n",
       "      <td>...</td>\n",
       "      <td>...</td>\n",
       "    </tr>\n",
       "    <tr>\n",
       "      <td>32556</td>\n",
       "      <td>27</td>\n",
       "      <td>Private</td>\n",
       "      <td>257302</td>\n",
       "      <td>Assoc-acdm</td>\n",
       "      <td>12</td>\n",
       "      <td>Married-civ-spouse</td>\n",
       "      <td>Tech-support</td>\n",
       "      <td>Wife</td>\n",
       "      <td>White</td>\n",
       "      <td>Female</td>\n",
       "      <td>0</td>\n",
       "      <td>0</td>\n",
       "      <td>38</td>\n",
       "      <td>United-States</td>\n",
       "      <td>&lt;=50K</td>\n",
       "      <td>0</td>\n",
       "    </tr>\n",
       "    <tr>\n",
       "      <td>32557</td>\n",
       "      <td>40</td>\n",
       "      <td>Private</td>\n",
       "      <td>154374</td>\n",
       "      <td>HS-grad</td>\n",
       "      <td>9</td>\n",
       "      <td>Married-civ-spouse</td>\n",
       "      <td>Machine-op-inspct</td>\n",
       "      <td>Husband</td>\n",
       "      <td>White</td>\n",
       "      <td>Male</td>\n",
       "      <td>0</td>\n",
       "      <td>0</td>\n",
       "      <td>40</td>\n",
       "      <td>United-States</td>\n",
       "      <td>&gt;50K</td>\n",
       "      <td>1</td>\n",
       "    </tr>\n",
       "    <tr>\n",
       "      <td>32558</td>\n",
       "      <td>58</td>\n",
       "      <td>Private</td>\n",
       "      <td>151910</td>\n",
       "      <td>HS-grad</td>\n",
       "      <td>9</td>\n",
       "      <td>Widowed</td>\n",
       "      <td>Adm-clerical</td>\n",
       "      <td>Unmarried</td>\n",
       "      <td>White</td>\n",
       "      <td>Female</td>\n",
       "      <td>0</td>\n",
       "      <td>0</td>\n",
       "      <td>40</td>\n",
       "      <td>United-States</td>\n",
       "      <td>&lt;=50K</td>\n",
       "      <td>0</td>\n",
       "    </tr>\n",
       "    <tr>\n",
       "      <td>32559</td>\n",
       "      <td>22</td>\n",
       "      <td>Private</td>\n",
       "      <td>201490</td>\n",
       "      <td>HS-grad</td>\n",
       "      <td>9</td>\n",
       "      <td>Never-married</td>\n",
       "      <td>Adm-clerical</td>\n",
       "      <td>Own-child</td>\n",
       "      <td>White</td>\n",
       "      <td>Male</td>\n",
       "      <td>0</td>\n",
       "      <td>0</td>\n",
       "      <td>20</td>\n",
       "      <td>United-States</td>\n",
       "      <td>&lt;=50K</td>\n",
       "      <td>0</td>\n",
       "    </tr>\n",
       "    <tr>\n",
       "      <td>32560</td>\n",
       "      <td>52</td>\n",
       "      <td>Self-emp-inc</td>\n",
       "      <td>287927</td>\n",
       "      <td>HS-grad</td>\n",
       "      <td>9</td>\n",
       "      <td>Married-civ-spouse</td>\n",
       "      <td>Exec-managerial</td>\n",
       "      <td>Wife</td>\n",
       "      <td>White</td>\n",
       "      <td>Female</td>\n",
       "      <td>15024</td>\n",
       "      <td>0</td>\n",
       "      <td>40</td>\n",
       "      <td>United-States</td>\n",
       "      <td>&gt;50K</td>\n",
       "      <td>1</td>\n",
       "    </tr>\n",
       "  </tbody>\n",
       "</table>\n",
       "<p>32561 rows × 16 columns</p>\n",
       "</div>"
      ],
      "text/plain": [
       "       age          workclass  fnlwgt    education  education-num  \\\n",
       "0       39          State-gov   77516    Bachelors             13   \n",
       "1       50   Self-emp-not-inc   83311    Bachelors             13   \n",
       "2       38            Private  215646      HS-grad              9   \n",
       "3       53            Private  234721         11th              7   \n",
       "4       28            Private  338409    Bachelors             13   \n",
       "...    ...                ...     ...          ...            ...   \n",
       "32556   27            Private  257302   Assoc-acdm             12   \n",
       "32557   40            Private  154374      HS-grad              9   \n",
       "32558   58            Private  151910      HS-grad              9   \n",
       "32559   22            Private  201490      HS-grad              9   \n",
       "32560   52       Self-emp-inc  287927      HS-grad              9   \n",
       "\n",
       "            marital-status          occupation    relationship    race  \\\n",
       "0            Never-married        Adm-clerical   Not-in-family   White   \n",
       "1       Married-civ-spouse     Exec-managerial         Husband   White   \n",
       "2                 Divorced   Handlers-cleaners   Not-in-family   White   \n",
       "3       Married-civ-spouse   Handlers-cleaners         Husband   Black   \n",
       "4       Married-civ-spouse      Prof-specialty            Wife   Black   \n",
       "...                    ...                 ...             ...     ...   \n",
       "32556   Married-civ-spouse        Tech-support            Wife   White   \n",
       "32557   Married-civ-spouse   Machine-op-inspct         Husband   White   \n",
       "32558              Widowed        Adm-clerical       Unmarried   White   \n",
       "32559        Never-married        Adm-clerical       Own-child   White   \n",
       "32560   Married-civ-spouse     Exec-managerial            Wife   White   \n",
       "\n",
       "           sex  capital-gain  capital-loss  hours-per-week  native-country  \\\n",
       "0         Male          2174             0              40   United-States   \n",
       "1         Male             0             0              13   United-States   \n",
       "2         Male             0             0              40   United-States   \n",
       "3         Male             0             0              40   United-States   \n",
       "4       Female             0             0              40            Cuba   \n",
       "...        ...           ...           ...             ...             ...   \n",
       "32556   Female             0             0              38   United-States   \n",
       "32557     Male             0             0              40   United-States   \n",
       "32558   Female             0             0              40   United-States   \n",
       "32559     Male             0             0              20   United-States   \n",
       "32560   Female         15024             0              40   United-States   \n",
       "\n",
       "       income  >50K  \n",
       "0       <=50K     0  \n",
       "1       <=50K     0  \n",
       "2       <=50K     0  \n",
       "3       <=50K     0  \n",
       "4       <=50K     0  \n",
       "...       ...   ...  \n",
       "32556   <=50K     0  \n",
       "32557    >50K     1  \n",
       "32558   <=50K     0  \n",
       "32559   <=50K     0  \n",
       "32560    >50K     1  \n",
       "\n",
       "[32561 rows x 16 columns]"
      ]
     },
     "execution_count": 113,
     "metadata": {},
     "output_type": "execute_result"
    }
   ],
   "source": [
    "# The first thing I need to do is make my target variable, income, into an integer.\n",
    "# I am going to do this by turning it into a column that identifies whether someone\n",
    "# makes less than 50k or more than 50k\n",
    "# A 0 means they earn less than 50k and a 1 means they earn more\n",
    "\n",
    "income_df['>50K'] = pd.get_dummies(income_df['income'], drop_first=True)\n",
    "income_df"
   ]
  },
  {
   "cell_type": "code",
   "execution_count": 114,
   "metadata": {
    "colab": {
     "base_uri": "https://localhost:8080/",
     "height": 313
    },
    "colab_type": "code",
    "executionInfo": {
     "elapsed": 40690,
     "status": "ok",
     "timestamp": 1580071224786,
     "user": {
      "displayName": "Vince Payne",
      "photoUrl": "https://lh3.googleusercontent.com/a-/AAuE7mCP60AdSc8hNhjbgz0TQ2KWP4jwdyaOnPMdvDrJAA=s64",
      "userId": "14103510985297891925"
     },
     "user_tz": 360
    },
    "id": "re7HfxaZDfWr",
    "outputId": "e7709d33-f6fa-449b-c213-41d6fff038ca",
    "slideshow": {
     "slide_type": "slide"
    }
   },
   "outputs": [
    {
     "data": {
      "text/plain": [
       "Text(0.5, 1.0, 'Number of people sorted by their income')"
      ]
     },
     "execution_count": 114,
     "metadata": {},
     "output_type": "execute_result"
    },
    {
     "data": {
      "image/png": "[encoded data removed]",
      "text/plain": [
       "<Figure size 432x288 with 1 Axes>"
      ]
     },
     "metadata": {
      "needs_background": "light"
     },
     "output_type": "display_data"
    }
   ],
   "source": [
    "income_df['income'].value_counts().plot(kind='bar', rot=0)\n",
    "plt.xlabel('Income')\n",
    "plt.ylabel('Number of people')\n",
    "plt.title('Number of people sorted by their income')"
   ]
  },
  {
   "cell_type": "markdown",
   "metadata": {
    "slideshow": {
     "slide_type": "fragment"
    }
   },
   "source": [
    "It is clear the majority of the people in my dataset fall into the <=50K category.  This makes sense (based on the United States, which as we will see later makes up the majority of this dataset, because the average salary is $47,060 (according to the Bureau of Labor Statistics, first quarter of 2019)."
   ]
  },
  {
   "cell_type": "markdown",
   "metadata": {
    "colab_type": "text",
    "id": "V_uR_Gip3-xB",
    "slideshow": {
     "slide_type": "slide"
    }
   },
   "source": [
    "# Gender"
   ]
  },
  {
   "cell_type": "markdown",
   "metadata": {
    "colab_type": "text",
    "id": "ZnXkyUsnB_9L",
    "slideshow": {
     "slide_type": "fragment"
    }
   },
   "source": [
    "I am going to start taking a closer look at the different features that I will be using in the models to make them ready to be used.  First, I am starting with the 'sex' column to get an idea of the number of people I'm working with and how best to make this into a numerical column."
   ]
  },
  {
   "cell_type": "code",
   "execution_count": 115,
   "metadata": {
    "colab": {},
    "colab_type": "code",
    "id": "t3jaog7_Va3-",
    "slideshow": {
     "slide_type": "fragment"
    }
   },
   "outputs": [],
   "source": [
    "# To help me examine the data by gender I am creating a new column that\n",
    "# will tell me if the person is male or female and makes less than 50K or \n",
    "# more than 50K\n",
    "def new_column(row):\n",
    "  \n",
    "  if row['sex'].strip() == 'Male' and row['income'].strip() == '<=50K':\n",
    "    return \"Male <=50K\"\n",
    "  elif row['sex'].strip() == 'Male' and row['income'].strip() == '>50K':\n",
    "    return 'Male >50K'\n",
    "  elif row['sex'].strip() == 'Female' and row['income'].strip() == '<=50K':\n",
    "    return 'Female <=50K'\n",
    "  else:\n",
    "    return 'Female >50K'\n",
    "\n",
    "income_df['Money_by_sex'] = income_df.apply(new_column, axis='columns')"
   ]
  },
  {
   "cell_type": "code",
   "execution_count": 116,
   "metadata": {
    "colab": {
     "base_uri": "https://localhost:8080/",
     "height": 0
    },
    "colab_type": "code",
    "executionInfo": {
     "elapsed": 41659,
     "status": "ok",
     "timestamp": 1580071225765,
     "user": {
      "displayName": "Vince Payne",
      "photoUrl": "https://lh3.googleusercontent.com/a-/AAuE7mCP60AdSc8hNhjbgz0TQ2KWP4jwdyaOnPMdvDrJAA=s64",
      "userId": "14103510985297891925"
     },
     "user_tz": 360
    },
    "id": "nDEEu6kPVp9q",
    "outputId": "8cf7e63c-b3ab-4b00-c3b5-bbc4afc71cc9",
    "slideshow": {
     "slide_type": "slide"
    }
   },
   "outputs": [
    {
     "data": {
      "text/html": [
       "<div>\n",
       "<style scoped>\n",
       "    .dataframe tbody tr th:only-of-type {\n",
       "        vertical-align: middle;\n",
       "    }\n",
       "\n",
       "    .dataframe tbody tr th {\n",
       "        vertical-align: top;\n",
       "    }\n",
       "\n",
       "    .dataframe thead th {\n",
       "        text-align: right;\n",
       "    }\n",
       "</style>\n",
       "<table border=\"1\" class=\"dataframe\">\n",
       "  <thead>\n",
       "    <tr style=\"text-align: right;\">\n",
       "      <th></th>\n",
       "      <th>age</th>\n",
       "      <th>workclass</th>\n",
       "      <th>fnlwgt</th>\n",
       "      <th>education</th>\n",
       "      <th>education-num</th>\n",
       "      <th>marital-status</th>\n",
       "      <th>occupation</th>\n",
       "      <th>relationship</th>\n",
       "      <th>race</th>\n",
       "      <th>sex</th>\n",
       "      <th>capital-gain</th>\n",
       "      <th>capital-loss</th>\n",
       "      <th>hours-per-week</th>\n",
       "      <th>native-country</th>\n",
       "      <th>income</th>\n",
       "      <th>&gt;50K</th>\n",
       "      <th>Money_by_sex</th>\n",
       "    </tr>\n",
       "  </thead>\n",
       "  <tbody>\n",
       "    <tr>\n",
       "      <td>0</td>\n",
       "      <td>39</td>\n",
       "      <td>State-gov</td>\n",
       "      <td>77516</td>\n",
       "      <td>Bachelors</td>\n",
       "      <td>13</td>\n",
       "      <td>Never-married</td>\n",
       "      <td>Adm-clerical</td>\n",
       "      <td>Not-in-family</td>\n",
       "      <td>White</td>\n",
       "      <td>Male</td>\n",
       "      <td>2174</td>\n",
       "      <td>0</td>\n",
       "      <td>40</td>\n",
       "      <td>United-States</td>\n",
       "      <td>&lt;=50K</td>\n",
       "      <td>0</td>\n",
       "      <td>Male &lt;=50K</td>\n",
       "    </tr>\n",
       "    <tr>\n",
       "      <td>1</td>\n",
       "      <td>50</td>\n",
       "      <td>Self-emp-not-inc</td>\n",
       "      <td>83311</td>\n",
       "      <td>Bachelors</td>\n",
       "      <td>13</td>\n",
       "      <td>Married-civ-spouse</td>\n",
       "      <td>Exec-managerial</td>\n",
       "      <td>Husband</td>\n",
       "      <td>White</td>\n",
       "      <td>Male</td>\n",
       "      <td>0</td>\n",
       "      <td>0</td>\n",
       "      <td>13</td>\n",
       "      <td>United-States</td>\n",
       "      <td>&lt;=50K</td>\n",
       "      <td>0</td>\n",
       "      <td>Male &lt;=50K</td>\n",
       "    </tr>\n",
       "    <tr>\n",
       "      <td>2</td>\n",
       "      <td>38</td>\n",
       "      <td>Private</td>\n",
       "      <td>215646</td>\n",
       "      <td>HS-grad</td>\n",
       "      <td>9</td>\n",
       "      <td>Divorced</td>\n",
       "      <td>Handlers-cleaners</td>\n",
       "      <td>Not-in-family</td>\n",
       "      <td>White</td>\n",
       "      <td>Male</td>\n",
       "      <td>0</td>\n",
       "      <td>0</td>\n",
       "      <td>40</td>\n",
       "      <td>United-States</td>\n",
       "      <td>&lt;=50K</td>\n",
       "      <td>0</td>\n",
       "      <td>Male &lt;=50K</td>\n",
       "    </tr>\n",
       "    <tr>\n",
       "      <td>3</td>\n",
       "      <td>53</td>\n",
       "      <td>Private</td>\n",
       "      <td>234721</td>\n",
       "      <td>11th</td>\n",
       "      <td>7</td>\n",
       "      <td>Married-civ-spouse</td>\n",
       "      <td>Handlers-cleaners</td>\n",
       "      <td>Husband</td>\n",
       "      <td>Black</td>\n",
       "      <td>Male</td>\n",
       "      <td>0</td>\n",
       "      <td>0</td>\n",
       "      <td>40</td>\n",
       "      <td>United-States</td>\n",
       "      <td>&lt;=50K</td>\n",
       "      <td>0</td>\n",
       "      <td>Male &lt;=50K</td>\n",
       "    </tr>\n",
       "    <tr>\n",
       "      <td>4</td>\n",
       "      <td>28</td>\n",
       "      <td>Private</td>\n",
       "      <td>338409</td>\n",
       "      <td>Bachelors</td>\n",
       "      <td>13</td>\n",
       "      <td>Married-civ-spouse</td>\n",
       "      <td>Prof-specialty</td>\n",
       "      <td>Wife</td>\n",
       "      <td>Black</td>\n",
       "      <td>Female</td>\n",
       "      <td>0</td>\n",
       "      <td>0</td>\n",
       "      <td>40</td>\n",
       "      <td>Cuba</td>\n",
       "      <td>&lt;=50K</td>\n",
       "      <td>0</td>\n",
       "      <td>Female &lt;=50K</td>\n",
       "    </tr>\n",
       "    <tr>\n",
       "      <td>5</td>\n",
       "      <td>37</td>\n",
       "      <td>Private</td>\n",
       "      <td>284582</td>\n",
       "      <td>Masters</td>\n",
       "      <td>14</td>\n",
       "      <td>Married-civ-spouse</td>\n",
       "      <td>Exec-managerial</td>\n",
       "      <td>Wife</td>\n",
       "      <td>White</td>\n",
       "      <td>Female</td>\n",
       "      <td>0</td>\n",
       "      <td>0</td>\n",
       "      <td>40</td>\n",
       "      <td>United-States</td>\n",
       "      <td>&lt;=50K</td>\n",
       "      <td>0</td>\n",
       "      <td>Female &lt;=50K</td>\n",
       "    </tr>\n",
       "    <tr>\n",
       "      <td>6</td>\n",
       "      <td>49</td>\n",
       "      <td>Private</td>\n",
       "      <td>160187</td>\n",
       "      <td>9th</td>\n",
       "      <td>5</td>\n",
       "      <td>Married-spouse-absent</td>\n",
       "      <td>Other-service</td>\n",
       "      <td>Not-in-family</td>\n",
       "      <td>Black</td>\n",
       "      <td>Female</td>\n",
       "      <td>0</td>\n",
       "      <td>0</td>\n",
       "      <td>16</td>\n",
       "      <td>Jamaica</td>\n",
       "      <td>&lt;=50K</td>\n",
       "      <td>0</td>\n",
       "      <td>Female &lt;=50K</td>\n",
       "    </tr>\n",
       "    <tr>\n",
       "      <td>7</td>\n",
       "      <td>52</td>\n",
       "      <td>Self-emp-not-inc</td>\n",
       "      <td>209642</td>\n",
       "      <td>HS-grad</td>\n",
       "      <td>9</td>\n",
       "      <td>Married-civ-spouse</td>\n",
       "      <td>Exec-managerial</td>\n",
       "      <td>Husband</td>\n",
       "      <td>White</td>\n",
       "      <td>Male</td>\n",
       "      <td>0</td>\n",
       "      <td>0</td>\n",
       "      <td>45</td>\n",
       "      <td>United-States</td>\n",
       "      <td>&gt;50K</td>\n",
       "      <td>1</td>\n",
       "      <td>Male &gt;50K</td>\n",
       "    </tr>\n",
       "    <tr>\n",
       "      <td>8</td>\n",
       "      <td>31</td>\n",
       "      <td>Private</td>\n",
       "      <td>45781</td>\n",
       "      <td>Masters</td>\n",
       "      <td>14</td>\n",
       "      <td>Never-married</td>\n",
       "      <td>Prof-specialty</td>\n",
       "      <td>Not-in-family</td>\n",
       "      <td>White</td>\n",
       "      <td>Female</td>\n",
       "      <td>14084</td>\n",
       "      <td>0</td>\n",
       "      <td>50</td>\n",
       "      <td>United-States</td>\n",
       "      <td>&gt;50K</td>\n",
       "      <td>1</td>\n",
       "      <td>Female &gt;50K</td>\n",
       "    </tr>\n",
       "    <tr>\n",
       "      <td>9</td>\n",
       "      <td>42</td>\n",
       "      <td>Private</td>\n",
       "      <td>159449</td>\n",
       "      <td>Bachelors</td>\n",
       "      <td>13</td>\n",
       "      <td>Married-civ-spouse</td>\n",
       "      <td>Exec-managerial</td>\n",
       "      <td>Husband</td>\n",
       "      <td>White</td>\n",
       "      <td>Male</td>\n",
       "      <td>5178</td>\n",
       "      <td>0</td>\n",
       "      <td>40</td>\n",
       "      <td>United-States</td>\n",
       "      <td>&gt;50K</td>\n",
       "      <td>1</td>\n",
       "      <td>Male &gt;50K</td>\n",
       "    </tr>\n",
       "  </tbody>\n",
       "</table>\n",
       "</div>"
      ],
      "text/plain": [
       "   age          workclass  fnlwgt   education  education-num  \\\n",
       "0   39          State-gov   77516   Bachelors             13   \n",
       "1   50   Self-emp-not-inc   83311   Bachelors             13   \n",
       "2   38            Private  215646     HS-grad              9   \n",
       "3   53            Private  234721        11th              7   \n",
       "4   28            Private  338409   Bachelors             13   \n",
       "5   37            Private  284582     Masters             14   \n",
       "6   49            Private  160187         9th              5   \n",
       "7   52   Self-emp-not-inc  209642     HS-grad              9   \n",
       "8   31            Private   45781     Masters             14   \n",
       "9   42            Private  159449   Bachelors             13   \n",
       "\n",
       "           marital-status          occupation    relationship    race  \\\n",
       "0           Never-married        Adm-clerical   Not-in-family   White   \n",
       "1      Married-civ-spouse     Exec-managerial         Husband   White   \n",
       "2                Divorced   Handlers-cleaners   Not-in-family   White   \n",
       "3      Married-civ-spouse   Handlers-cleaners         Husband   Black   \n",
       "4      Married-civ-spouse      Prof-specialty            Wife   Black   \n",
       "5      Married-civ-spouse     Exec-managerial            Wife   White   \n",
       "6   Married-spouse-absent       Other-service   Not-in-family   Black   \n",
       "7      Married-civ-spouse     Exec-managerial         Husband   White   \n",
       "8           Never-married      Prof-specialty   Not-in-family   White   \n",
       "9      Married-civ-spouse     Exec-managerial         Husband   White   \n",
       "\n",
       "       sex  capital-gain  capital-loss  hours-per-week  native-country  \\\n",
       "0     Male          2174             0              40   United-States   \n",
       "1     Male             0             0              13   United-States   \n",
       "2     Male             0             0              40   United-States   \n",
       "3     Male             0             0              40   United-States   \n",
       "4   Female             0             0              40            Cuba   \n",
       "5   Female             0             0              40   United-States   \n",
       "6   Female             0             0              16         Jamaica   \n",
       "7     Male             0             0              45   United-States   \n",
       "8   Female         14084             0              50   United-States   \n",
       "9     Male          5178             0              40   United-States   \n",
       "\n",
       "   income  >50K  Money_by_sex  \n",
       "0   <=50K     0    Male <=50K  \n",
       "1   <=50K     0    Male <=50K  \n",
       "2   <=50K     0    Male <=50K  \n",
       "3   <=50K     0    Male <=50K  \n",
       "4   <=50K     0  Female <=50K  \n",
       "5   <=50K     0  Female <=50K  \n",
       "6   <=50K     0  Female <=50K  \n",
       "7    >50K     1     Male >50K  \n",
       "8    >50K     1   Female >50K  \n",
       "9    >50K     1     Male >50K  "
      ]
     },
     "execution_count": 116,
     "metadata": {},
     "output_type": "execute_result"
    }
   ],
   "source": [
    "income_df.head(10)"
   ]
  },
  {
   "cell_type": "code",
   "execution_count": 117,
   "metadata": {
    "colab": {
     "base_uri": "https://localhost:8080/",
     "height": 0
    },
    "colab_type": "code",
    "executionInfo": {
     "elapsed": 41652,
     "status": "ok",
     "timestamp": 1580071225766,
     "user": {
      "displayName": "Vince Payne",
      "photoUrl": "https://lh3.googleusercontent.com/a-/AAuE7mCP60AdSc8hNhjbgz0TQ2KWP4jwdyaOnPMdvDrJAA=s64",
      "userId": "14103510985297891925"
     },
     "user_tz": 360
    },
    "id": "Sw5sfGYVW_nl",
    "outputId": "d95e1406-5f15-4b53-daa7-cefa3c82b355",
    "slideshow": {
     "slide_type": "slide"
    }
   },
   "outputs": [
    {
     "data": {
      "text/plain": [
       "Text(0.5, 1.0, 'Income graphed by Gender')"
      ]
     },
     "execution_count": 117,
     "metadata": {},
     "output_type": "execute_result"
    },
    {
     "data": {
      "image/png": "[encoded data removed]",
      "text/plain": [
       "<Figure size 432x288 with 1 Axes>"
      ]
     },
     "metadata": {
      "needs_background": "light"
     },
     "output_type": "display_data"
    }
   ],
   "source": [
    "income_df['Money_by_sex'].value_counts().plot(kind='bar', rot=0)\n",
    "plt.xlabel('Gender by Income')\n",
    "plt.ylabel('Number of People')\n",
    "plt.title('Income graphed by Gender')"
   ]
  },
  {
   "cell_type": "code",
   "execution_count": 118,
   "metadata": {
    "colab": {
     "base_uri": "https://localhost:8080/",
     "height": 0
    },
    "colab_type": "code",
    "executionInfo": {
     "elapsed": 41863,
     "status": "ok",
     "timestamp": 1580071225986,
     "user": {
      "displayName": "Vince Payne",
      "photoUrl": "https://lh3.googleusercontent.com/a-/AAuE7mCP60AdSc8hNhjbgz0TQ2KWP4jwdyaOnPMdvDrJAA=s64",
      "userId": "14103510985297891925"
     },
     "user_tz": 360
    },
    "id": "7WclaVgkT44g",
    "outputId": "7688fce2-6162-4f0e-a630-e4aa8767f3cd",
    "slideshow": {
     "slide_type": "fragment"
    }
   },
   "outputs": [
    {
     "data": {
      "text/plain": [
       " Male      66.920549\n",
       " Female    33.079451\n",
       "Name: sex, dtype: float64"
      ]
     },
     "execution_count": 118,
     "metadata": {},
     "output_type": "execute_result"
    }
   ],
   "source": [
    "# I am getting an idea of the distribution of males compared to females\n",
    "# This shows that there are twice as many males as females sampled in this dataset\n",
    "income_df['sex'].value_counts(normalize=True) * 100"
   ]
  },
  {
   "cell_type": "code",
   "execution_count": 119,
   "metadata": {
    "colab": {
     "base_uri": "https://localhost:8080/",
     "height": 0
    },
    "colab_type": "code",
    "executionInfo": {
     "elapsed": 41855,
     "status": "ok",
     "timestamp": 1580071225987,
     "user": {
      "displayName": "Vince Payne",
      "photoUrl": "https://lh3.googleusercontent.com/a-/AAuE7mCP60AdSc8hNhjbgz0TQ2KWP4jwdyaOnPMdvDrJAA=s64",
      "userId": "14103510985297891925"
     },
     "user_tz": 360
    },
    "id": "mQfxFjrrTToW",
    "outputId": "ee9d9d4c-319c-410c-e052-a2510c321764",
    "slideshow": {
     "slide_type": "fragment"
    }
   },
   "outputs": [
    {
     "data": {
      "text/plain": [
       "Male <=50K      46.460490\n",
       "Female <=50K    29.458555\n",
       "Male >50K       20.460060\n",
       "Female >50K      3.620896\n",
       "Name: Money_by_sex, dtype: float64"
      ]
     },
     "execution_count": 119,
     "metadata": {},
     "output_type": "execute_result"
    }
   ],
   "source": [
    "income_df['Money_by_sex'].value_counts(normalize=True) * 100"
   ]
  },
  {
   "cell_type": "markdown",
   "metadata": {
    "colab_type": "text",
    "id": "PF8xOq2BSmig",
    "slideshow": {
     "slide_type": "fragment"
    }
   },
   "source": [
    "The above graph shows a clear distinction in the number of males and females in the data as well as big gap in the distribution of males and females based on the income that they receive.  The statistic underneath the graph shows the percentage of each value within the 'Money_by_sex' column and shows a pretty big discrepancy in the values."
   ]
  },
  {
   "cell_type": "code",
   "execution_count": 120,
   "metadata": {
    "colab": {},
    "colab_type": "code",
    "id": "tCQLEn9LrYNK",
    "slideshow": {
     "slide_type": "slide"
    }
   },
   "outputs": [],
   "source": [
    "# I am making a column that will change the 'sex' column to be\n",
    "# a binary number (0 for a female and 1 for a male)\n",
    "income_df['is_male'] = pd.get_dummies(income_df['sex'], drop_first=True)"
   ]
  },
  {
   "cell_type": "code",
   "execution_count": 121,
   "metadata": {
    "colab": {
     "base_uri": "https://localhost:8080/",
     "height": 0
    },
    "colab_type": "code",
    "executionInfo": {
     "elapsed": 41846,
     "status": "ok",
     "timestamp": 1580071225989,
     "user": {
      "displayName": "Vince Payne",
      "photoUrl": "https://lh3.googleusercontent.com/a-/AAuE7mCP60AdSc8hNhjbgz0TQ2KWP4jwdyaOnPMdvDrJAA=s64",
      "userId": "14103510985297891925"
     },
     "user_tz": 360
    },
    "id": "FAJJpv-Orn1e",
    "outputId": "11ba6ae3-8b2a-4cf5-9860-8b512c9d53cb",
    "slideshow": {
     "slide_type": "fragment"
    }
   },
   "outputs": [
    {
     "data": {
      "text/html": [
       "<div>\n",
       "<style scoped>\n",
       "    .dataframe tbody tr th:only-of-type {\n",
       "        vertical-align: middle;\n",
       "    }\n",
       "\n",
       "    .dataframe tbody tr th {\n",
       "        vertical-align: top;\n",
       "    }\n",
       "\n",
       "    .dataframe thead th {\n",
       "        text-align: right;\n",
       "    }\n",
       "</style>\n",
       "<table border=\"1\" class=\"dataframe\">\n",
       "  <thead>\n",
       "    <tr style=\"text-align: right;\">\n",
       "      <th></th>\n",
       "      <th>age</th>\n",
       "      <th>workclass</th>\n",
       "      <th>fnlwgt</th>\n",
       "      <th>education</th>\n",
       "      <th>education-num</th>\n",
       "      <th>marital-status</th>\n",
       "      <th>occupation</th>\n",
       "      <th>relationship</th>\n",
       "      <th>race</th>\n",
       "      <th>sex</th>\n",
       "      <th>capital-gain</th>\n",
       "      <th>capital-loss</th>\n",
       "      <th>hours-per-week</th>\n",
       "      <th>native-country</th>\n",
       "      <th>income</th>\n",
       "      <th>&gt;50K</th>\n",
       "      <th>Money_by_sex</th>\n",
       "      <th>is_male</th>\n",
       "    </tr>\n",
       "  </thead>\n",
       "  <tbody>\n",
       "    <tr>\n",
       "      <td>0</td>\n",
       "      <td>39</td>\n",
       "      <td>State-gov</td>\n",
       "      <td>77516</td>\n",
       "      <td>Bachelors</td>\n",
       "      <td>13</td>\n",
       "      <td>Never-married</td>\n",
       "      <td>Adm-clerical</td>\n",
       "      <td>Not-in-family</td>\n",
       "      <td>White</td>\n",
       "      <td>Male</td>\n",
       "      <td>2174</td>\n",
       "      <td>0</td>\n",
       "      <td>40</td>\n",
       "      <td>United-States</td>\n",
       "      <td>&lt;=50K</td>\n",
       "      <td>0</td>\n",
       "      <td>Male &lt;=50K</td>\n",
       "      <td>1</td>\n",
       "    </tr>\n",
       "    <tr>\n",
       "      <td>1</td>\n",
       "      <td>50</td>\n",
       "      <td>Self-emp-not-inc</td>\n",
       "      <td>83311</td>\n",
       "      <td>Bachelors</td>\n",
       "      <td>13</td>\n",
       "      <td>Married-civ-spouse</td>\n",
       "      <td>Exec-managerial</td>\n",
       "      <td>Husband</td>\n",
       "      <td>White</td>\n",
       "      <td>Male</td>\n",
       "      <td>0</td>\n",
       "      <td>0</td>\n",
       "      <td>13</td>\n",
       "      <td>United-States</td>\n",
       "      <td>&lt;=50K</td>\n",
       "      <td>0</td>\n",
       "      <td>Male &lt;=50K</td>\n",
       "      <td>1</td>\n",
       "    </tr>\n",
       "    <tr>\n",
       "      <td>2</td>\n",
       "      <td>38</td>\n",
       "      <td>Private</td>\n",
       "      <td>215646</td>\n",
       "      <td>HS-grad</td>\n",
       "      <td>9</td>\n",
       "      <td>Divorced</td>\n",
       "      <td>Handlers-cleaners</td>\n",
       "      <td>Not-in-family</td>\n",
       "      <td>White</td>\n",
       "      <td>Male</td>\n",
       "      <td>0</td>\n",
       "      <td>0</td>\n",
       "      <td>40</td>\n",
       "      <td>United-States</td>\n",
       "      <td>&lt;=50K</td>\n",
       "      <td>0</td>\n",
       "      <td>Male &lt;=50K</td>\n",
       "      <td>1</td>\n",
       "    </tr>\n",
       "    <tr>\n",
       "      <td>3</td>\n",
       "      <td>53</td>\n",
       "      <td>Private</td>\n",
       "      <td>234721</td>\n",
       "      <td>11th</td>\n",
       "      <td>7</td>\n",
       "      <td>Married-civ-spouse</td>\n",
       "      <td>Handlers-cleaners</td>\n",
       "      <td>Husband</td>\n",
       "      <td>Black</td>\n",
       "      <td>Male</td>\n",
       "      <td>0</td>\n",
       "      <td>0</td>\n",
       "      <td>40</td>\n",
       "      <td>United-States</td>\n",
       "      <td>&lt;=50K</td>\n",
       "      <td>0</td>\n",
       "      <td>Male &lt;=50K</td>\n",
       "      <td>1</td>\n",
       "    </tr>\n",
       "    <tr>\n",
       "      <td>4</td>\n",
       "      <td>28</td>\n",
       "      <td>Private</td>\n",
       "      <td>338409</td>\n",
       "      <td>Bachelors</td>\n",
       "      <td>13</td>\n",
       "      <td>Married-civ-spouse</td>\n",
       "      <td>Prof-specialty</td>\n",
       "      <td>Wife</td>\n",
       "      <td>Black</td>\n",
       "      <td>Female</td>\n",
       "      <td>0</td>\n",
       "      <td>0</td>\n",
       "      <td>40</td>\n",
       "      <td>Cuba</td>\n",
       "      <td>&lt;=50K</td>\n",
       "      <td>0</td>\n",
       "      <td>Female &lt;=50K</td>\n",
       "      <td>0</td>\n",
       "    </tr>\n",
       "  </tbody>\n",
       "</table>\n",
       "</div>"
      ],
      "text/plain": [
       "   age          workclass  fnlwgt   education  education-num  \\\n",
       "0   39          State-gov   77516   Bachelors             13   \n",
       "1   50   Self-emp-not-inc   83311   Bachelors             13   \n",
       "2   38            Private  215646     HS-grad              9   \n",
       "3   53            Private  234721        11th              7   \n",
       "4   28            Private  338409   Bachelors             13   \n",
       "\n",
       "        marital-status          occupation    relationship    race      sex  \\\n",
       "0        Never-married        Adm-clerical   Not-in-family   White     Male   \n",
       "1   Married-civ-spouse     Exec-managerial         Husband   White     Male   \n",
       "2             Divorced   Handlers-cleaners   Not-in-family   White     Male   \n",
       "3   Married-civ-spouse   Handlers-cleaners         Husband   Black     Male   \n",
       "4   Married-civ-spouse      Prof-specialty            Wife   Black   Female   \n",
       "\n",
       "   capital-gain  capital-loss  hours-per-week  native-country  income  >50K  \\\n",
       "0          2174             0              40   United-States   <=50K     0   \n",
       "1             0             0              13   United-States   <=50K     0   \n",
       "2             0             0              40   United-States   <=50K     0   \n",
       "3             0             0              40   United-States   <=50K     0   \n",
       "4             0             0              40            Cuba   <=50K     0   \n",
       "\n",
       "   Money_by_sex  is_male  \n",
       "0    Male <=50K        1  \n",
       "1    Male <=50K        1  \n",
       "2    Male <=50K        1  \n",
       "3    Male <=50K        1  \n",
       "4  Female <=50K        0  "
      ]
     },
     "execution_count": 121,
     "metadata": {},
     "output_type": "execute_result"
    }
   ],
   "source": [
    "income_df.head()"
   ]
  },
  {
   "cell_type": "markdown",
   "metadata": {
    "colab_type": "text",
    "id": "RdrXlxb9VXkk",
    "slideshow": {
     "slide_type": "slide"
    }
   },
   "source": [
    "# Age and Income"
   ]
  },
  {
   "cell_type": "code",
   "execution_count": 122,
   "metadata": {
    "colab": {
     "base_uri": "https://localhost:8080/",
     "height": 0
    },
    "colab_type": "code",
    "executionInfo": {
     "elapsed": 42771,
     "status": "ok",
     "timestamp": 1580071226920,
     "user": {
      "displayName": "Vince Payne",
      "photoUrl": "https://lh3.googleusercontent.com/a-/AAuE7mCP60AdSc8hNhjbgz0TQ2KWP4jwdyaOnPMdvDrJAA=s64",
      "userId": "14103510985297891925"
     },
     "user_tz": 360
    },
    "id": "W-fFMnweU_rf",
    "outputId": "9d6e9dd2-1f1a-4a96-d9b3-97adf51c4720",
    "slideshow": {
     "slide_type": "fragment"
    }
   },
   "outputs": [
    {
     "data": {
      "text/plain": [
       "<seaborn.axisgrid.FacetGrid at 0x1ac43e80188>"
      ]
     },
     "execution_count": 122,
     "metadata": {},
     "output_type": "execute_result"
    },
    {
     "data": {
      "image/png": "[encoded data removed]",
      "text/plain": [
       "<Figure size 360x360 with 1 Axes>"
      ]
     },
     "metadata": {
      "needs_background": "light"
     },
     "output_type": "display_data"
    }
   ],
   "source": [
    "# I'm going to take a look at the age variable and see how this looks\n",
    "# compared to my target variable of income\n",
    "sns.catplot(x='income', y='age', data=income_df, jitter='.25')"
   ]
  },
  {
   "cell_type": "code",
   "execution_count": 123,
   "metadata": {
    "colab": {
     "base_uri": "https://localhost:8080/",
     "height": 0
    },
    "colab_type": "code",
    "executionInfo": {
     "elapsed": 42763,
     "status": "ok",
     "timestamp": 1580071226921,
     "user": {
      "displayName": "Vince Payne",
      "photoUrl": "https://lh3.googleusercontent.com/a-/AAuE7mCP60AdSc8hNhjbgz0TQ2KWP4jwdyaOnPMdvDrJAA=s64",
      "userId": "14103510985297891925"
     },
     "user_tz": 360
    },
    "id": "dQZkvZ4PVgy4",
    "outputId": "5961264b-fc6f-4aab-c1de-61847b7d9fae",
    "slideshow": {
     "slide_type": "fragment"
    }
   },
   "outputs": [
    {
     "data": {
      "text/plain": [
       "(0.2340371026488599, 0.0)"
      ]
     },
     "execution_count": 123,
     "metadata": {},
     "output_type": "execute_result"
    }
   ],
   "source": [
    "stats.pearsonr(income_df['age'], income_df['>50K'])"
   ]
  },
  {
   "cell_type": "markdown",
   "metadata": {
    "colab_type": "text",
    "id": "_spegcNQVa8x",
    "slideshow": {
     "slide_type": "slide"
    }
   },
   "source": [
    "This catplot and pearsonr correlation make it clear that age has a minor correlation with the income that someone makes.  I can see that in general there are more younger people in the less than 50K section of the graph but overall both income categories are pretty packed throughout the ages 30-60.  The pearsonr test shows me that the correlation is less than my threshold of .05 which means that this correlation is significant."
   ]
  },
  {
   "cell_type": "code",
   "execution_count": 124,
   "metadata": {
    "colab": {
     "base_uri": "https://localhost:8080/",
     "height": 0
    },
    "colab_type": "code",
    "executionInfo": {
     "elapsed": 42756,
     "status": "ok",
     "timestamp": 1580071226922,
     "user": {
      "displayName": "Vince Payne",
      "photoUrl": "https://lh3.googleusercontent.com/a-/AAuE7mCP60AdSc8hNhjbgz0TQ2KWP4jwdyaOnPMdvDrJAA=s64",
      "userId": "14103510985297891925"
     },
     "user_tz": 360
    },
    "id": "8ZBRSNiIBRf7",
    "outputId": "4dab6ca4-6056-4f8c-f591-8e15d65b5c38",
    "slideshow": {
     "slide_type": "fragment"
    }
   },
   "outputs": [
    {
     "data": {
      "text/html": [
       "<div>\n",
       "<style scoped>\n",
       "    .dataframe tbody tr th:only-of-type {\n",
       "        vertical-align: middle;\n",
       "    }\n",
       "\n",
       "    .dataframe tbody tr th {\n",
       "        vertical-align: top;\n",
       "    }\n",
       "\n",
       "    .dataframe thead th {\n",
       "        text-align: right;\n",
       "    }\n",
       "</style>\n",
       "<table border=\"1\" class=\"dataframe\">\n",
       "  <thead>\n",
       "    <tr style=\"text-align: right;\">\n",
       "      <th></th>\n",
       "      <th>age</th>\n",
       "      <th>fnlwgt</th>\n",
       "      <th>education-num</th>\n",
       "      <th>capital-gain</th>\n",
       "      <th>capital-loss</th>\n",
       "      <th>hours-per-week</th>\n",
       "      <th>&gt;50K</th>\n",
       "      <th>is_male</th>\n",
       "    </tr>\n",
       "  </thead>\n",
       "  <tbody>\n",
       "    <tr>\n",
       "      <td>age</td>\n",
       "      <td>1.000000</td>\n",
       "      <td>-0.076646</td>\n",
       "      <td>0.036527</td>\n",
       "      <td>0.077674</td>\n",
       "      <td>0.057775</td>\n",
       "      <td>0.068756</td>\n",
       "      <td>0.234037</td>\n",
       "      <td>0.088832</td>\n",
       "    </tr>\n",
       "    <tr>\n",
       "      <td>fnlwgt</td>\n",
       "      <td>-0.076646</td>\n",
       "      <td>1.000000</td>\n",
       "      <td>-0.043195</td>\n",
       "      <td>0.000432</td>\n",
       "      <td>-0.010252</td>\n",
       "      <td>-0.018768</td>\n",
       "      <td>-0.009463</td>\n",
       "      <td>0.026858</td>\n",
       "    </tr>\n",
       "    <tr>\n",
       "      <td>education-num</td>\n",
       "      <td>0.036527</td>\n",
       "      <td>-0.043195</td>\n",
       "      <td>1.000000</td>\n",
       "      <td>0.122630</td>\n",
       "      <td>0.079923</td>\n",
       "      <td>0.148123</td>\n",
       "      <td>0.335154</td>\n",
       "      <td>0.012280</td>\n",
       "    </tr>\n",
       "    <tr>\n",
       "      <td>capital-gain</td>\n",
       "      <td>0.077674</td>\n",
       "      <td>0.000432</td>\n",
       "      <td>0.122630</td>\n",
       "      <td>1.000000</td>\n",
       "      <td>-0.031615</td>\n",
       "      <td>0.078409</td>\n",
       "      <td>0.223329</td>\n",
       "      <td>0.048480</td>\n",
       "    </tr>\n",
       "    <tr>\n",
       "      <td>capital-loss</td>\n",
       "      <td>0.057775</td>\n",
       "      <td>-0.010252</td>\n",
       "      <td>0.079923</td>\n",
       "      <td>-0.031615</td>\n",
       "      <td>1.000000</td>\n",
       "      <td>0.054256</td>\n",
       "      <td>0.150526</td>\n",
       "      <td>0.045567</td>\n",
       "    </tr>\n",
       "    <tr>\n",
       "      <td>hours-per-week</td>\n",
       "      <td>0.068756</td>\n",
       "      <td>-0.018768</td>\n",
       "      <td>0.148123</td>\n",
       "      <td>0.078409</td>\n",
       "      <td>0.054256</td>\n",
       "      <td>1.000000</td>\n",
       "      <td>0.229689</td>\n",
       "      <td>0.229309</td>\n",
       "    </tr>\n",
       "    <tr>\n",
       "      <td>&gt;50K</td>\n",
       "      <td>0.234037</td>\n",
       "      <td>-0.009463</td>\n",
       "      <td>0.335154</td>\n",
       "      <td>0.223329</td>\n",
       "      <td>0.150526</td>\n",
       "      <td>0.229689</td>\n",
       "      <td>1.000000</td>\n",
       "      <td>0.215980</td>\n",
       "    </tr>\n",
       "    <tr>\n",
       "      <td>is_male</td>\n",
       "      <td>0.088832</td>\n",
       "      <td>0.026858</td>\n",
       "      <td>0.012280</td>\n",
       "      <td>0.048480</td>\n",
       "      <td>0.045567</td>\n",
       "      <td>0.229309</td>\n",
       "      <td>0.215980</td>\n",
       "      <td>1.000000</td>\n",
       "    </tr>\n",
       "  </tbody>\n",
       "</table>\n",
       "</div>"
      ],
      "text/plain": [
       "                     age    fnlwgt  education-num  capital-gain  capital-loss  \\\n",
       "age             1.000000 -0.076646       0.036527      0.077674      0.057775   \n",
       "fnlwgt         -0.076646  1.000000      -0.043195      0.000432     -0.010252   \n",
       "education-num   0.036527 -0.043195       1.000000      0.122630      0.079923   \n",
       "capital-gain    0.077674  0.000432       0.122630      1.000000     -0.031615   \n",
       "capital-loss    0.057775 -0.010252       0.079923     -0.031615      1.000000   \n",
       "hours-per-week  0.068756 -0.018768       0.148123      0.078409      0.054256   \n",
       ">50K            0.234037 -0.009463       0.335154      0.223329      0.150526   \n",
       "is_male         0.088832  0.026858       0.012280      0.048480      0.045567   \n",
       "\n",
       "                hours-per-week      >50K   is_male  \n",
       "age                   0.068756  0.234037  0.088832  \n",
       "fnlwgt               -0.018768 -0.009463  0.026858  \n",
       "education-num         0.148123  0.335154  0.012280  \n",
       "capital-gain          0.078409  0.223329  0.048480  \n",
       "capital-loss          0.054256  0.150526  0.045567  \n",
       "hours-per-week        1.000000  0.229689  0.229309  \n",
       ">50K                  0.229689  1.000000  0.215980  \n",
       "is_male               0.229309  0.215980  1.000000  "
      ]
     },
     "execution_count": 124,
     "metadata": {},
     "output_type": "execute_result"
    }
   ],
   "source": [
    "income_df.corr()"
   ]
  },
  {
   "cell_type": "code",
   "execution_count": 125,
   "metadata": {
    "colab": {
     "base_uri": "https://localhost:8080/",
     "height": 0
    },
    "colab_type": "code",
    "executionInfo": {
     "elapsed": 42749,
     "status": "ok",
     "timestamp": 1580071226923,
     "user": {
      "displayName": "Vince Payne",
      "photoUrl": "https://lh3.googleusercontent.com/a-/AAuE7mCP60AdSc8hNhjbgz0TQ2KWP4jwdyaOnPMdvDrJAA=s64",
      "userId": "14103510985297891925"
     },
     "user_tz": 360
    },
    "id": "8XJNfBE9BvYb",
    "outputId": "b14ddfbb-e895-48a4-fadd-f3d461807bc2",
    "slideshow": {
     "slide_type": "slide"
    }
   },
   "outputs": [
    {
     "data": {
      "text/plain": [
       "age                  73\n",
       "workclass             9\n",
       "fnlwgt            21648\n",
       "education            16\n",
       "education-num        16\n",
       "marital-status        7\n",
       "occupation           15\n",
       "relationship          6\n",
       "race                  5\n",
       "sex                   2\n",
       "capital-gain        119\n",
       "capital-loss         92\n",
       "hours-per-week       94\n",
       "native-country       42\n",
       "income                2\n",
       ">50K                  2\n",
       "Money_by_sex          4\n",
       "is_male               2\n",
       "dtype: int64"
      ]
     },
     "execution_count": 125,
     "metadata": {},
     "output_type": "execute_result"
    }
   ],
   "source": [
    "income_df.nunique()"
   ]
  },
  {
   "cell_type": "markdown",
   "metadata": {
    "colab_type": "text",
    "id": "vjF-SpJDBQu2",
    "slideshow": {
     "slide_type": "fragment"
    }
   },
   "source": [
    "Looking at the current integers that I have and comparing them to the new '>50K' column nothing that currently exists has a very strong correlation.  I am going to make a few more of the columns into dummies to check their correlation. I am also going to drop the finlwgt column because it has a very minor correlation with my target variable.  I am also dropping my 'income' and 'fnlwgt' column.  The 'fnlwgt' has far too many different values and such a small correlation with my target variable that it will not be useful in this analysis."
   ]
  },
  {
   "cell_type": "code",
   "execution_count": 126,
   "metadata": {
    "colab": {},
    "colab_type": "code",
    "id": "zd2xDy-3CR4r",
    "slideshow": {
     "slide_type": "slide"
    }
   },
   "outputs": [],
   "source": [
    "income_df.drop(labels=['fnlwgt', 'income'], axis=1, inplace=True)"
   ]
  },
  {
   "cell_type": "code",
   "execution_count": 127,
   "metadata": {
    "colab": {
     "base_uri": "https://localhost:8080/",
     "height": 0
    },
    "colab_type": "code",
    "executionInfo": {
     "elapsed": 42739,
     "status": "ok",
     "timestamp": 1580071226924,
     "user": {
      "displayName": "Vince Payne",
      "photoUrl": "https://lh3.googleusercontent.com/a-/AAuE7mCP60AdSc8hNhjbgz0TQ2KWP4jwdyaOnPMdvDrJAA=s64",
      "userId": "14103510985297891925"
     },
     "user_tz": 360
    },
    "id": "teWYiB15Cu90",
    "outputId": "ee2c41c8-5188-47ea-ec6b-81b8bb523303",
    "slideshow": {
     "slide_type": "fragment"
    }
   },
   "outputs": [
    {
     "data": {
      "text/html": [
       "<div>\n",
       "<style scoped>\n",
       "    .dataframe tbody tr th:only-of-type {\n",
       "        vertical-align: middle;\n",
       "    }\n",
       "\n",
       "    .dataframe tbody tr th {\n",
       "        vertical-align: top;\n",
       "    }\n",
       "\n",
       "    .dataframe thead th {\n",
       "        text-align: right;\n",
       "    }\n",
       "</style>\n",
       "<table border=\"1\" class=\"dataframe\">\n",
       "  <thead>\n",
       "    <tr style=\"text-align: right;\">\n",
       "      <th></th>\n",
       "      <th>age</th>\n",
       "      <th>education-num</th>\n",
       "      <th>capital-gain</th>\n",
       "      <th>capital-loss</th>\n",
       "      <th>hours-per-week</th>\n",
       "      <th>&gt;50K</th>\n",
       "      <th>is_male</th>\n",
       "    </tr>\n",
       "  </thead>\n",
       "  <tbody>\n",
       "    <tr>\n",
       "      <td>age</td>\n",
       "      <td>1.000000</td>\n",
       "      <td>0.036527</td>\n",
       "      <td>0.077674</td>\n",
       "      <td>0.057775</td>\n",
       "      <td>0.068756</td>\n",
       "      <td>0.234037</td>\n",
       "      <td>0.088832</td>\n",
       "    </tr>\n",
       "    <tr>\n",
       "      <td>education-num</td>\n",
       "      <td>0.036527</td>\n",
       "      <td>1.000000</td>\n",
       "      <td>0.122630</td>\n",
       "      <td>0.079923</td>\n",
       "      <td>0.148123</td>\n",
       "      <td>0.335154</td>\n",
       "      <td>0.012280</td>\n",
       "    </tr>\n",
       "    <tr>\n",
       "      <td>capital-gain</td>\n",
       "      <td>0.077674</td>\n",
       "      <td>0.122630</td>\n",
       "      <td>1.000000</td>\n",
       "      <td>-0.031615</td>\n",
       "      <td>0.078409</td>\n",
       "      <td>0.223329</td>\n",
       "      <td>0.048480</td>\n",
       "    </tr>\n",
       "    <tr>\n",
       "      <td>capital-loss</td>\n",
       "      <td>0.057775</td>\n",
       "      <td>0.079923</td>\n",
       "      <td>-0.031615</td>\n",
       "      <td>1.000000</td>\n",
       "      <td>0.054256</td>\n",
       "      <td>0.150526</td>\n",
       "      <td>0.045567</td>\n",
       "    </tr>\n",
       "    <tr>\n",
       "      <td>hours-per-week</td>\n",
       "      <td>0.068756</td>\n",
       "      <td>0.148123</td>\n",
       "      <td>0.078409</td>\n",
       "      <td>0.054256</td>\n",
       "      <td>1.000000</td>\n",
       "      <td>0.229689</td>\n",
       "      <td>0.229309</td>\n",
       "    </tr>\n",
       "    <tr>\n",
       "      <td>&gt;50K</td>\n",
       "      <td>0.234037</td>\n",
       "      <td>0.335154</td>\n",
       "      <td>0.223329</td>\n",
       "      <td>0.150526</td>\n",
       "      <td>0.229689</td>\n",
       "      <td>1.000000</td>\n",
       "      <td>0.215980</td>\n",
       "    </tr>\n",
       "    <tr>\n",
       "      <td>is_male</td>\n",
       "      <td>0.088832</td>\n",
       "      <td>0.012280</td>\n",
       "      <td>0.048480</td>\n",
       "      <td>0.045567</td>\n",
       "      <td>0.229309</td>\n",
       "      <td>0.215980</td>\n",
       "      <td>1.000000</td>\n",
       "    </tr>\n",
       "  </tbody>\n",
       "</table>\n",
       "</div>"
      ],
      "text/plain": [
       "                     age  education-num  capital-gain  capital-loss  \\\n",
       "age             1.000000       0.036527      0.077674      0.057775   \n",
       "education-num   0.036527       1.000000      0.122630      0.079923   \n",
       "capital-gain    0.077674       0.122630      1.000000     -0.031615   \n",
       "capital-loss    0.057775       0.079923     -0.031615      1.000000   \n",
       "hours-per-week  0.068756       0.148123      0.078409      0.054256   \n",
       ">50K            0.234037       0.335154      0.223329      0.150526   \n",
       "is_male         0.088832       0.012280      0.048480      0.045567   \n",
       "\n",
       "                hours-per-week      >50K   is_male  \n",
       "age                   0.068756  0.234037  0.088832  \n",
       "education-num         0.148123  0.335154  0.012280  \n",
       "capital-gain          0.078409  0.223329  0.048480  \n",
       "capital-loss          0.054256  0.150526  0.045567  \n",
       "hours-per-week        1.000000  0.229689  0.229309  \n",
       ">50K                  0.229689  1.000000  0.215980  \n",
       "is_male               0.229309  0.215980  1.000000  "
      ]
     },
     "execution_count": 127,
     "metadata": {},
     "output_type": "execute_result"
    }
   ],
   "source": [
    "income_df.corr()"
   ]
  },
  {
   "cell_type": "code",
   "execution_count": 128,
   "metadata": {
    "colab": {
     "base_uri": "https://localhost:8080/",
     "height": 0
    },
    "colab_type": "code",
    "executionInfo": {
     "elapsed": 43286,
     "status": "ok",
     "timestamp": 1580071227479,
     "user": {
      "displayName": "Vince Payne",
      "photoUrl": "https://lh3.googleusercontent.com/a-/AAuE7mCP60AdSc8hNhjbgz0TQ2KWP4jwdyaOnPMdvDrJAA=s64",
      "userId": "14103510985297891925"
     },
     "user_tz": 360
    },
    "id": "Y9tOyUDrAJlo",
    "outputId": "35586e81-71e8-4b69-8010-c96dfee0ee41",
    "slideshow": {
     "slide_type": "slide"
    }
   },
   "outputs": [
    {
     "data": {
      "text/html": [
       "<div>\n",
       "<style scoped>\n",
       "    .dataframe tbody tr th:only-of-type {\n",
       "        vertical-align: middle;\n",
       "    }\n",
       "\n",
       "    .dataframe tbody tr th {\n",
       "        vertical-align: top;\n",
       "    }\n",
       "\n",
       "    .dataframe thead th {\n",
       "        text-align: right;\n",
       "    }\n",
       "</style>\n",
       "<table border=\"1\" class=\"dataframe\">\n",
       "  <thead>\n",
       "    <tr style=\"text-align: right;\">\n",
       "      <th></th>\n",
       "      <th>age</th>\n",
       "      <th>workclass</th>\n",
       "      <th>education</th>\n",
       "      <th>education-num</th>\n",
       "      <th>marital-status</th>\n",
       "      <th>occupation</th>\n",
       "      <th>relationship</th>\n",
       "      <th>race</th>\n",
       "      <th>sex</th>\n",
       "      <th>capital-gain</th>\n",
       "      <th>capital-loss</th>\n",
       "      <th>hours-per-week</th>\n",
       "      <th>native-country</th>\n",
       "      <th>&gt;50K</th>\n",
       "      <th>Money_by_sex</th>\n",
       "      <th>is_male</th>\n",
       "    </tr>\n",
       "  </thead>\n",
       "  <tbody>\n",
       "    <tr>\n",
       "      <td>0</td>\n",
       "      <td>39</td>\n",
       "      <td>State-gov</td>\n",
       "      <td>Bachelors</td>\n",
       "      <td>13</td>\n",
       "      <td>Never-married</td>\n",
       "      <td>Adm-clerical</td>\n",
       "      <td>Not-in-family</td>\n",
       "      <td>White</td>\n",
       "      <td>Male</td>\n",
       "      <td>2174</td>\n",
       "      <td>0</td>\n",
       "      <td>40</td>\n",
       "      <td>United-States</td>\n",
       "      <td>0</td>\n",
       "      <td>Male &lt;=50K</td>\n",
       "      <td>1</td>\n",
       "    </tr>\n",
       "    <tr>\n",
       "      <td>1</td>\n",
       "      <td>50</td>\n",
       "      <td>Self-emp-not-inc</td>\n",
       "      <td>Bachelors</td>\n",
       "      <td>13</td>\n",
       "      <td>Married-civ-spouse</td>\n",
       "      <td>Exec-managerial</td>\n",
       "      <td>Husband</td>\n",
       "      <td>White</td>\n",
       "      <td>Male</td>\n",
       "      <td>0</td>\n",
       "      <td>0</td>\n",
       "      <td>13</td>\n",
       "      <td>United-States</td>\n",
       "      <td>0</td>\n",
       "      <td>Male &lt;=50K</td>\n",
       "      <td>1</td>\n",
       "    </tr>\n",
       "    <tr>\n",
       "      <td>2</td>\n",
       "      <td>38</td>\n",
       "      <td>Private</td>\n",
       "      <td>HS-grad</td>\n",
       "      <td>9</td>\n",
       "      <td>Divorced</td>\n",
       "      <td>Handlers-cleaners</td>\n",
       "      <td>Not-in-family</td>\n",
       "      <td>White</td>\n",
       "      <td>Male</td>\n",
       "      <td>0</td>\n",
       "      <td>0</td>\n",
       "      <td>40</td>\n",
       "      <td>United-States</td>\n",
       "      <td>0</td>\n",
       "      <td>Male &lt;=50K</td>\n",
       "      <td>1</td>\n",
       "    </tr>\n",
       "    <tr>\n",
       "      <td>3</td>\n",
       "      <td>53</td>\n",
       "      <td>Private</td>\n",
       "      <td>11th</td>\n",
       "      <td>7</td>\n",
       "      <td>Married-civ-spouse</td>\n",
       "      <td>Handlers-cleaners</td>\n",
       "      <td>Husband</td>\n",
       "      <td>Black</td>\n",
       "      <td>Male</td>\n",
       "      <td>0</td>\n",
       "      <td>0</td>\n",
       "      <td>40</td>\n",
       "      <td>United-States</td>\n",
       "      <td>0</td>\n",
       "      <td>Male &lt;=50K</td>\n",
       "      <td>1</td>\n",
       "    </tr>\n",
       "    <tr>\n",
       "      <td>4</td>\n",
       "      <td>28</td>\n",
       "      <td>Private</td>\n",
       "      <td>Bachelors</td>\n",
       "      <td>13</td>\n",
       "      <td>Married-civ-spouse</td>\n",
       "      <td>Prof-specialty</td>\n",
       "      <td>Wife</td>\n",
       "      <td>Black</td>\n",
       "      <td>Female</td>\n",
       "      <td>0</td>\n",
       "      <td>0</td>\n",
       "      <td>40</td>\n",
       "      <td>Cuba</td>\n",
       "      <td>0</td>\n",
       "      <td>Female &lt;=50K</td>\n",
       "      <td>0</td>\n",
       "    </tr>\n",
       "  </tbody>\n",
       "</table>\n",
       "</div>"
      ],
      "text/plain": [
       "   age          workclass   education  education-num       marital-status  \\\n",
       "0   39          State-gov   Bachelors             13        Never-married   \n",
       "1   50   Self-emp-not-inc   Bachelors             13   Married-civ-spouse   \n",
       "2   38            Private     HS-grad              9             Divorced   \n",
       "3   53            Private        11th              7   Married-civ-spouse   \n",
       "4   28            Private   Bachelors             13   Married-civ-spouse   \n",
       "\n",
       "           occupation    relationship    race      sex  capital-gain  \\\n",
       "0        Adm-clerical   Not-in-family   White     Male          2174   \n",
       "1     Exec-managerial         Husband   White     Male             0   \n",
       "2   Handlers-cleaners   Not-in-family   White     Male             0   \n",
       "3   Handlers-cleaners         Husband   Black     Male             0   \n",
       "4      Prof-specialty            Wife   Black   Female             0   \n",
       "\n",
       "   capital-loss  hours-per-week  native-country  >50K  Money_by_sex  is_male  \n",
       "0             0              40   United-States     0    Male <=50K        1  \n",
       "1             0              13   United-States     0    Male <=50K        1  \n",
       "2             0              40   United-States     0    Male <=50K        1  \n",
       "3             0              40   United-States     0    Male <=50K        1  \n",
       "4             0              40            Cuba     0  Female <=50K        0  "
      ]
     },
     "execution_count": 128,
     "metadata": {},
     "output_type": "execute_result"
    }
   ],
   "source": [
    "income_df.head()"
   ]
  },
  {
   "cell_type": "markdown",
   "metadata": {
    "colab_type": "text",
    "id": "fxpJnwoD3lhh",
    "slideshow": {
     "slide_type": "slide"
    }
   },
   "source": [
    "# Native Country and Race"
   ]
  },
  {
   "cell_type": "code",
   "execution_count": 129,
   "metadata": {
    "colab": {
     "base_uri": "https://localhost:8080/",
     "height": 0
    },
    "colab_type": "code",
    "executionInfo": {
     "elapsed": 43280,
     "status": "ok",
     "timestamp": 1580071227480,
     "user": {
      "displayName": "Vince Payne",
      "photoUrl": "https://lh3.googleusercontent.com/a-/AAuE7mCP60AdSc8hNhjbgz0TQ2KWP4jwdyaOnPMdvDrJAA=s64",
      "userId": "14103510985297891925"
     },
     "user_tz": 360
    },
    "id": "meEtYG5unyQ-",
    "outputId": "0b689492-23ca-4288-b5a0-8cb9ea04ae84",
    "slideshow": {
     "slide_type": "slide"
    }
   },
   "outputs": [
    {
     "data": {
      "text/plain": [
       " United-States                 29170\n",
       " Mexico                          643\n",
       " ?                               583\n",
       " Philippines                     198\n",
       " Germany                         137\n",
       " Canada                          121\n",
       " Puerto-Rico                     114\n",
       " El-Salvador                     106\n",
       " India                           100\n",
       " Cuba                             95\n",
       " England                          90\n",
       " Jamaica                          81\n",
       " South                            80\n",
       " China                            75\n",
       " Italy                            73\n",
       " Dominican-Republic               70\n",
       " Vietnam                          67\n",
       " Guatemala                        64\n",
       " Japan                            62\n",
       " Poland                           60\n",
       " Columbia                         59\n",
       " Taiwan                           51\n",
       " Haiti                            44\n",
       " Iran                             43\n",
       " Portugal                         37\n",
       " Nicaragua                        34\n",
       " Peru                             31\n",
       " Greece                           29\n",
       " France                           29\n",
       " Ecuador                          28\n",
       " Ireland                          24\n",
       " Hong                             20\n",
       " Cambodia                         19\n",
       " Trinadad&Tobago                  19\n",
       " Thailand                         18\n",
       " Laos                             18\n",
       " Yugoslavia                       16\n",
       " Outlying-US(Guam-USVI-etc)       14\n",
       " Hungary                          13\n",
       " Honduras                         13\n",
       " Scotland                         12\n",
       " Holand-Netherlands                1\n",
       "Name: native-country, dtype: int64"
      ]
     },
     "execution_count": 129,
     "metadata": {},
     "output_type": "execute_result"
    }
   ],
   "source": [
    "# I'm checking the value counts for the model and notice\n",
    "# that the United States makes up most of the data\n",
    "income_df['native-country'].value_counts()"
   ]
  },
  {
   "cell_type": "markdown",
   "metadata": {
    "colab_type": "text",
    "id": "QE93TG2_lLuJ",
    "slideshow": {
     "slide_type": "slide"
    }
   },
   "source": [
    "I am limiting the dataset to only include the United States in the 'native-country' column due to the large number of values from that country compared to others.\n",
    "It would be interesting to compare the U.S. to other countries but I would need more data for the comparisons to be significant."
   ]
  },
  {
   "cell_type": "code",
   "execution_count": 130,
   "metadata": {
    "colab": {},
    "colab_type": "code",
    "id": "aVQyosjeoNGo",
    "slideshow": {
     "slide_type": "fragment"
    }
   },
   "outputs": [],
   "source": [
    "# I am creating a variable that will take the countries listed\n",
    "# and then it will take the first one in the list (which is the United States) \n",
    "# and make my dataframe include just the rows that have that country as a value\n",
    "countries=income_df['native-country'].value_counts().index\n",
    "income_df=income_df[income_df['native-country']==countries[0]]"
   ]
  },
  {
   "cell_type": "code",
   "execution_count": 131,
   "metadata": {
    "colab": {
     "base_uri": "https://localhost:8080/",
     "height": 0
    },
    "colab_type": "code",
    "executionInfo": {
     "elapsed": 43274,
     "status": "ok",
     "timestamp": 1580071227482,
     "user": {
      "displayName": "Vince Payne",
      "photoUrl": "https://lh3.googleusercontent.com/a-/AAuE7mCP60AdSc8hNhjbgz0TQ2KWP4jwdyaOnPMdvDrJAA=s64",
      "userId": "14103510985297891925"
     },
     "user_tz": 360
    },
    "id": "5QrsF_dspXKm",
    "outputId": "33af2cd0-e8b5-463a-f497-f7d45134b697",
    "slideshow": {
     "slide_type": "fragment"
    }
   },
   "outputs": [],
   "source": [
    "# Here I dropped the native country column since I know that all of them left in the dataframe are\n",
    "# from the United States\n",
    "income_df.drop(columns='native-country', inplace=True)"
   ]
  },
  {
   "cell_type": "markdown",
   "metadata": {
    "colab_type": "text",
    "id": "VU1smNwAlLuP",
    "slideshow": {
     "slide_type": "slide"
    }
   },
   "source": [
    "From my earlier analysis I notice that there are 5 different races listed in the dataframe.  I am going to create binary columns for each of those races so that I can use this as a factor in my model."
   ]
  },
  {
   "cell_type": "code",
   "execution_count": 132,
   "metadata": {
    "colab": {
     "base_uri": "https://localhost:8080/",
     "height": 0
    },
    "colab_type": "code",
    "executionInfo": {
     "elapsed": 43268,
     "status": "ok",
     "timestamp": 1580071227482,
     "user": {
      "displayName": "Vince Payne",
      "photoUrl": "https://lh3.googleusercontent.com/a-/AAuE7mCP60AdSc8hNhjbgz0TQ2KWP4jwdyaOnPMdvDrJAA=s64",
      "userId": "14103510985297891925"
     },
     "user_tz": 360
    },
    "id": "Bqn8yeBnqCSU",
    "outputId": "5e40280a-cccd-46df-cd6f-38e302a5d539",
    "slideshow": {
     "slide_type": "fragment"
    }
   },
   "outputs": [],
   "source": [
    "income_df[['Amer-Indian-Eskimo', 'Asian-Pac-Islander','Black','Other','White']] = pd.get_dummies(income_df['race'])"
   ]
  },
  {
   "cell_type": "code",
   "execution_count": 133,
   "metadata": {
    "colab": {
     "base_uri": "https://localhost:8080/",
     "height": 0
    },
    "colab_type": "code",
    "executionInfo": {
     "elapsed": 43264,
     "status": "ok",
     "timestamp": 1580071227483,
     "user": {
      "displayName": "Vince Payne",
      "photoUrl": "https://lh3.googleusercontent.com/a-/AAuE7mCP60AdSc8hNhjbgz0TQ2KWP4jwdyaOnPMdvDrJAA=s64",
      "userId": "14103510985297891925"
     },
     "user_tz": 360
    },
    "id": "uESFcGFjoj49",
    "outputId": "f63529cc-de4e-4698-e71e-b434c46e4c91",
    "slideshow": {
     "slide_type": "slide"
    }
   },
   "outputs": [
    {
     "name": "stdout",
     "output_type": "stream",
     "text": [
      "<class 'pandas.core.frame.DataFrame'>\n",
      "Int64Index: 29170 entries, 0 to 32560\n",
      "Data columns (total 20 columns):\n",
      "age                   29170 non-null int64\n",
      "workclass             29170 non-null object\n",
      "education             29170 non-null object\n",
      "education-num         29170 non-null int64\n",
      "marital-status        29170 non-null object\n",
      "occupation            29170 non-null object\n",
      "relationship          29170 non-null object\n",
      "race                  29170 non-null object\n",
      "sex                   29170 non-null object\n",
      "capital-gain          29170 non-null int64\n",
      "capital-loss          29170 non-null int64\n",
      "hours-per-week        29170 non-null int64\n",
      ">50K                  29170 non-null uint8\n",
      "Money_by_sex          29170 non-null object\n",
      "is_male               29170 non-null uint8\n",
      "Amer-Indian-Eskimo    29170 non-null uint8\n",
      "Asian-Pac-Islander    29170 non-null uint8\n",
      "Black                 29170 non-null uint8\n",
      "Other                 29170 non-null uint8\n",
      "White                 29170 non-null uint8\n",
      "dtypes: int64(5), object(8), uint8(7)\n",
      "memory usage: 3.3+ MB\n"
     ]
    }
   ],
   "source": [
    "income_df.info()"
   ]
  },
  {
   "cell_type": "code",
   "execution_count": 134,
   "metadata": {
    "colab": {
     "base_uri": "https://localhost:8080/",
     "height": 0
    },
    "colab_type": "code",
    "executionInfo": {
     "elapsed": 43259,
     "status": "ok",
     "timestamp": 1580071227484,
     "user": {
      "displayName": "Vince Payne",
      "photoUrl": "https://lh3.googleusercontent.com/a-/AAuE7mCP60AdSc8hNhjbgz0TQ2KWP4jwdyaOnPMdvDrJAA=s64",
      "userId": "14103510985297891925"
     },
     "user_tz": 360
    },
    "id": "8u-CL7yKAZox",
    "outputId": "bea7a9dd-5dbc-473d-d7a9-c4e536c8a8c5",
    "slideshow": {
     "slide_type": "skip"
    }
   },
   "outputs": [
    {
     "data": {
      "text/plain": [
       "age                    73\n",
       "workclass               9\n",
       "education              16\n",
       "education-num          16\n",
       "marital-status          7\n",
       "occupation             15\n",
       "relationship            6\n",
       "race                    5\n",
       "sex                     2\n",
       "capital-gain          119\n",
       "capital-loss           89\n",
       "hours-per-week         94\n",
       ">50K                    2\n",
       "Money_by_sex            4\n",
       "is_male                 2\n",
       "Amer-Indian-Eskimo      2\n",
       "Asian-Pac-Islander      2\n",
       "Black                   2\n",
       "Other                   2\n",
       "White                   2\n",
       "dtype: int64"
      ]
     },
     "execution_count": 134,
     "metadata": {},
     "output_type": "execute_result"
    }
   ],
   "source": [
    "income_df.nunique()"
   ]
  },
  {
   "cell_type": "markdown",
   "metadata": {
    "colab_type": "text",
    "id": "9QQLdwyY4LP2",
    "slideshow": {
     "slide_type": "slide"
    }
   },
   "source": [
    "# Education Levels\n",
    "The education column and the education-num column are related.  Education lists the highest level of education that a person has achieved and the education-num column is that same information in numerical form."
   ]
  },
  {
   "cell_type": "code",
   "execution_count": 135,
   "metadata": {
    "colab": {
     "base_uri": "https://localhost:8080/",
     "height": 0
    },
    "colab_type": "code",
    "executionInfo": {
     "elapsed": 43254,
     "status": "ok",
     "timestamp": 1580071227484,
     "user": {
      "displayName": "Vince Payne",
      "photoUrl": "https://lh3.googleusercontent.com/a-/AAuE7mCP60AdSc8hNhjbgz0TQ2KWP4jwdyaOnPMdvDrJAA=s64",
      "userId": "14103510985297891925"
     },
     "user_tz": 360
    },
    "id": "2xkzw8fD5_YV",
    "outputId": "01fad0f8-f368-42f2-e47f-64c446de8610",
    "slideshow": {
     "slide_type": "fragment"
    }
   },
   "outputs": [
    {
     "data": {
      "text/plain": [
       "16"
      ]
     },
     "execution_count": 135,
     "metadata": {},
     "output_type": "execute_result"
    }
   ],
   "source": [
    "income_df['education'].nunique()"
   ]
  },
  {
   "cell_type": "code",
   "execution_count": 136,
   "metadata": {
    "colab": {
     "base_uri": "https://localhost:8080/",
     "height": 0
    },
    "colab_type": "code",
    "executionInfo": {
     "elapsed": 43525,
     "status": "ok",
     "timestamp": 1580071227760,
     "user": {
      "displayName": "Vince Payne",
      "photoUrl": "https://lh3.googleusercontent.com/a-/AAuE7mCP60AdSc8hNhjbgz0TQ2KWP4jwdyaOnPMdvDrJAA=s64",
      "userId": "14103510985297891925"
     },
     "user_tz": 360
    },
    "id": "YX33MDxB4atJ",
    "outputId": "7a70abce-cfb9-4fd9-80a4-5e3b9e4d913c",
    "slideshow": {
     "slide_type": "slide"
    }
   },
   "outputs": [
    {
     "data": {
      "image/png": "[encoded data removed]",
      "text/plain": [
       "<Figure size 1440x720 with 1 Axes>"
      ]
     },
     "metadata": {
      "needs_background": "light"
     },
     "output_type": "display_data"
    }
   ],
   "source": [
    "plt.figure(figsize=(20,10))\n",
    "income_df['education'].value_counts().plot(kind='bar', rot=0)\n",
    "plt.xlabel('Levels of education')\n",
    "plt.ylabel('Number of people')\n",
    "plt.title('Number of people based on Education level')\n",
    "plt.show()"
   ]
  },
  {
   "cell_type": "code",
   "execution_count": 137,
   "metadata": {
    "colab": {
     "base_uri": "https://localhost:8080/",
     "height": 0
    },
    "colab_type": "code",
    "executionInfo": {
     "elapsed": 43522,
     "status": "ok",
     "timestamp": 1580071227762,
     "user": {
      "displayName": "Vince Payne",
      "photoUrl": "https://lh3.googleusercontent.com/a-/AAuE7mCP60AdSc8hNhjbgz0TQ2KWP4jwdyaOnPMdvDrJAA=s64",
      "userId": "14103510985297891925"
     },
     "user_tz": 360
    },
    "id": "tk8HhYTpgK_C",
    "outputId": "9f4c08ae-625b-4e06-bbfa-79ed66a49322",
    "slideshow": {
     "slide_type": "skip"
    }
   },
   "outputs": [
    {
     "data": {
      "text/html": [
       "<div>\n",
       "<style scoped>\n",
       "    .dataframe tbody tr th:only-of-type {\n",
       "        vertical-align: middle;\n",
       "    }\n",
       "\n",
       "    .dataframe tbody tr th {\n",
       "        vertical-align: top;\n",
       "    }\n",
       "\n",
       "    .dataframe thead th {\n",
       "        text-align: right;\n",
       "    }\n",
       "</style>\n",
       "<table border=\"1\" class=\"dataframe\">\n",
       "  <thead>\n",
       "    <tr style=\"text-align: right;\">\n",
       "      <th></th>\n",
       "      <th>age</th>\n",
       "      <th>workclass</th>\n",
       "      <th>education</th>\n",
       "      <th>education-num</th>\n",
       "      <th>marital-status</th>\n",
       "      <th>occupation</th>\n",
       "      <th>relationship</th>\n",
       "      <th>race</th>\n",
       "      <th>sex</th>\n",
       "      <th>capital-gain</th>\n",
       "      <th>capital-loss</th>\n",
       "      <th>hours-per-week</th>\n",
       "      <th>&gt;50K</th>\n",
       "      <th>Money_by_sex</th>\n",
       "      <th>is_male</th>\n",
       "      <th>Amer-Indian-Eskimo</th>\n",
       "      <th>Asian-Pac-Islander</th>\n",
       "      <th>Black</th>\n",
       "      <th>Other</th>\n",
       "      <th>White</th>\n",
       "    </tr>\n",
       "  </thead>\n",
       "  <tbody>\n",
       "    <tr>\n",
       "      <td>0</td>\n",
       "      <td>39</td>\n",
       "      <td>State-gov</td>\n",
       "      <td>Bachelors</td>\n",
       "      <td>13</td>\n",
       "      <td>Never-married</td>\n",
       "      <td>Adm-clerical</td>\n",
       "      <td>Not-in-family</td>\n",
       "      <td>White</td>\n",
       "      <td>Male</td>\n",
       "      <td>2174</td>\n",
       "      <td>0</td>\n",
       "      <td>40</td>\n",
       "      <td>0</td>\n",
       "      <td>Male &lt;=50K</td>\n",
       "      <td>1</td>\n",
       "      <td>0</td>\n",
       "      <td>0</td>\n",
       "      <td>0</td>\n",
       "      <td>0</td>\n",
       "      <td>1</td>\n",
       "    </tr>\n",
       "    <tr>\n",
       "      <td>1</td>\n",
       "      <td>50</td>\n",
       "      <td>Self-emp-not-inc</td>\n",
       "      <td>Bachelors</td>\n",
       "      <td>13</td>\n",
       "      <td>Married-civ-spouse</td>\n",
       "      <td>Exec-managerial</td>\n",
       "      <td>Husband</td>\n",
       "      <td>White</td>\n",
       "      <td>Male</td>\n",
       "      <td>0</td>\n",
       "      <td>0</td>\n",
       "      <td>13</td>\n",
       "      <td>0</td>\n",
       "      <td>Male &lt;=50K</td>\n",
       "      <td>1</td>\n",
       "      <td>0</td>\n",
       "      <td>0</td>\n",
       "      <td>0</td>\n",
       "      <td>0</td>\n",
       "      <td>1</td>\n",
       "    </tr>\n",
       "    <tr>\n",
       "      <td>2</td>\n",
       "      <td>38</td>\n",
       "      <td>Private</td>\n",
       "      <td>HS-grad</td>\n",
       "      <td>9</td>\n",
       "      <td>Divorced</td>\n",
       "      <td>Handlers-cleaners</td>\n",
       "      <td>Not-in-family</td>\n",
       "      <td>White</td>\n",
       "      <td>Male</td>\n",
       "      <td>0</td>\n",
       "      <td>0</td>\n",
       "      <td>40</td>\n",
       "      <td>0</td>\n",
       "      <td>Male &lt;=50K</td>\n",
       "      <td>1</td>\n",
       "      <td>0</td>\n",
       "      <td>0</td>\n",
       "      <td>0</td>\n",
       "      <td>0</td>\n",
       "      <td>1</td>\n",
       "    </tr>\n",
       "    <tr>\n",
       "      <td>3</td>\n",
       "      <td>53</td>\n",
       "      <td>Private</td>\n",
       "      <td>11th</td>\n",
       "      <td>7</td>\n",
       "      <td>Married-civ-spouse</td>\n",
       "      <td>Handlers-cleaners</td>\n",
       "      <td>Husband</td>\n",
       "      <td>Black</td>\n",
       "      <td>Male</td>\n",
       "      <td>0</td>\n",
       "      <td>0</td>\n",
       "      <td>40</td>\n",
       "      <td>0</td>\n",
       "      <td>Male &lt;=50K</td>\n",
       "      <td>1</td>\n",
       "      <td>0</td>\n",
       "      <td>0</td>\n",
       "      <td>1</td>\n",
       "      <td>0</td>\n",
       "      <td>0</td>\n",
       "    </tr>\n",
       "    <tr>\n",
       "      <td>5</td>\n",
       "      <td>37</td>\n",
       "      <td>Private</td>\n",
       "      <td>Masters</td>\n",
       "      <td>14</td>\n",
       "      <td>Married-civ-spouse</td>\n",
       "      <td>Exec-managerial</td>\n",
       "      <td>Wife</td>\n",
       "      <td>White</td>\n",
       "      <td>Female</td>\n",
       "      <td>0</td>\n",
       "      <td>0</td>\n",
       "      <td>40</td>\n",
       "      <td>0</td>\n",
       "      <td>Female &lt;=50K</td>\n",
       "      <td>0</td>\n",
       "      <td>0</td>\n",
       "      <td>0</td>\n",
       "      <td>0</td>\n",
       "      <td>0</td>\n",
       "      <td>1</td>\n",
       "    </tr>\n",
       "    <tr>\n",
       "      <td>...</td>\n",
       "      <td>...</td>\n",
       "      <td>...</td>\n",
       "      <td>...</td>\n",
       "      <td>...</td>\n",
       "      <td>...</td>\n",
       "      <td>...</td>\n",
       "      <td>...</td>\n",
       "      <td>...</td>\n",
       "      <td>...</td>\n",
       "      <td>...</td>\n",
       "      <td>...</td>\n",
       "      <td>...</td>\n",
       "      <td>...</td>\n",
       "      <td>...</td>\n",
       "      <td>...</td>\n",
       "      <td>...</td>\n",
       "      <td>...</td>\n",
       "      <td>...</td>\n",
       "      <td>...</td>\n",
       "      <td>...</td>\n",
       "    </tr>\n",
       "    <tr>\n",
       "      <td>32556</td>\n",
       "      <td>27</td>\n",
       "      <td>Private</td>\n",
       "      <td>Assoc-acdm</td>\n",
       "      <td>12</td>\n",
       "      <td>Married-civ-spouse</td>\n",
       "      <td>Tech-support</td>\n",
       "      <td>Wife</td>\n",
       "      <td>White</td>\n",
       "      <td>Female</td>\n",
       "      <td>0</td>\n",
       "      <td>0</td>\n",
       "      <td>38</td>\n",
       "      <td>0</td>\n",
       "      <td>Female &lt;=50K</td>\n",
       "      <td>0</td>\n",
       "      <td>0</td>\n",
       "      <td>0</td>\n",
       "      <td>0</td>\n",
       "      <td>0</td>\n",
       "      <td>1</td>\n",
       "    </tr>\n",
       "    <tr>\n",
       "      <td>32557</td>\n",
       "      <td>40</td>\n",
       "      <td>Private</td>\n",
       "      <td>HS-grad</td>\n",
       "      <td>9</td>\n",
       "      <td>Married-civ-spouse</td>\n",
       "      <td>Machine-op-inspct</td>\n",
       "      <td>Husband</td>\n",
       "      <td>White</td>\n",
       "      <td>Male</td>\n",
       "      <td>0</td>\n",
       "      <td>0</td>\n",
       "      <td>40</td>\n",
       "      <td>1</td>\n",
       "      <td>Male &gt;50K</td>\n",
       "      <td>1</td>\n",
       "      <td>0</td>\n",
       "      <td>0</td>\n",
       "      <td>0</td>\n",
       "      <td>0</td>\n",
       "      <td>1</td>\n",
       "    </tr>\n",
       "    <tr>\n",
       "      <td>32558</td>\n",
       "      <td>58</td>\n",
       "      <td>Private</td>\n",
       "      <td>HS-grad</td>\n",
       "      <td>9</td>\n",
       "      <td>Widowed</td>\n",
       "      <td>Adm-clerical</td>\n",
       "      <td>Unmarried</td>\n",
       "      <td>White</td>\n",
       "      <td>Female</td>\n",
       "      <td>0</td>\n",
       "      <td>0</td>\n",
       "      <td>40</td>\n",
       "      <td>0</td>\n",
       "      <td>Female &lt;=50K</td>\n",
       "      <td>0</td>\n",
       "      <td>0</td>\n",
       "      <td>0</td>\n",
       "      <td>0</td>\n",
       "      <td>0</td>\n",
       "      <td>1</td>\n",
       "    </tr>\n",
       "    <tr>\n",
       "      <td>32559</td>\n",
       "      <td>22</td>\n",
       "      <td>Private</td>\n",
       "      <td>HS-grad</td>\n",
       "      <td>9</td>\n",
       "      <td>Never-married</td>\n",
       "      <td>Adm-clerical</td>\n",
       "      <td>Own-child</td>\n",
       "      <td>White</td>\n",
       "      <td>Male</td>\n",
       "      <td>0</td>\n",
       "      <td>0</td>\n",
       "      <td>20</td>\n",
       "      <td>0</td>\n",
       "      <td>Male &lt;=50K</td>\n",
       "      <td>1</td>\n",
       "      <td>0</td>\n",
       "      <td>0</td>\n",
       "      <td>0</td>\n",
       "      <td>0</td>\n",
       "      <td>1</td>\n",
       "    </tr>\n",
       "    <tr>\n",
       "      <td>32560</td>\n",
       "      <td>52</td>\n",
       "      <td>Self-emp-inc</td>\n",
       "      <td>HS-grad</td>\n",
       "      <td>9</td>\n",
       "      <td>Married-civ-spouse</td>\n",
       "      <td>Exec-managerial</td>\n",
       "      <td>Wife</td>\n",
       "      <td>White</td>\n",
       "      <td>Female</td>\n",
       "      <td>15024</td>\n",
       "      <td>0</td>\n",
       "      <td>40</td>\n",
       "      <td>1</td>\n",
       "      <td>Female &gt;50K</td>\n",
       "      <td>0</td>\n",
       "      <td>0</td>\n",
       "      <td>0</td>\n",
       "      <td>0</td>\n",
       "      <td>0</td>\n",
       "      <td>1</td>\n",
       "    </tr>\n",
       "  </tbody>\n",
       "</table>\n",
       "<p>29170 rows × 20 columns</p>\n",
       "</div>"
      ],
      "text/plain": [
       "       age          workclass    education  education-num  \\\n",
       "0       39          State-gov    Bachelors             13   \n",
       "1       50   Self-emp-not-inc    Bachelors             13   \n",
       "2       38            Private      HS-grad              9   \n",
       "3       53            Private         11th              7   \n",
       "5       37            Private      Masters             14   \n",
       "...    ...                ...          ...            ...   \n",
       "32556   27            Private   Assoc-acdm             12   \n",
       "32557   40            Private      HS-grad              9   \n",
       "32558   58            Private      HS-grad              9   \n",
       "32559   22            Private      HS-grad              9   \n",
       "32560   52       Self-emp-inc      HS-grad              9   \n",
       "\n",
       "            marital-status          occupation    relationship    race  \\\n",
       "0            Never-married        Adm-clerical   Not-in-family   White   \n",
       "1       Married-civ-spouse     Exec-managerial         Husband   White   \n",
       "2                 Divorced   Handlers-cleaners   Not-in-family   White   \n",
       "3       Married-civ-spouse   Handlers-cleaners         Husband   Black   \n",
       "5       Married-civ-spouse     Exec-managerial            Wife   White   \n",
       "...                    ...                 ...             ...     ...   \n",
       "32556   Married-civ-spouse        Tech-support            Wife   White   \n",
       "32557   Married-civ-spouse   Machine-op-inspct         Husband   White   \n",
       "32558              Widowed        Adm-clerical       Unmarried   White   \n",
       "32559        Never-married        Adm-clerical       Own-child   White   \n",
       "32560   Married-civ-spouse     Exec-managerial            Wife   White   \n",
       "\n",
       "           sex  capital-gain  capital-loss  hours-per-week  >50K  \\\n",
       "0         Male          2174             0              40     0   \n",
       "1         Male             0             0              13     0   \n",
       "2         Male             0             0              40     0   \n",
       "3         Male             0             0              40     0   \n",
       "5       Female             0             0              40     0   \n",
       "...        ...           ...           ...             ...   ...   \n",
       "32556   Female             0             0              38     0   \n",
       "32557     Male             0             0              40     1   \n",
       "32558   Female             0             0              40     0   \n",
       "32559     Male             0             0              20     0   \n",
       "32560   Female         15024             0              40     1   \n",
       "\n",
       "       Money_by_sex  is_male  Amer-Indian-Eskimo  Asian-Pac-Islander  Black  \\\n",
       "0        Male <=50K        1                   0                   0      0   \n",
       "1        Male <=50K        1                   0                   0      0   \n",
       "2        Male <=50K        1                   0                   0      0   \n",
       "3        Male <=50K        1                   0                   0      1   \n",
       "5      Female <=50K        0                   0                   0      0   \n",
       "...             ...      ...                 ...                 ...    ...   \n",
       "32556  Female <=50K        0                   0                   0      0   \n",
       "32557     Male >50K        1                   0                   0      0   \n",
       "32558  Female <=50K        0                   0                   0      0   \n",
       "32559    Male <=50K        1                   0                   0      0   \n",
       "32560   Female >50K        0                   0                   0      0   \n",
       "\n",
       "       Other  White  \n",
       "0          0      1  \n",
       "1          0      1  \n",
       "2          0      1  \n",
       "3          0      0  \n",
       "5          0      1  \n",
       "...      ...    ...  \n",
       "32556      0      1  \n",
       "32557      0      1  \n",
       "32558      0      1  \n",
       "32559      0      1  \n",
       "32560      0      1  \n",
       "\n",
       "[29170 rows x 20 columns]"
      ]
     },
     "execution_count": 137,
     "metadata": {},
     "output_type": "execute_result"
    }
   ],
   "source": [
    "income_df"
   ]
  },
  {
   "cell_type": "markdown",
   "metadata": {
    "colab_type": "text",
    "id": "oaMrlsFN7x7q",
    "slideshow": {
     "slide_type": "slide"
    }
   },
   "source": [
    "It is clear that the overwhelming amount of people from this dataset are from the HS-grad, Some-college, and Bachelors level of education.  There is already a column that uses integers to show the level of education (education-num) in the dataset.  I am going to create my own 'Education_levels' column that will consolidate the 16 different values into 5.  I have decided to combine the HS-Grads, Professional School, and any grade level lower than that into one group (0) and then Some-college, Bachelors, Masters, and Doctorate into their own groups.  "
   ]
  },
  {
   "cell_type": "code",
   "execution_count": 138,
   "metadata": {
    "colab": {
     "base_uri": "https://localhost:8080/",
     "height": 0
    },
    "colab_type": "code",
    "executionInfo": {
     "elapsed": 44326,
     "status": "ok",
     "timestamp": 1580071228571,
     "user": {
      "displayName": "Vince Payne",
      "photoUrl": "https://lh3.googleusercontent.com/a-/AAuE7mCP60AdSc8hNhjbgz0TQ2KWP4jwdyaOnPMdvDrJAA=s64",
      "userId": "14103510985297891925"
     },
     "user_tz": 360
    },
    "id": "0zmuwAjulQos",
    "outputId": "8350ee13-1875-41f9-be3d-24bb93a2bdeb",
    "slideshow": {
     "slide_type": "fragment"
    }
   },
   "outputs": [],
   "source": [
    "def new_column(row):\n",
    "  \n",
    "  if row['education'].strip() == 'Some-college':\n",
    "    return 1\n",
    "  elif row['education'].strip() == 'Bachelors':\n",
    "    return 2\n",
    "  elif row['education'].strip() == 'Masters':\n",
    "    return 3\n",
    "  elif row['education'].strip() == 'Doctorate':\n",
    "    return 4\n",
    "  else:\n",
    "    return 0\n",
    "income_df['Education_levels'] = income_df.apply(new_column, axis='columns')"
   ]
  },
  {
   "cell_type": "code",
   "execution_count": 139,
   "metadata": {
    "colab": {
     "base_uri": "https://localhost:8080/",
     "height": 0
    },
    "colab_type": "code",
    "executionInfo": {
     "elapsed": 44322,
     "status": "ok",
     "timestamp": 1580071228573,
     "user": {
      "displayName": "Vince Payne",
      "photoUrl": "https://lh3.googleusercontent.com/a-/AAuE7mCP60AdSc8hNhjbgz0TQ2KWP4jwdyaOnPMdvDrJAA=s64",
      "userId": "14103510985297891925"
     },
     "user_tz": 360
    },
    "id": "Mh-TvGpOkTgr",
    "outputId": "4f2be7d0-9e5d-45ee-96a8-ac2d16c1be88",
    "slideshow": {
     "slide_type": "slide"
    }
   },
   "outputs": [
    {
     "data": {
      "text/html": [
       "<div>\n",
       "<style scoped>\n",
       "    .dataframe tbody tr th:only-of-type {\n",
       "        vertical-align: middle;\n",
       "    }\n",
       "\n",
       "    .dataframe tbody tr th {\n",
       "        vertical-align: top;\n",
       "    }\n",
       "\n",
       "    .dataframe thead th {\n",
       "        text-align: right;\n",
       "    }\n",
       "</style>\n",
       "<table border=\"1\" class=\"dataframe\">\n",
       "  <thead>\n",
       "    <tr style=\"text-align: right;\">\n",
       "      <th></th>\n",
       "      <th>age</th>\n",
       "      <th>workclass</th>\n",
       "      <th>education</th>\n",
       "      <th>education-num</th>\n",
       "      <th>marital-status</th>\n",
       "      <th>occupation</th>\n",
       "      <th>relationship</th>\n",
       "      <th>race</th>\n",
       "      <th>sex</th>\n",
       "      <th>capital-gain</th>\n",
       "      <th>...</th>\n",
       "      <th>hours-per-week</th>\n",
       "      <th>&gt;50K</th>\n",
       "      <th>Money_by_sex</th>\n",
       "      <th>is_male</th>\n",
       "      <th>Amer-Indian-Eskimo</th>\n",
       "      <th>Asian-Pac-Islander</th>\n",
       "      <th>Black</th>\n",
       "      <th>Other</th>\n",
       "      <th>White</th>\n",
       "      <th>Education_levels</th>\n",
       "    </tr>\n",
       "  </thead>\n",
       "  <tbody>\n",
       "    <tr>\n",
       "      <td>0</td>\n",
       "      <td>39</td>\n",
       "      <td>State-gov</td>\n",
       "      <td>Bachelors</td>\n",
       "      <td>13</td>\n",
       "      <td>Never-married</td>\n",
       "      <td>Adm-clerical</td>\n",
       "      <td>Not-in-family</td>\n",
       "      <td>White</td>\n",
       "      <td>Male</td>\n",
       "      <td>2174</td>\n",
       "      <td>...</td>\n",
       "      <td>40</td>\n",
       "      <td>0</td>\n",
       "      <td>Male &lt;=50K</td>\n",
       "      <td>1</td>\n",
       "      <td>0</td>\n",
       "      <td>0</td>\n",
       "      <td>0</td>\n",
       "      <td>0</td>\n",
       "      <td>1</td>\n",
       "      <td>2</td>\n",
       "    </tr>\n",
       "    <tr>\n",
       "      <td>1</td>\n",
       "      <td>50</td>\n",
       "      <td>Self-emp-not-inc</td>\n",
       "      <td>Bachelors</td>\n",
       "      <td>13</td>\n",
       "      <td>Married-civ-spouse</td>\n",
       "      <td>Exec-managerial</td>\n",
       "      <td>Husband</td>\n",
       "      <td>White</td>\n",
       "      <td>Male</td>\n",
       "      <td>0</td>\n",
       "      <td>...</td>\n",
       "      <td>13</td>\n",
       "      <td>0</td>\n",
       "      <td>Male &lt;=50K</td>\n",
       "      <td>1</td>\n",
       "      <td>0</td>\n",
       "      <td>0</td>\n",
       "      <td>0</td>\n",
       "      <td>0</td>\n",
       "      <td>1</td>\n",
       "      <td>2</td>\n",
       "    </tr>\n",
       "    <tr>\n",
       "      <td>2</td>\n",
       "      <td>38</td>\n",
       "      <td>Private</td>\n",
       "      <td>HS-grad</td>\n",
       "      <td>9</td>\n",
       "      <td>Divorced</td>\n",
       "      <td>Handlers-cleaners</td>\n",
       "      <td>Not-in-family</td>\n",
       "      <td>White</td>\n",
       "      <td>Male</td>\n",
       "      <td>0</td>\n",
       "      <td>...</td>\n",
       "      <td>40</td>\n",
       "      <td>0</td>\n",
       "      <td>Male &lt;=50K</td>\n",
       "      <td>1</td>\n",
       "      <td>0</td>\n",
       "      <td>0</td>\n",
       "      <td>0</td>\n",
       "      <td>0</td>\n",
       "      <td>1</td>\n",
       "      <td>0</td>\n",
       "    </tr>\n",
       "    <tr>\n",
       "      <td>3</td>\n",
       "      <td>53</td>\n",
       "      <td>Private</td>\n",
       "      <td>11th</td>\n",
       "      <td>7</td>\n",
       "      <td>Married-civ-spouse</td>\n",
       "      <td>Handlers-cleaners</td>\n",
       "      <td>Husband</td>\n",
       "      <td>Black</td>\n",
       "      <td>Male</td>\n",
       "      <td>0</td>\n",
       "      <td>...</td>\n",
       "      <td>40</td>\n",
       "      <td>0</td>\n",
       "      <td>Male &lt;=50K</td>\n",
       "      <td>1</td>\n",
       "      <td>0</td>\n",
       "      <td>0</td>\n",
       "      <td>1</td>\n",
       "      <td>0</td>\n",
       "      <td>0</td>\n",
       "      <td>0</td>\n",
       "    </tr>\n",
       "    <tr>\n",
       "      <td>5</td>\n",
       "      <td>37</td>\n",
       "      <td>Private</td>\n",
       "      <td>Masters</td>\n",
       "      <td>14</td>\n",
       "      <td>Married-civ-spouse</td>\n",
       "      <td>Exec-managerial</td>\n",
       "      <td>Wife</td>\n",
       "      <td>White</td>\n",
       "      <td>Female</td>\n",
       "      <td>0</td>\n",
       "      <td>...</td>\n",
       "      <td>40</td>\n",
       "      <td>0</td>\n",
       "      <td>Female &lt;=50K</td>\n",
       "      <td>0</td>\n",
       "      <td>0</td>\n",
       "      <td>0</td>\n",
       "      <td>0</td>\n",
       "      <td>0</td>\n",
       "      <td>1</td>\n",
       "      <td>3</td>\n",
       "    </tr>\n",
       "  </tbody>\n",
       "</table>\n",
       "<p>5 rows × 21 columns</p>\n",
       "</div>"
      ],
      "text/plain": [
       "   age          workclass   education  education-num       marital-status  \\\n",
       "0   39          State-gov   Bachelors             13        Never-married   \n",
       "1   50   Self-emp-not-inc   Bachelors             13   Married-civ-spouse   \n",
       "2   38            Private     HS-grad              9             Divorced   \n",
       "3   53            Private        11th              7   Married-civ-spouse   \n",
       "5   37            Private     Masters             14   Married-civ-spouse   \n",
       "\n",
       "           occupation    relationship    race      sex  capital-gain  ...  \\\n",
       "0        Adm-clerical   Not-in-family   White     Male          2174  ...   \n",
       "1     Exec-managerial         Husband   White     Male             0  ...   \n",
       "2   Handlers-cleaners   Not-in-family   White     Male             0  ...   \n",
       "3   Handlers-cleaners         Husband   Black     Male             0  ...   \n",
       "5     Exec-managerial            Wife   White   Female             0  ...   \n",
       "\n",
       "   hours-per-week  >50K  Money_by_sex is_male  Amer-Indian-Eskimo  \\\n",
       "0              40     0    Male <=50K       1                   0   \n",
       "1              13     0    Male <=50K       1                   0   \n",
       "2              40     0    Male <=50K       1                   0   \n",
       "3              40     0    Male <=50K       1                   0   \n",
       "5              40     0  Female <=50K       0                   0   \n",
       "\n",
       "   Asian-Pac-Islander  Black  Other  White  Education_levels  \n",
       "0                   0      0      0      1                 2  \n",
       "1                   0      0      0      1                 2  \n",
       "2                   0      0      0      1                 0  \n",
       "3                   0      1      0      0                 0  \n",
       "5                   0      0      0      1                 3  \n",
       "\n",
       "[5 rows x 21 columns]"
      ]
     },
     "execution_count": 139,
     "metadata": {},
     "output_type": "execute_result"
    }
   ],
   "source": [
    "income_df.head()"
   ]
  },
  {
   "cell_type": "markdown",
   "metadata": {
    "colab_type": "text",
    "id": "QQQRioc8tMeg",
    "slideshow": {
     "slide_type": "slide"
    }
   },
   "source": [
    "# Work Class"
   ]
  },
  {
   "cell_type": "code",
   "execution_count": 140,
   "metadata": {
    "colab": {
     "base_uri": "https://localhost:8080/",
     "height": 621
    },
    "colab_type": "code",
    "executionInfo": {
     "elapsed": 44783,
     "status": "ok",
     "timestamp": 1580071229039,
     "user": {
      "displayName": "Vince Payne",
      "photoUrl": "https://lh3.googleusercontent.com/a-/AAuE7mCP60AdSc8hNhjbgz0TQ2KWP4jwdyaOnPMdvDrJAA=s64",
      "userId": "14103510985297891925"
     },
     "user_tz": 360
    },
    "id": "E9U3XwdVtQkP",
    "outputId": "3e37e8d0-064b-44d3-ffdd-02691b27889e",
    "slideshow": {
     "slide_type": "slide"
    }
   },
   "outputs": [
    {
     "data": {
      "image/png": "[encoded data removed]",
      "text/plain": [
       "<Figure size 1440x720 with 1 Axes>"
      ]
     },
     "metadata": {
      "needs_background": "light"
     },
     "output_type": "display_data"
    }
   ],
   "source": [
    "plt.figure(figsize=(20,10))\n",
    "income_df['workclass'].value_counts().plot(kind='bar', rot=0)\n",
    "plt.xlabel('Different positions')\n",
    "plt.ylabel('Number of people')\n",
    "plt.title('Number of people based on Job')\n",
    "plt.show()"
   ]
  },
  {
   "cell_type": "markdown",
   "metadata": {
    "colab_type": "text",
    "id": "WrGsbYo2uKIp",
    "slideshow": {
     "slide_type": "fragment"
    }
   },
   "source": [
    "Based on this chart it is clear that the majority of the workclass is private.  I am going to run create dummies and then run a correlation function to see what the correlation between this and my target variable is."
   ]
  },
  {
   "cell_type": "code",
   "execution_count": 141,
   "metadata": {
    "colab": {
     "base_uri": "https://localhost:8080/",
     "height": 121
    },
    "colab_type": "code",
    "executionInfo": {
     "elapsed": 44778,
     "status": "ok",
     "timestamp": 1580071229040,
     "user": {
      "displayName": "Vince Payne",
      "photoUrl": "https://lh3.googleusercontent.com/a-/AAuE7mCP60AdSc8hNhjbgz0TQ2KWP4jwdyaOnPMdvDrJAA=s64",
      "userId": "14103510985297891925"
     },
     "user_tz": 360
    },
    "id": "39chxbjguhOY",
    "outputId": "242ab58f-78d3-48ba-860c-eee1d71ed2d3",
    "slideshow": {
     "slide_type": "slide"
    }
   },
   "outputs": [],
   "source": [
    "income_df[['Private','Self-emp-not-inc','Local-gov','?','State-gov Different positions','Self-emp-inc', 'Federal-gov','Without-pay','Never-worked']] = pd.get_dummies(income_df['workclass'])"
   ]
  },
  {
   "cell_type": "code",
   "execution_count": 142,
   "metadata": {
    "colab": {
     "base_uri": "https://localhost:8080/",
     "height": 847
    },
    "colab_type": "code",
    "executionInfo": {
     "elapsed": 44774,
     "status": "ok",
     "timestamp": 1580071229041,
     "user": {
      "displayName": "Vince Payne",
      "photoUrl": "https://lh3.googleusercontent.com/a-/AAuE7mCP60AdSc8hNhjbgz0TQ2KWP4jwdyaOnPMdvDrJAA=s64",
      "userId": "14103510985297891925"
     },
     "user_tz": 360
    },
    "id": "dohVzIIOvEqj",
    "outputId": "b186d250-1988-4a8c-b91c-34ee2086fd0f",
    "slideshow": {
     "slide_type": "fragment"
    }
   },
   "outputs": [
    {
     "data": {
      "text/html": [
       "<div>\n",
       "<style scoped>\n",
       "    .dataframe tbody tr th:only-of-type {\n",
       "        vertical-align: middle;\n",
       "    }\n",
       "\n",
       "    .dataframe tbody tr th {\n",
       "        vertical-align: top;\n",
       "    }\n",
       "\n",
       "    .dataframe thead th {\n",
       "        text-align: right;\n",
       "    }\n",
       "</style>\n",
       "<table border=\"1\" class=\"dataframe\">\n",
       "  <thead>\n",
       "    <tr style=\"text-align: right;\">\n",
       "      <th></th>\n",
       "      <th>age</th>\n",
       "      <th>education-num</th>\n",
       "      <th>capital-gain</th>\n",
       "      <th>capital-loss</th>\n",
       "      <th>hours-per-week</th>\n",
       "      <th>&gt;50K</th>\n",
       "      <th>is_male</th>\n",
       "      <th>Amer-Indian-Eskimo</th>\n",
       "      <th>Asian-Pac-Islander</th>\n",
       "      <th>Black</th>\n",
       "      <th>...</th>\n",
       "      <th>Education_levels</th>\n",
       "      <th>Private</th>\n",
       "      <th>Self-emp-not-inc</th>\n",
       "      <th>Local-gov</th>\n",
       "      <th>?</th>\n",
       "      <th>State-gov Different positions</th>\n",
       "      <th>Self-emp-inc</th>\n",
       "      <th>Federal-gov</th>\n",
       "      <th>Without-pay</th>\n",
       "      <th>Never-worked</th>\n",
       "    </tr>\n",
       "  </thead>\n",
       "  <tbody>\n",
       "    <tr>\n",
       "      <td>age</td>\n",
       "      <td>1.000000</td>\n",
       "      <td>0.033089</td>\n",
       "      <td>0.077409</td>\n",
       "      <td>0.057485</td>\n",
       "      <td>0.071453</td>\n",
       "      <td>0.234725</td>\n",
       "      <td>0.096393</td>\n",
       "      <td>-0.009499</td>\n",
       "      <td>-0.011857</td>\n",
       "      <td>-0.018174</td>\n",
       "      <td>...</td>\n",
       "      <td>0.056001</td>\n",
       "      <td>0.046279</td>\n",
       "      <td>0.050603</td>\n",
       "      <td>0.062393</td>\n",
       "      <td>-0.020418</td>\n",
       "      <td>-0.202111</td>\n",
       "      <td>0.102990</td>\n",
       "      <td>0.139084</td>\n",
       "      <td>0.011409</td>\n",
       "      <td>0.011775</td>\n",
       "    </tr>\n",
       "    <tr>\n",
       "      <td>education-num</td>\n",
       "      <td>0.033089</td>\n",
       "      <td>1.000000</td>\n",
       "      <td>0.127686</td>\n",
       "      <td>0.079305</td>\n",
       "      <td>0.161978</td>\n",
       "      <td>0.335994</td>\n",
       "      <td>0.013395</td>\n",
       "      <td>-0.034444</td>\n",
       "      <td>0.020205</td>\n",
       "      <td>-0.096061</td>\n",
       "      <td>...</td>\n",
       "      <td>0.746284</td>\n",
       "      <td>-0.088391</td>\n",
       "      <td>0.053788</td>\n",
       "      <td>0.099097</td>\n",
       "      <td>-0.017731</td>\n",
       "      <td>-0.105843</td>\n",
       "      <td>0.078151</td>\n",
       "      <td>0.010598</td>\n",
       "      <td>0.094541</td>\n",
       "      <td>-0.009633</td>\n",
       "    </tr>\n",
       "    <tr>\n",
       "      <td>capital-gain</td>\n",
       "      <td>0.077409</td>\n",
       "      <td>0.127686</td>\n",
       "      <td>1.000000</td>\n",
       "      <td>-0.032194</td>\n",
       "      <td>0.078478</td>\n",
       "      <td>0.222601</td>\n",
       "      <td>0.050105</td>\n",
       "      <td>-0.006625</td>\n",
       "      <td>-0.003882</td>\n",
       "      <td>-0.021674</td>\n",
       "      <td>...</td>\n",
       "      <td>0.077535</td>\n",
       "      <td>-0.017093</td>\n",
       "      <td>-0.009148</td>\n",
       "      <td>-0.008614</td>\n",
       "      <td>-0.002286</td>\n",
       "      <td>-0.035708</td>\n",
       "      <td>0.099539</td>\n",
       "      <td>0.030964</td>\n",
       "      <td>-0.010710</td>\n",
       "      <td>-0.001613</td>\n",
       "    </tr>\n",
       "    <tr>\n",
       "      <td>capital-loss</td>\n",
       "      <td>0.057485</td>\n",
       "      <td>0.079305</td>\n",
       "      <td>-0.032194</td>\n",
       "      <td>1.000000</td>\n",
       "      <td>0.051498</td>\n",
       "      <td>0.149118</td>\n",
       "      <td>0.044675</td>\n",
       "      <td>-0.013128</td>\n",
       "      <td>-0.011450</td>\n",
       "      <td>-0.024733</td>\n",
       "      <td>...</td>\n",
       "      <td>0.069837</td>\n",
       "      <td>-0.017458</td>\n",
       "      <td>0.008455</td>\n",
       "      <td>0.014211</td>\n",
       "      <td>-0.003380</td>\n",
       "      <td>-0.022180</td>\n",
       "      <td>0.027737</td>\n",
       "      <td>0.018940</td>\n",
       "      <td>-0.003506</td>\n",
       "      <td>-0.004607</td>\n",
       "    </tr>\n",
       "    <tr>\n",
       "      <td>hours-per-week</td>\n",
       "      <td>0.071453</td>\n",
       "      <td>0.161978</td>\n",
       "      <td>0.078478</td>\n",
       "      <td>0.051498</td>\n",
       "      <td>1.000000</td>\n",
       "      <td>0.232551</td>\n",
       "      <td>0.233945</td>\n",
       "      <td>-0.002494</td>\n",
       "      <td>-0.013056</td>\n",
       "      <td>-0.056127</td>\n",
       "      <td>...</td>\n",
       "      <td>0.104484</td>\n",
       "      <td>-0.170550</td>\n",
       "      <td>0.012424</td>\n",
       "      <td>0.014242</td>\n",
       "      <td>-0.014997</td>\n",
       "      <td>-0.019009</td>\n",
       "      <td>0.123798</td>\n",
       "      <td>0.092681</td>\n",
       "      <td>-0.022178</td>\n",
       "      <td>-0.010441</td>\n",
       "    </tr>\n",
       "    <tr>\n",
       "      <td>&gt;50K</td>\n",
       "      <td>0.234725</td>\n",
       "      <td>0.335994</td>\n",
       "      <td>0.222601</td>\n",
       "      <td>0.149118</td>\n",
       "      <td>0.232551</td>\n",
       "      <td>1.000000</td>\n",
       "      <td>0.221179</td>\n",
       "      <td>-0.030003</td>\n",
       "      <td>-0.003026</td>\n",
       "      <td>-0.092829</td>\n",
       "      <td>...</td>\n",
       "      <td>0.282636</td>\n",
       "      <td>-0.079700</td>\n",
       "      <td>0.054833</td>\n",
       "      <td>0.029969</td>\n",
       "      <td>-0.008845</td>\n",
       "      <td>-0.070405</td>\n",
       "      <td>0.138165</td>\n",
       "      <td>0.026633</td>\n",
       "      <td>0.011396</td>\n",
       "      <td>-0.012056</td>\n",
       "    </tr>\n",
       "    <tr>\n",
       "      <td>is_male</td>\n",
       "      <td>0.096393</td>\n",
       "      <td>0.013395</td>\n",
       "      <td>0.050105</td>\n",
       "      <td>0.044675</td>\n",
       "      <td>0.233945</td>\n",
       "      <td>0.221179</td>\n",
       "      <td>1.000000</td>\n",
       "      <td>-0.011443</td>\n",
       "      <td>-0.013222</td>\n",
       "      <td>-0.120241</td>\n",
       "      <td>...</td>\n",
       "      <td>0.008547</td>\n",
       "      <td>-0.062034</td>\n",
       "      <td>0.000881</td>\n",
       "      <td>-0.038063</td>\n",
       "      <td>0.001520</td>\n",
       "      <td>-0.038238</td>\n",
       "      <td>0.088782</td>\n",
       "      <td>0.110663</td>\n",
       "      <td>-0.022775</td>\n",
       "      <td>-0.002363</td>\n",
       "    </tr>\n",
       "    <tr>\n",
       "      <td>Amer-Indian-Eskimo</td>\n",
       "      <td>-0.009499</td>\n",
       "      <td>-0.034444</td>\n",
       "      <td>-0.006625</td>\n",
       "      <td>-0.013128</td>\n",
       "      <td>-0.002494</td>\n",
       "      <td>-0.030003</td>\n",
       "      <td>-0.011443</td>\n",
       "      <td>1.000000</td>\n",
       "      <td>-0.010181</td>\n",
       "      <td>-0.033201</td>\n",
       "      <td>...</td>\n",
       "      <td>-0.028624</td>\n",
       "      <td>0.012060</td>\n",
       "      <td>0.019951</td>\n",
       "      <td>0.022089</td>\n",
       "      <td>-0.001569</td>\n",
       "      <td>-0.021689</td>\n",
       "      <td>-0.015211</td>\n",
       "      <td>0.000670</td>\n",
       "      <td>0.004669</td>\n",
       "      <td>-0.002138</td>\n",
       "    </tr>\n",
       "    <tr>\n",
       "      <td>Asian-Pac-Islander</td>\n",
       "      <td>-0.011857</td>\n",
       "      <td>0.020205</td>\n",
       "      <td>-0.003882</td>\n",
       "      <td>-0.011450</td>\n",
       "      <td>-0.013056</td>\n",
       "      <td>-0.003026</td>\n",
       "      <td>-0.013222</td>\n",
       "      <td>-0.010181</td>\n",
       "      <td>1.000000</td>\n",
       "      <td>-0.032973</td>\n",
       "      <td>...</td>\n",
       "      <td>0.010948</td>\n",
       "      <td>0.003558</td>\n",
       "      <td>0.024343</td>\n",
       "      <td>-0.004929</td>\n",
       "      <td>-0.001558</td>\n",
       "      <td>-0.007118</td>\n",
       "      <td>-0.003650</td>\n",
       "      <td>-0.009118</td>\n",
       "      <td>0.013622</td>\n",
       "      <td>-0.002123</td>\n",
       "    </tr>\n",
       "    <tr>\n",
       "      <td>Black</td>\n",
       "      <td>-0.018174</td>\n",
       "      <td>-0.096061</td>\n",
       "      <td>-0.021674</td>\n",
       "      <td>-0.024733</td>\n",
       "      <td>-0.056127</td>\n",
       "      <td>-0.092829</td>\n",
       "      <td>-0.120241</td>\n",
       "      <td>-0.033201</td>\n",
       "      <td>-0.032973</td>\n",
       "      <td>1.000000</td>\n",
       "      <td>...</td>\n",
       "      <td>-0.076991</td>\n",
       "      <td>0.019965</td>\n",
       "      <td>0.053964</td>\n",
       "      <td>0.036155</td>\n",
       "      <td>0.009870</td>\n",
       "      <td>-0.002211</td>\n",
       "      <td>-0.048711</td>\n",
       "      <td>-0.061948</td>\n",
       "      <td>0.017726</td>\n",
       "      <td>-0.001438</td>\n",
       "    </tr>\n",
       "    <tr>\n",
       "      <td>Other</td>\n",
       "      <td>-0.035037</td>\n",
       "      <td>-0.015502</td>\n",
       "      <td>-0.001066</td>\n",
       "      <td>-0.007277</td>\n",
       "      <td>-0.010683</td>\n",
       "      <td>-0.022453</td>\n",
       "      <td>-0.014464</td>\n",
       "      <td>-0.006748</td>\n",
       "      <td>-0.006702</td>\n",
       "      <td>-0.021855</td>\n",
       "      <td>...</td>\n",
       "      <td>-0.012150</td>\n",
       "      <td>0.019326</td>\n",
       "      <td>0.006267</td>\n",
       "      <td>-0.009605</td>\n",
       "      <td>-0.001033</td>\n",
       "      <td>0.005538</td>\n",
       "      <td>-0.006795</td>\n",
       "      <td>-0.013823</td>\n",
       "      <td>-0.003501</td>\n",
       "      <td>-0.001407</td>\n",
       "    </tr>\n",
       "    <tr>\n",
       "      <td>White</td>\n",
       "      <td>0.030095</td>\n",
       "      <td>0.094556</td>\n",
       "      <td>0.023060</td>\n",
       "      <td>0.031390</td>\n",
       "      <td>0.057744</td>\n",
       "      <td>0.098753</td>\n",
       "      <td>0.119373</td>\n",
       "      <td>-0.272043</td>\n",
       "      <td>-0.270180</td>\n",
       "      <td>-0.881049</td>\n",
       "      <td>...</td>\n",
       "      <td>0.077639</td>\n",
       "      <td>-0.026786</td>\n",
       "      <td>-0.063677</td>\n",
       "      <td>-0.036067</td>\n",
       "      <td>-0.007775</td>\n",
       "      <td>0.009695</td>\n",
       "      <td>0.051272</td>\n",
       "      <td>0.061484</td>\n",
       "      <td>-0.020923</td>\n",
       "      <td>0.002890</td>\n",
       "    </tr>\n",
       "    <tr>\n",
       "      <td>Education_levels</td>\n",
       "      <td>0.056001</td>\n",
       "      <td>0.746284</td>\n",
       "      <td>0.077535</td>\n",
       "      <td>0.069837</td>\n",
       "      <td>0.104484</td>\n",
       "      <td>0.282636</td>\n",
       "      <td>0.008547</td>\n",
       "      <td>-0.028624</td>\n",
       "      <td>0.010948</td>\n",
       "      <td>-0.076991</td>\n",
       "      <td>...</td>\n",
       "      <td>1.000000</td>\n",
       "      <td>-0.045605</td>\n",
       "      <td>0.035460</td>\n",
       "      <td>0.115193</td>\n",
       "      <td>-0.007504</td>\n",
       "      <td>-0.110177</td>\n",
       "      <td>0.049098</td>\n",
       "      <td>-0.012643</td>\n",
       "      <td>0.107761</td>\n",
       "      <td>-0.011413</td>\n",
       "    </tr>\n",
       "    <tr>\n",
       "      <td>Private</td>\n",
       "      <td>0.046279</td>\n",
       "      <td>-0.088391</td>\n",
       "      <td>-0.017093</td>\n",
       "      <td>-0.017458</td>\n",
       "      <td>-0.170550</td>\n",
       "      <td>-0.079700</td>\n",
       "      <td>-0.062034</td>\n",
       "      <td>0.012060</td>\n",
       "      <td>0.003558</td>\n",
       "      <td>0.019965</td>\n",
       "      <td>...</td>\n",
       "      <td>-0.045605</td>\n",
       "      <td>1.000000</td>\n",
       "      <td>-0.043463</td>\n",
       "      <td>-0.065835</td>\n",
       "      <td>-0.003805</td>\n",
       "      <td>-0.366591</td>\n",
       "      <td>-0.046052</td>\n",
       "      <td>-0.072066</td>\n",
       "      <td>-0.051085</td>\n",
       "      <td>-0.005185</td>\n",
       "    </tr>\n",
       "    <tr>\n",
       "      <td>Self-emp-not-inc</td>\n",
       "      <td>0.050603</td>\n",
       "      <td>0.053788</td>\n",
       "      <td>-0.009148</td>\n",
       "      <td>0.008455</td>\n",
       "      <td>0.012424</td>\n",
       "      <td>0.054833</td>\n",
       "      <td>0.000881</td>\n",
       "      <td>0.019951</td>\n",
       "      <td>0.024343</td>\n",
       "      <td>0.053964</td>\n",
       "      <td>...</td>\n",
       "      <td>0.035460</td>\n",
       "      <td>-0.043463</td>\n",
       "      <td>1.000000</td>\n",
       "      <td>-0.047450</td>\n",
       "      <td>-0.002742</td>\n",
       "      <td>-0.264215</td>\n",
       "      <td>-0.033191</td>\n",
       "      <td>-0.051940</td>\n",
       "      <td>-0.036819</td>\n",
       "      <td>-0.003737</td>\n",
       "    </tr>\n",
       "    <tr>\n",
       "      <td>Local-gov</td>\n",
       "      <td>0.062393</td>\n",
       "      <td>0.099097</td>\n",
       "      <td>-0.008614</td>\n",
       "      <td>0.014211</td>\n",
       "      <td>0.014242</td>\n",
       "      <td>0.029969</td>\n",
       "      <td>-0.038063</td>\n",
       "      <td>0.022089</td>\n",
       "      <td>-0.004929</td>\n",
       "      <td>0.036155</td>\n",
       "      <td>...</td>\n",
       "      <td>0.115193</td>\n",
       "      <td>-0.065835</td>\n",
       "      <td>-0.047450</td>\n",
       "      <td>1.000000</td>\n",
       "      <td>-0.004154</td>\n",
       "      <td>-0.400221</td>\n",
       "      <td>-0.050276</td>\n",
       "      <td>-0.078677</td>\n",
       "      <td>-0.055772</td>\n",
       "      <td>-0.005661</td>\n",
       "    </tr>\n",
       "    <tr>\n",
       "      <td>?</td>\n",
       "      <td>-0.020418</td>\n",
       "      <td>-0.017731</td>\n",
       "      <td>-0.002286</td>\n",
       "      <td>-0.003380</td>\n",
       "      <td>-0.014997</td>\n",
       "      <td>-0.008845</td>\n",
       "      <td>0.001520</td>\n",
       "      <td>-0.001569</td>\n",
       "      <td>-0.001558</td>\n",
       "      <td>0.009870</td>\n",
       "      <td>...</td>\n",
       "      <td>-0.007504</td>\n",
       "      <td>-0.003805</td>\n",
       "      <td>-0.002742</td>\n",
       "      <td>-0.004154</td>\n",
       "      <td>1.000000</td>\n",
       "      <td>-0.023128</td>\n",
       "      <td>-0.002905</td>\n",
       "      <td>-0.004547</td>\n",
       "      <td>-0.003223</td>\n",
       "      <td>-0.000327</td>\n",
       "    </tr>\n",
       "    <tr>\n",
       "      <td>State-gov Different positions</td>\n",
       "      <td>-0.202111</td>\n",
       "      <td>-0.105843</td>\n",
       "      <td>-0.035708</td>\n",
       "      <td>-0.022180</td>\n",
       "      <td>-0.019009</td>\n",
       "      <td>-0.070405</td>\n",
       "      <td>-0.038238</td>\n",
       "      <td>-0.021689</td>\n",
       "      <td>-0.007118</td>\n",
       "      <td>-0.002211</td>\n",
       "      <td>...</td>\n",
       "      <td>-0.110177</td>\n",
       "      <td>-0.366591</td>\n",
       "      <td>-0.264215</td>\n",
       "      <td>-0.400221</td>\n",
       "      <td>-0.023128</td>\n",
       "      <td>1.000000</td>\n",
       "      <td>-0.279953</td>\n",
       "      <td>-0.438098</td>\n",
       "      <td>-0.310553</td>\n",
       "      <td>-0.031522</td>\n",
       "    </tr>\n",
       "    <tr>\n",
       "      <td>Self-emp-inc</td>\n",
       "      <td>0.102990</td>\n",
       "      <td>0.078151</td>\n",
       "      <td>0.099539</td>\n",
       "      <td>0.027737</td>\n",
       "      <td>0.123798</td>\n",
       "      <td>0.138165</td>\n",
       "      <td>0.088782</td>\n",
       "      <td>-0.015211</td>\n",
       "      <td>-0.003650</td>\n",
       "      <td>-0.048711</td>\n",
       "      <td>...</td>\n",
       "      <td>0.049098</td>\n",
       "      <td>-0.046052</td>\n",
       "      <td>-0.033191</td>\n",
       "      <td>-0.050276</td>\n",
       "      <td>-0.002905</td>\n",
       "      <td>-0.279953</td>\n",
       "      <td>1.000000</td>\n",
       "      <td>-0.055034</td>\n",
       "      <td>-0.039012</td>\n",
       "      <td>-0.003960</td>\n",
       "    </tr>\n",
       "    <tr>\n",
       "      <td>Federal-gov</td>\n",
       "      <td>0.139084</td>\n",
       "      <td>0.010598</td>\n",
       "      <td>0.030964</td>\n",
       "      <td>0.018940</td>\n",
       "      <td>0.092681</td>\n",
       "      <td>0.026633</td>\n",
       "      <td>0.110663</td>\n",
       "      <td>0.000670</td>\n",
       "      <td>-0.009118</td>\n",
       "      <td>-0.061948</td>\n",
       "      <td>...</td>\n",
       "      <td>-0.012643</td>\n",
       "      <td>-0.072066</td>\n",
       "      <td>-0.051940</td>\n",
       "      <td>-0.078677</td>\n",
       "      <td>-0.004547</td>\n",
       "      <td>-0.438098</td>\n",
       "      <td>-0.055034</td>\n",
       "      <td>1.000000</td>\n",
       "      <td>-0.061050</td>\n",
       "      <td>-0.006197</td>\n",
       "    </tr>\n",
       "    <tr>\n",
       "      <td>Without-pay</td>\n",
       "      <td>0.011409</td>\n",
       "      <td>0.094541</td>\n",
       "      <td>-0.010710</td>\n",
       "      <td>-0.003506</td>\n",
       "      <td>-0.022178</td>\n",
       "      <td>0.011396</td>\n",
       "      <td>-0.022775</td>\n",
       "      <td>0.004669</td>\n",
       "      <td>0.013622</td>\n",
       "      <td>0.017726</td>\n",
       "      <td>...</td>\n",
       "      <td>0.107761</td>\n",
       "      <td>-0.051085</td>\n",
       "      <td>-0.036819</td>\n",
       "      <td>-0.055772</td>\n",
       "      <td>-0.003223</td>\n",
       "      <td>-0.310553</td>\n",
       "      <td>-0.039012</td>\n",
       "      <td>-0.061050</td>\n",
       "      <td>1.000000</td>\n",
       "      <td>-0.004393</td>\n",
       "    </tr>\n",
       "    <tr>\n",
       "      <td>Never-worked</td>\n",
       "      <td>0.011775</td>\n",
       "      <td>-0.009633</td>\n",
       "      <td>-0.001613</td>\n",
       "      <td>-0.004607</td>\n",
       "      <td>-0.010441</td>\n",
       "      <td>-0.012056</td>\n",
       "      <td>-0.002363</td>\n",
       "      <td>-0.002138</td>\n",
       "      <td>-0.002123</td>\n",
       "      <td>-0.001438</td>\n",
       "      <td>...</td>\n",
       "      <td>-0.011413</td>\n",
       "      <td>-0.005185</td>\n",
       "      <td>-0.003737</td>\n",
       "      <td>-0.005661</td>\n",
       "      <td>-0.000327</td>\n",
       "      <td>-0.031522</td>\n",
       "      <td>-0.003960</td>\n",
       "      <td>-0.006197</td>\n",
       "      <td>-0.004393</td>\n",
       "      <td>1.000000</td>\n",
       "    </tr>\n",
       "  </tbody>\n",
       "</table>\n",
       "<p>22 rows × 22 columns</p>\n",
       "</div>"
      ],
      "text/plain": [
       "                                    age  education-num  capital-gain  \\\n",
       "age                            1.000000       0.033089      0.077409   \n",
       "education-num                  0.033089       1.000000      0.127686   \n",
       "capital-gain                   0.077409       0.127686      1.000000   \n",
       "capital-loss                   0.057485       0.079305     -0.032194   \n",
       "hours-per-week                 0.071453       0.161978      0.078478   \n",
       ">50K                           0.234725       0.335994      0.222601   \n",
       "is_male                        0.096393       0.013395      0.050105   \n",
       "Amer-Indian-Eskimo            -0.009499      -0.034444     -0.006625   \n",
       "Asian-Pac-Islander            -0.011857       0.020205     -0.003882   \n",
       "Black                         -0.018174      -0.096061     -0.021674   \n",
       "Other                         -0.035037      -0.015502     -0.001066   \n",
       "White                          0.030095       0.094556      0.023060   \n",
       "Education_levels               0.056001       0.746284      0.077535   \n",
       "Private                        0.046279      -0.088391     -0.017093   \n",
       "Self-emp-not-inc               0.050603       0.053788     -0.009148   \n",
       "Local-gov                      0.062393       0.099097     -0.008614   \n",
       "?                             -0.020418      -0.017731     -0.002286   \n",
       "State-gov Different positions -0.202111      -0.105843     -0.035708   \n",
       "Self-emp-inc                   0.102990       0.078151      0.099539   \n",
       "Federal-gov                    0.139084       0.010598      0.030964   \n",
       "Without-pay                    0.011409       0.094541     -0.010710   \n",
       "Never-worked                   0.011775      -0.009633     -0.001613   \n",
       "\n",
       "                               capital-loss  hours-per-week      >50K  \\\n",
       "age                                0.057485        0.071453  0.234725   \n",
       "education-num                      0.079305        0.161978  0.335994   \n",
       "capital-gain                      -0.032194        0.078478  0.222601   \n",
       "capital-loss                       1.000000        0.051498  0.149118   \n",
       "hours-per-week                     0.051498        1.000000  0.232551   \n",
       ">50K                               0.149118        0.232551  1.000000   \n",
       "is_male                            0.044675        0.233945  0.221179   \n",
       "Amer-Indian-Eskimo                -0.013128       -0.002494 -0.030003   \n",
       "Asian-Pac-Islander                -0.011450       -0.013056 -0.003026   \n",
       "Black                             -0.024733       -0.056127 -0.092829   \n",
       "Other                             -0.007277       -0.010683 -0.022453   \n",
       "White                              0.031390        0.057744  0.098753   \n",
       "Education_levels                   0.069837        0.104484  0.282636   \n",
       "Private                           -0.017458       -0.170550 -0.079700   \n",
       "Self-emp-not-inc                   0.008455        0.012424  0.054833   \n",
       "Local-gov                          0.014211        0.014242  0.029969   \n",
       "?                                 -0.003380       -0.014997 -0.008845   \n",
       "State-gov Different positions     -0.022180       -0.019009 -0.070405   \n",
       "Self-emp-inc                       0.027737        0.123798  0.138165   \n",
       "Federal-gov                        0.018940        0.092681  0.026633   \n",
       "Without-pay                       -0.003506       -0.022178  0.011396   \n",
       "Never-worked                      -0.004607       -0.010441 -0.012056   \n",
       "\n",
       "                                is_male  Amer-Indian-Eskimo  \\\n",
       "age                            0.096393           -0.009499   \n",
       "education-num                  0.013395           -0.034444   \n",
       "capital-gain                   0.050105           -0.006625   \n",
       "capital-loss                   0.044675           -0.013128   \n",
       "hours-per-week                 0.233945           -0.002494   \n",
       ">50K                           0.221179           -0.030003   \n",
       "is_male                        1.000000           -0.011443   \n",
       "Amer-Indian-Eskimo            -0.011443            1.000000   \n",
       "Asian-Pac-Islander            -0.013222           -0.010181   \n",
       "Black                         -0.120241           -0.033201   \n",
       "Other                         -0.014464           -0.006748   \n",
       "White                          0.119373           -0.272043   \n",
       "Education_levels               0.008547           -0.028624   \n",
       "Private                       -0.062034            0.012060   \n",
       "Self-emp-not-inc               0.000881            0.019951   \n",
       "Local-gov                     -0.038063            0.022089   \n",
       "?                              0.001520           -0.001569   \n",
       "State-gov Different positions -0.038238           -0.021689   \n",
       "Self-emp-inc                   0.088782           -0.015211   \n",
       "Federal-gov                    0.110663            0.000670   \n",
       "Without-pay                   -0.022775            0.004669   \n",
       "Never-worked                  -0.002363           -0.002138   \n",
       "\n",
       "                               Asian-Pac-Islander     Black  ...  \\\n",
       "age                                     -0.011857 -0.018174  ...   \n",
       "education-num                            0.020205 -0.096061  ...   \n",
       "capital-gain                            -0.003882 -0.021674  ...   \n",
       "capital-loss                            -0.011450 -0.024733  ...   \n",
       "hours-per-week                          -0.013056 -0.056127  ...   \n",
       ">50K                                    -0.003026 -0.092829  ...   \n",
       "is_male                                 -0.013222 -0.120241  ...   \n",
       "Amer-Indian-Eskimo                      -0.010181 -0.033201  ...   \n",
       "Asian-Pac-Islander                       1.000000 -0.032973  ...   \n",
       "Black                                   -0.032973  1.000000  ...   \n",
       "Other                                   -0.006702 -0.021855  ...   \n",
       "White                                   -0.270180 -0.881049  ...   \n",
       "Education_levels                         0.010948 -0.076991  ...   \n",
       "Private                                  0.003558  0.019965  ...   \n",
       "Self-emp-not-inc                         0.024343  0.053964  ...   \n",
       "Local-gov                               -0.004929  0.036155  ...   \n",
       "?                                       -0.001558  0.009870  ...   \n",
       "State-gov Different positions           -0.007118 -0.002211  ...   \n",
       "Self-emp-inc                            -0.003650 -0.048711  ...   \n",
       "Federal-gov                             -0.009118 -0.061948  ...   \n",
       "Without-pay                              0.013622  0.017726  ...   \n",
       "Never-worked                            -0.002123 -0.001438  ...   \n",
       "\n",
       "                               Education_levels   Private  Self-emp-not-inc  \\\n",
       "age                                    0.056001  0.046279          0.050603   \n",
       "education-num                          0.746284 -0.088391          0.053788   \n",
       "capital-gain                           0.077535 -0.017093         -0.009148   \n",
       "capital-loss                           0.069837 -0.017458          0.008455   \n",
       "hours-per-week                         0.104484 -0.170550          0.012424   \n",
       ">50K                                   0.282636 -0.079700          0.054833   \n",
       "is_male                                0.008547 -0.062034          0.000881   \n",
       "Amer-Indian-Eskimo                    -0.028624  0.012060          0.019951   \n",
       "Asian-Pac-Islander                     0.010948  0.003558          0.024343   \n",
       "Black                                 -0.076991  0.019965          0.053964   \n",
       "Other                                 -0.012150  0.019326          0.006267   \n",
       "White                                  0.077639 -0.026786         -0.063677   \n",
       "Education_levels                       1.000000 -0.045605          0.035460   \n",
       "Private                               -0.045605  1.000000         -0.043463   \n",
       "Self-emp-not-inc                       0.035460 -0.043463          1.000000   \n",
       "Local-gov                              0.115193 -0.065835         -0.047450   \n",
       "?                                     -0.007504 -0.003805         -0.002742   \n",
       "State-gov Different positions         -0.110177 -0.366591         -0.264215   \n",
       "Self-emp-inc                           0.049098 -0.046052         -0.033191   \n",
       "Federal-gov                           -0.012643 -0.072066         -0.051940   \n",
       "Without-pay                            0.107761 -0.051085         -0.036819   \n",
       "Never-worked                          -0.011413 -0.005185         -0.003737   \n",
       "\n",
       "                               Local-gov         ?  \\\n",
       "age                             0.062393 -0.020418   \n",
       "education-num                   0.099097 -0.017731   \n",
       "capital-gain                   -0.008614 -0.002286   \n",
       "capital-loss                    0.014211 -0.003380   \n",
       "hours-per-week                  0.014242 -0.014997   \n",
       ">50K                            0.029969 -0.008845   \n",
       "is_male                        -0.038063  0.001520   \n",
       "Amer-Indian-Eskimo              0.022089 -0.001569   \n",
       "Asian-Pac-Islander             -0.004929 -0.001558   \n",
       "Black                           0.036155  0.009870   \n",
       "Other                          -0.009605 -0.001033   \n",
       "White                          -0.036067 -0.007775   \n",
       "Education_levels                0.115193 -0.007504   \n",
       "Private                        -0.065835 -0.003805   \n",
       "Self-emp-not-inc               -0.047450 -0.002742   \n",
       "Local-gov                       1.000000 -0.004154   \n",
       "?                              -0.004154  1.000000   \n",
       "State-gov Different positions  -0.400221 -0.023128   \n",
       "Self-emp-inc                   -0.050276 -0.002905   \n",
       "Federal-gov                    -0.078677 -0.004547   \n",
       "Without-pay                    -0.055772 -0.003223   \n",
       "Never-worked                   -0.005661 -0.000327   \n",
       "\n",
       "                               State-gov Different positions  Self-emp-inc  \\\n",
       "age                                                -0.202111      0.102990   \n",
       "education-num                                      -0.105843      0.078151   \n",
       "capital-gain                                       -0.035708      0.099539   \n",
       "capital-loss                                       -0.022180      0.027737   \n",
       "hours-per-week                                     -0.019009      0.123798   \n",
       ">50K                                               -0.070405      0.138165   \n",
       "is_male                                            -0.038238      0.088782   \n",
       "Amer-Indian-Eskimo                                 -0.021689     -0.015211   \n",
       "Asian-Pac-Islander                                 -0.007118     -0.003650   \n",
       "Black                                              -0.002211     -0.048711   \n",
       "Other                                               0.005538     -0.006795   \n",
       "White                                               0.009695      0.051272   \n",
       "Education_levels                                   -0.110177      0.049098   \n",
       "Private                                            -0.366591     -0.046052   \n",
       "Self-emp-not-inc                                   -0.264215     -0.033191   \n",
       "Local-gov                                          -0.400221     -0.050276   \n",
       "?                                                  -0.023128     -0.002905   \n",
       "State-gov Different positions                       1.000000     -0.279953   \n",
       "Self-emp-inc                                       -0.279953      1.000000   \n",
       "Federal-gov                                        -0.438098     -0.055034   \n",
       "Without-pay                                        -0.310553     -0.039012   \n",
       "Never-worked                                       -0.031522     -0.003960   \n",
       "\n",
       "                               Federal-gov  Without-pay  Never-worked  \n",
       "age                               0.139084     0.011409      0.011775  \n",
       "education-num                     0.010598     0.094541     -0.009633  \n",
       "capital-gain                      0.030964    -0.010710     -0.001613  \n",
       "capital-loss                      0.018940    -0.003506     -0.004607  \n",
       "hours-per-week                    0.092681    -0.022178     -0.010441  \n",
       ">50K                              0.026633     0.011396     -0.012056  \n",
       "is_male                           0.110663    -0.022775     -0.002363  \n",
       "Amer-Indian-Eskimo                0.000670     0.004669     -0.002138  \n",
       "Asian-Pac-Islander               -0.009118     0.013622     -0.002123  \n",
       "Black                            -0.061948     0.017726     -0.001438  \n",
       "Other                            -0.013823    -0.003501     -0.001407  \n",
       "White                             0.061484    -0.020923      0.002890  \n",
       "Education_levels                 -0.012643     0.107761     -0.011413  \n",
       "Private                          -0.072066    -0.051085     -0.005185  \n",
       "Self-emp-not-inc                 -0.051940    -0.036819     -0.003737  \n",
       "Local-gov                        -0.078677    -0.055772     -0.005661  \n",
       "?                                -0.004547    -0.003223     -0.000327  \n",
       "State-gov Different positions    -0.438098    -0.310553     -0.031522  \n",
       "Self-emp-inc                     -0.055034    -0.039012     -0.003960  \n",
       "Federal-gov                       1.000000    -0.061050     -0.006197  \n",
       "Without-pay                      -0.061050     1.000000     -0.004393  \n",
       "Never-worked                     -0.006197    -0.004393      1.000000  \n",
       "\n",
       "[22 rows x 22 columns]"
      ]
     },
     "execution_count": 142,
     "metadata": {},
     "output_type": "execute_result"
    }
   ],
   "source": [
    "income_df.corr()"
   ]
  },
  {
   "cell_type": "markdown",
   "metadata": {
    "colab_type": "text",
    "id": "eEnSmFH2vLb_",
    "slideshow": {
     "slide_type": "slide"
    }
   },
   "source": [
    "Based on the above correlations being so low in all the dummy columns for 'workclass' I am going to drop that feature.  It would likely create more noise for my models."
   ]
  },
  {
   "cell_type": "code",
   "execution_count": 143,
   "metadata": {
    "colab": {
     "base_uri": "https://localhost:8080/",
     "height": 104
    },
    "colab_type": "code",
    "executionInfo": {
     "elapsed": 363,
     "status": "ok",
     "timestamp": 1580071347271,
     "user": {
      "displayName": "Vince Payne",
      "photoUrl": "https://lh3.googleusercontent.com/a-/AAuE7mCP60AdSc8hNhjbgz0TQ2KWP4jwdyaOnPMdvDrJAA=s64",
      "userId": "14103510985297891925"
     },
     "user_tz": 360
    },
    "id": "LUxvxVKBlkcd",
    "outputId": "3a1346be-3447-44eb-84a8-5fefd5e43a7b",
    "slideshow": {
     "slide_type": "fragment"
    }
   },
   "outputs": [],
   "source": [
    "income_df.drop(columns=['Private','Self-emp-not-inc','Local-gov','?','State-gov Different positions','Self-emp-inc', 'Federal-gov','Without-pay','Never-worked'], inplace=True)"
   ]
  },
  {
   "cell_type": "markdown",
   "metadata": {
    "colab_type": "text",
    "id": "-2BcRr3Zr6ad",
    "slideshow": {
     "slide_type": "slide"
    }
   },
   "source": [
    "# Creating the Model: Logistic Regression\n",
    "I am going to start out using a Logistic Regression model to predict the '>50K' column."
   ]
  },
  {
   "cell_type": "code",
   "execution_count": 144,
   "metadata": {
    "colab": {
     "base_uri": "https://localhost:8080/",
     "height": 329
    },
    "colab_type": "code",
    "executionInfo": {
     "elapsed": 871,
     "status": "error",
     "timestamp": 1580071349692,
     "user": {
      "displayName": "Vince Payne",
      "photoUrl": "https://lh3.googleusercontent.com/a-/AAuE7mCP60AdSc8hNhjbgz0TQ2KWP4jwdyaOnPMdvDrJAA=s64",
      "userId": "14103510985297891925"
     },
     "user_tz": 360
    },
    "id": "5ciL3CpasDcQ",
    "outputId": "a8ef4422-9ba6-4956-981b-b192de584970",
    "slideshow": {
     "slide_type": "fragment"
    }
   },
   "outputs": [],
   "source": [
    "# I am dropping the columns that I won't be using for my model\n",
    "income_df.drop(columns=['workclass','education','education-num','marital-status','occupation','relationship',\n",
    "                        'race','sex','Money_by_sex'], inplace=True)"
   ]
  },
  {
   "cell_type": "code",
   "execution_count": 145,
   "metadata": {
    "colab": {
     "base_uri": "https://localhost:8080/",
     "height": 219
    },
    "colab_type": "code",
    "executionInfo": {
     "elapsed": 44765,
     "status": "ok",
     "timestamp": 1580071229043,
     "user": {
      "displayName": "Vince Payne",
      "photoUrl": "https://lh3.googleusercontent.com/a-/AAuE7mCP60AdSc8hNhjbgz0TQ2KWP4jwdyaOnPMdvDrJAA=s64",
      "userId": "14103510985297891925"
     },
     "user_tz": 360
    },
    "id": "ZmJmBl3sslTa",
    "outputId": "e805dbff-b0e5-440d-b5c4-ba3e40667ad5",
    "slideshow": {
     "slide_type": "slide"
    }
   },
   "outputs": [
    {
     "data": {
      "text/html": [
       "<div>\n",
       "<style scoped>\n",
       "    .dataframe tbody tr th:only-of-type {\n",
       "        vertical-align: middle;\n",
       "    }\n",
       "\n",
       "    .dataframe tbody tr th {\n",
       "        vertical-align: top;\n",
       "    }\n",
       "\n",
       "    .dataframe thead th {\n",
       "        text-align: right;\n",
       "    }\n",
       "</style>\n",
       "<table border=\"1\" class=\"dataframe\">\n",
       "  <thead>\n",
       "    <tr style=\"text-align: right;\">\n",
       "      <th></th>\n",
       "      <th>age</th>\n",
       "      <th>capital-gain</th>\n",
       "      <th>capital-loss</th>\n",
       "      <th>hours-per-week</th>\n",
       "      <th>&gt;50K</th>\n",
       "      <th>is_male</th>\n",
       "      <th>Amer-Indian-Eskimo</th>\n",
       "      <th>Asian-Pac-Islander</th>\n",
       "      <th>Black</th>\n",
       "      <th>Other</th>\n",
       "      <th>White</th>\n",
       "      <th>Education_levels</th>\n",
       "    </tr>\n",
       "  </thead>\n",
       "  <tbody>\n",
       "    <tr>\n",
       "      <td>0</td>\n",
       "      <td>39</td>\n",
       "      <td>2174</td>\n",
       "      <td>0</td>\n",
       "      <td>40</td>\n",
       "      <td>0</td>\n",
       "      <td>1</td>\n",
       "      <td>0</td>\n",
       "      <td>0</td>\n",
       "      <td>0</td>\n",
       "      <td>0</td>\n",
       "      <td>1</td>\n",
       "      <td>2</td>\n",
       "    </tr>\n",
       "    <tr>\n",
       "      <td>1</td>\n",
       "      <td>50</td>\n",
       "      <td>0</td>\n",
       "      <td>0</td>\n",
       "      <td>13</td>\n",
       "      <td>0</td>\n",
       "      <td>1</td>\n",
       "      <td>0</td>\n",
       "      <td>0</td>\n",
       "      <td>0</td>\n",
       "      <td>0</td>\n",
       "      <td>1</td>\n",
       "      <td>2</td>\n",
       "    </tr>\n",
       "    <tr>\n",
       "      <td>2</td>\n",
       "      <td>38</td>\n",
       "      <td>0</td>\n",
       "      <td>0</td>\n",
       "      <td>40</td>\n",
       "      <td>0</td>\n",
       "      <td>1</td>\n",
       "      <td>0</td>\n",
       "      <td>0</td>\n",
       "      <td>0</td>\n",
       "      <td>0</td>\n",
       "      <td>1</td>\n",
       "      <td>0</td>\n",
       "    </tr>\n",
       "    <tr>\n",
       "      <td>3</td>\n",
       "      <td>53</td>\n",
       "      <td>0</td>\n",
       "      <td>0</td>\n",
       "      <td>40</td>\n",
       "      <td>0</td>\n",
       "      <td>1</td>\n",
       "      <td>0</td>\n",
       "      <td>0</td>\n",
       "      <td>1</td>\n",
       "      <td>0</td>\n",
       "      <td>0</td>\n",
       "      <td>0</td>\n",
       "    </tr>\n",
       "    <tr>\n",
       "      <td>5</td>\n",
       "      <td>37</td>\n",
       "      <td>0</td>\n",
       "      <td>0</td>\n",
       "      <td>40</td>\n",
       "      <td>0</td>\n",
       "      <td>0</td>\n",
       "      <td>0</td>\n",
       "      <td>0</td>\n",
       "      <td>0</td>\n",
       "      <td>0</td>\n",
       "      <td>1</td>\n",
       "      <td>3</td>\n",
       "    </tr>\n",
       "  </tbody>\n",
       "</table>\n",
       "</div>"
      ],
      "text/plain": [
       "   age  capital-gain  capital-loss  hours-per-week  >50K  is_male  \\\n",
       "0   39          2174             0              40     0        1   \n",
       "1   50             0             0              13     0        1   \n",
       "2   38             0             0              40     0        1   \n",
       "3   53             0             0              40     0        1   \n",
       "5   37             0             0              40     0        0   \n",
       "\n",
       "   Amer-Indian-Eskimo  Asian-Pac-Islander  Black  Other  White  \\\n",
       "0                   0                   0      0      0      1   \n",
       "1                   0                   0      0      0      1   \n",
       "2                   0                   0      0      0      1   \n",
       "3                   0                   0      1      0      0   \n",
       "5                   0                   0      0      0      1   \n",
       "\n",
       "   Education_levels  \n",
       "0                 2  \n",
       "1                 2  \n",
       "2                 0  \n",
       "3                 0  \n",
       "5                 3  "
      ]
     },
     "execution_count": 145,
     "metadata": {},
     "output_type": "execute_result"
    }
   ],
   "source": [
    "income_df.head()"
   ]
  },
  {
   "cell_type": "code",
   "execution_count": 146,
   "metadata": {
    "colab": {},
    "colab_type": "code",
    "id": "h_3a4C-yz9SU",
    "slideshow": {
     "slide_type": "slide"
    }
   },
   "outputs": [],
   "source": [
    "# Here I am splitting my data into a training and test set.  I have chosen to use 25% of the \n",
    "# sample size for the test set\n",
    "y = income_df['>50K']\n",
    "X = income_df.drop(columns='>50K')\n",
    "X_train, X_test, y_train, y_test = train_test_split(X,y,test_size=.25)"
   ]
  },
  {
   "cell_type": "code",
   "execution_count": 147,
   "metadata": {
    "colab": {
     "base_uri": "https://localhost:8080/",
     "height": 52
    },
    "colab_type": "code",
    "executionInfo": {
     "elapsed": 3102,
     "status": "ok",
     "timestamp": 1580071364920,
     "user": {
      "displayName": "Vince Payne",
      "photoUrl": "https://lh3.googleusercontent.com/a-/AAuE7mCP60AdSc8hNhjbgz0TQ2KWP4jwdyaOnPMdvDrJAA=s64",
      "userId": "14103510985297891925"
     },
     "user_tz": 360
    },
    "id": "gAyxDRFFz7oy",
    "outputId": "6f2fb6fc-803b-4fc1-93bf-970ffff6e8c4",
    "slideshow": {
     "slide_type": "slide"
    }
   },
   "outputs": [
    {
     "name": "stdout",
     "output_type": "stream",
     "text": [
      "--- 0.15503454208374023 seconds ---\n",
      "The accuracy of Logistic Regression without regularization: 0.815\n"
     ]
    }
   ],
   "source": [
    "# I'm going to create the model here\n",
    "import time\n",
    "start_time = time.time()\n",
    "lr = LogisticRegression(solver='lbfgs', penalty='none', max_iter=1000)\n",
    "lr.fit(X_train, y_train)\n",
    "y_pred = lr.predict(X_test)\n",
    "lr_score = lr.score(X_test, y_test)\n",
    "print(\"--- %s seconds ---\" % (time.time() - start_time))\n",
    "print(\"The accuracy of Logistic Regression without regularization: {:.3f}\".format(lr_score))"
   ]
  },
  {
   "cell_type": "code",
   "execution_count": 148,
   "metadata": {
    "colab": {
     "base_uri": "https://localhost:8080/",
     "height": 104
    },
    "colab_type": "code",
    "executionInfo": {
     "elapsed": 47673,
     "status": "ok",
     "timestamp": 1580071231963,
     "user": {
      "displayName": "Vince Payne",
      "photoUrl": "https://lh3.googleusercontent.com/a-/AAuE7mCP60AdSc8hNhjbgz0TQ2KWP4jwdyaOnPMdvDrJAA=s64",
      "userId": "14103510985297891925"
     },
     "user_tz": 360
    },
    "id": "f4MY0SIs7B8P",
    "outputId": "4c9ae3c8-6d5d-4fd2-f44d-35104b3d726a",
    "slideshow": {
     "slide_type": "slide"
    }
   },
   "outputs": [
    {
     "name": "stdout",
     "output_type": "stream",
     "text": [
      "The amount of True Negatives is 5246\n",
      "The amount of False Negatives is 1033\n",
      "The amount of True Positives is 698\n",
      "The amount of False Positives is 316\n",
      "The total accuracy of the Logistic Regression Model is 0.8150281091457562\n"
     ]
    }
   ],
   "source": [
    "# I created a confusion matrix so I can get a better idea of the amount of the accuracy of my model\n",
    "from sklearn.metrics import confusion_matrix\n",
    "CM = confusion_matrix(y_test, y_pred)\n",
    "\n",
    "TN = CM[0][0]\n",
    "FN = CM[1][0]\n",
    "TP = CM[1][1]\n",
    "FP = CM[0][1]\n",
    "print('The amount of True Negatives is {}'.format(TN))\n",
    "print('The amount of False Negatives is {}'.format(FN))\n",
    "print('The amount of True Positives is {}'.format(TP))\n",
    "print('The amount of False Positives is {}'.format(FP))\n",
    "\n",
    "# Printing out the total accuracy of the model\n",
    "acc_lr = (TN + TP) / (TP + TN + FN + FP)\n",
    "print('The total accuracy of the Logistic Regression Model is {}'.format(acc_lr))"
   ]
  },
  {
   "cell_type": "code",
   "execution_count": 149,
   "metadata": {
    "colab": {
     "base_uri": "https://localhost:8080/",
     "height": 373
    },
    "colab_type": "code",
    "executionInfo": {
     "elapsed": 47669,
     "status": "ok",
     "timestamp": 1580071231964,
     "user": {
      "displayName": "Vince Payne",
      "photoUrl": "https://lh3.googleusercontent.com/a-/AAuE7mCP60AdSc8hNhjbgz0TQ2KWP4jwdyaOnPMdvDrJAA=s64",
      "userId": "14103510985297891925"
     },
     "user_tz": 360
    },
    "id": "NprI9Cmlxjvk",
    "outputId": "8842a2cb-6a64-4963-c6ea-dcd2c21e304d",
    "slideshow": {
     "slide_type": "skip"
    }
   },
   "outputs": [
    {
     "data": {
      "text/html": [
       "<div>\n",
       "<style scoped>\n",
       "    .dataframe tbody tr th:only-of-type {\n",
       "        vertical-align: middle;\n",
       "    }\n",
       "\n",
       "    .dataframe tbody tr th {\n",
       "        vertical-align: top;\n",
       "    }\n",
       "\n",
       "    .dataframe thead th {\n",
       "        text-align: right;\n",
       "    }\n",
       "</style>\n",
       "<table border=\"1\" class=\"dataframe\">\n",
       "  <thead>\n",
       "    <tr style=\"text-align: right;\">\n",
       "      <th></th>\n",
       "      <th>age</th>\n",
       "      <th>capital-gain</th>\n",
       "      <th>capital-loss</th>\n",
       "      <th>hours-per-week</th>\n",
       "      <th>&gt;50K</th>\n",
       "      <th>is_male</th>\n",
       "      <th>Amer-Indian-Eskimo</th>\n",
       "      <th>Asian-Pac-Islander</th>\n",
       "      <th>Black</th>\n",
       "      <th>Other</th>\n",
       "      <th>White</th>\n",
       "      <th>Education_levels</th>\n",
       "    </tr>\n",
       "  </thead>\n",
       "  <tbody>\n",
       "    <tr>\n",
       "      <td>0</td>\n",
       "      <td>39</td>\n",
       "      <td>2174</td>\n",
       "      <td>0</td>\n",
       "      <td>40</td>\n",
       "      <td>0</td>\n",
       "      <td>1</td>\n",
       "      <td>0</td>\n",
       "      <td>0</td>\n",
       "      <td>0</td>\n",
       "      <td>0</td>\n",
       "      <td>1</td>\n",
       "      <td>2</td>\n",
       "    </tr>\n",
       "    <tr>\n",
       "      <td>1</td>\n",
       "      <td>50</td>\n",
       "      <td>0</td>\n",
       "      <td>0</td>\n",
       "      <td>13</td>\n",
       "      <td>0</td>\n",
       "      <td>1</td>\n",
       "      <td>0</td>\n",
       "      <td>0</td>\n",
       "      <td>0</td>\n",
       "      <td>0</td>\n",
       "      <td>1</td>\n",
       "      <td>2</td>\n",
       "    </tr>\n",
       "    <tr>\n",
       "      <td>2</td>\n",
       "      <td>38</td>\n",
       "      <td>0</td>\n",
       "      <td>0</td>\n",
       "      <td>40</td>\n",
       "      <td>0</td>\n",
       "      <td>1</td>\n",
       "      <td>0</td>\n",
       "      <td>0</td>\n",
       "      <td>0</td>\n",
       "      <td>0</td>\n",
       "      <td>1</td>\n",
       "      <td>0</td>\n",
       "    </tr>\n",
       "    <tr>\n",
       "      <td>3</td>\n",
       "      <td>53</td>\n",
       "      <td>0</td>\n",
       "      <td>0</td>\n",
       "      <td>40</td>\n",
       "      <td>0</td>\n",
       "      <td>1</td>\n",
       "      <td>0</td>\n",
       "      <td>0</td>\n",
       "      <td>1</td>\n",
       "      <td>0</td>\n",
       "      <td>0</td>\n",
       "      <td>0</td>\n",
       "    </tr>\n",
       "    <tr>\n",
       "      <td>5</td>\n",
       "      <td>37</td>\n",
       "      <td>0</td>\n",
       "      <td>0</td>\n",
       "      <td>40</td>\n",
       "      <td>0</td>\n",
       "      <td>0</td>\n",
       "      <td>0</td>\n",
       "      <td>0</td>\n",
       "      <td>0</td>\n",
       "      <td>0</td>\n",
       "      <td>1</td>\n",
       "      <td>3</td>\n",
       "    </tr>\n",
       "    <tr>\n",
       "      <td>7</td>\n",
       "      <td>52</td>\n",
       "      <td>0</td>\n",
       "      <td>0</td>\n",
       "      <td>45</td>\n",
       "      <td>1</td>\n",
       "      <td>1</td>\n",
       "      <td>0</td>\n",
       "      <td>0</td>\n",
       "      <td>0</td>\n",
       "      <td>0</td>\n",
       "      <td>1</td>\n",
       "      <td>0</td>\n",
       "    </tr>\n",
       "    <tr>\n",
       "      <td>8</td>\n",
       "      <td>31</td>\n",
       "      <td>14084</td>\n",
       "      <td>0</td>\n",
       "      <td>50</td>\n",
       "      <td>1</td>\n",
       "      <td>0</td>\n",
       "      <td>0</td>\n",
       "      <td>0</td>\n",
       "      <td>0</td>\n",
       "      <td>0</td>\n",
       "      <td>1</td>\n",
       "      <td>3</td>\n",
       "    </tr>\n",
       "    <tr>\n",
       "      <td>9</td>\n",
       "      <td>42</td>\n",
       "      <td>5178</td>\n",
       "      <td>0</td>\n",
       "      <td>40</td>\n",
       "      <td>1</td>\n",
       "      <td>1</td>\n",
       "      <td>0</td>\n",
       "      <td>0</td>\n",
       "      <td>0</td>\n",
       "      <td>0</td>\n",
       "      <td>1</td>\n",
       "      <td>2</td>\n",
       "    </tr>\n",
       "    <tr>\n",
       "      <td>10</td>\n",
       "      <td>37</td>\n",
       "      <td>0</td>\n",
       "      <td>0</td>\n",
       "      <td>80</td>\n",
       "      <td>1</td>\n",
       "      <td>1</td>\n",
       "      <td>0</td>\n",
       "      <td>0</td>\n",
       "      <td>1</td>\n",
       "      <td>0</td>\n",
       "      <td>0</td>\n",
       "      <td>1</td>\n",
       "    </tr>\n",
       "    <tr>\n",
       "      <td>12</td>\n",
       "      <td>23</td>\n",
       "      <td>0</td>\n",
       "      <td>0</td>\n",
       "      <td>30</td>\n",
       "      <td>0</td>\n",
       "      <td>0</td>\n",
       "      <td>0</td>\n",
       "      <td>0</td>\n",
       "      <td>0</td>\n",
       "      <td>0</td>\n",
       "      <td>1</td>\n",
       "      <td>2</td>\n",
       "    </tr>\n",
       "  </tbody>\n",
       "</table>\n",
       "</div>"
      ],
      "text/plain": [
       "    age  capital-gain  capital-loss  hours-per-week  >50K  is_male  \\\n",
       "0    39          2174             0              40     0        1   \n",
       "1    50             0             0              13     0        1   \n",
       "2    38             0             0              40     0        1   \n",
       "3    53             0             0              40     0        1   \n",
       "5    37             0             0              40     0        0   \n",
       "7    52             0             0              45     1        1   \n",
       "8    31         14084             0              50     1        0   \n",
       "9    42          5178             0              40     1        1   \n",
       "10   37             0             0              80     1        1   \n",
       "12   23             0             0              30     0        0   \n",
       "\n",
       "    Amer-Indian-Eskimo  Asian-Pac-Islander  Black  Other  White  \\\n",
       "0                    0                   0      0      0      1   \n",
       "1                    0                   0      0      0      1   \n",
       "2                    0                   0      0      0      1   \n",
       "3                    0                   0      1      0      0   \n",
       "5                    0                   0      0      0      1   \n",
       "7                    0                   0      0      0      1   \n",
       "8                    0                   0      0      0      1   \n",
       "9                    0                   0      0      0      1   \n",
       "10                   0                   0      1      0      0   \n",
       "12                   0                   0      0      0      1   \n",
       "\n",
       "    Education_levels  \n",
       "0                  2  \n",
       "1                  2  \n",
       "2                  0  \n",
       "3                  0  \n",
       "5                  3  \n",
       "7                  0  \n",
       "8                  3  \n",
       "9                  2  \n",
       "10                 1  \n",
       "12                 2  "
      ]
     },
     "execution_count": 149,
     "metadata": {},
     "output_type": "execute_result"
    }
   ],
   "source": [
    "income_df.head(10)"
   ]
  },
  {
   "cell_type": "markdown",
   "metadata": {
    "colab_type": "text",
    "id": "diP0BZa9uzJ1",
    "slideshow": {
     "slide_type": "slide"
    }
   },
   "source": [
    "# Creating the Model: Decision Tree and Random Forest\n",
    "I am going to use a Random Forest Model with my data to compare to the Logistic Regression Model. "
   ]
  },
  {
   "cell_type": "code",
   "execution_count": 150,
   "metadata": {},
   "outputs": [
    {
     "name": "stdout",
     "output_type": "stream",
     "text": [
      "Collecting package metadata (current_repodata.json): ...working... done\n",
      "Solving environment: ...working... done\n",
      "\n",
      "# All requested packages already installed.\n",
      "\n",
      "\n",
      "Note: you may need to restart the kernel to use updated packages.\n"
     ]
    }
   ],
   "source": [
    "conda install -c conda-forge pydotplus"
   ]
  },
  {
   "cell_type": "code",
   "execution_count": 163,
   "metadata": {
    "colab": {
     "base_uri": "https://localhost:8080/",
     "height": 0
    },
    "colab_type": "code",
    "executionInfo": {
     "elapsed": 49258,
     "status": "ok",
     "timestamp": 1580071233560,
     "user": {
      "displayName": "Vince Payne",
      "photoUrl": "https://lh3.googleusercontent.com/a-/AAuE7mCP60AdSc8hNhjbgz0TQ2KWP4jwdyaOnPMdvDrJAA=s64",
      "userId": "14103510985297891925"
     },
     "user_tz": 360
    },
    "id": "MMT4WH4_uR9j",
    "outputId": "b53fb5de-cc57-41a5-e2f9-90e56f6c31a1",
    "slideshow": {
     "slide_type": "slide"
    }
   },
   "outputs": [
    {
     "data": {
      "image/png": "[encoded data removed]",
      "text/plain": [
       "<IPython.core.display.Image object>"
      ]
     },
     "execution_count": 163,
     "metadata": {},
     "output_type": "execute_result"
    },
    {
     "data": {
      "text/plain": [
       "<Figure size 3600x2160 with 0 Axes>"
      ]
     },
     "metadata": {},
     "output_type": "display_data"
    }
   ],
   "source": [
    "from sklearn import tree\n",
    "from IPython.display import Image\n",
    "import pydotplus\n",
    "import graphviz\n",
    "import time\n",
    "start_time = time.time()\n",
    "\n",
    "# I am making my X and Y here\n",
    "Y = income_df['>50K']\n",
    "X = income_df.drop('>50K', axis=1)\n",
    "\n",
    "# I am creating and training the tree here\n",
    "plt.figure(figsize=(50,30))\n",
    "decision_tree = tree.DecisionTreeClassifier(\n",
    "    criterion = 'entropy',\n",
    "    max_features = 1,\n",
    "    max_depth = 4,\n",
    ")\n",
    "decision_tree.fit(X,Y)\n",
    "\n",
    "# I will use the below code to render the tree\n",
    "dot_data = tree.export_graphviz(\n",
    "    decision_tree, out_file = None,\n",
    "    feature_names = X.columns,\n",
    "    class_names = ['>50K', '<=50K'],\n",
    "    filled = True\n",
    ")\n",
    "graph = pydotplus.graph_from_dot_data(dot_data)\n",
    "Image(graph.create_png())\n",
    "# This slide needs to zoom out to fit the entire output"
   ]
  },
  {
   "cell_type": "code",
   "execution_count": 152,
   "metadata": {
    "colab": {
     "base_uri": "https://localhost:8080/",
     "height": 0
    },
    "colab_type": "code",
    "executionInfo": {
     "elapsed": 49251,
     "status": "ok",
     "timestamp": 1580071233561,
     "user": {
      "displayName": "Vince Payne",
      "photoUrl": "https://lh3.googleusercontent.com/a-/AAuE7mCP60AdSc8hNhjbgz0TQ2KWP4jwdyaOnPMdvDrJAA=s64",
      "userId": "14103510985297891925"
     },
     "user_tz": 360
    },
    "id": "nhnkIifUyNbC",
    "outputId": "5a21de1b-72f2-4c7d-a5e7-bf69ecad3e4b",
    "slideshow": {
     "slide_type": "slide"
    }
   },
   "outputs": [
    {
     "name": "stdout",
     "output_type": "stream",
     "text": [
      "The number of True Positives is 2054\n",
      "The number of False Positives is 5117\n",
      "The number of True Negatives is 21652\n",
      "The number of False Negatives is 347\n"
     ]
    }
   ],
   "source": [
    "predictions=decision_tree.predict(X)\n",
    "tp=0\n",
    "fp=0\n",
    "tn=0\n",
    "fn=0\n",
    "Y2=Y.reset_index()\n",
    "l=len(predictions)\n",
    "i=0\n",
    "while i<l:\n",
    "  if predictions[i]==1:\n",
    "    if Y2['>50K'][i]==1:\n",
    "      tp=tp+1\n",
    "    else:\n",
    "      fn=fn+1\n",
    "  if predictions[i]==0:\n",
    "    if Y2['>50K'][i]==0: \n",
    "      tn=tn+1\n",
    "    else:\n",
    "      fp=fp+1\n",
    "  i=i+1\n",
    "print('The number of True Positives is {}'.format(tp))\n",
    "print('The number of False Positives is {}'.format(fp))\n",
    "print('The number of True Negatives is {}'.format(tn))\n",
    "print('The number of False Negatives is {}'.format(fn))"
   ]
  },
  {
   "cell_type": "code",
   "execution_count": 153,
   "metadata": {
    "colab": {
     "base_uri": "https://localhost:8080/",
     "height": 0
    },
    "colab_type": "code",
    "executionInfo": {
     "elapsed": 71206,
     "status": "ok",
     "timestamp": 1580071255524,
     "user": {
      "displayName": "Vince Payne",
      "photoUrl": "https://lh3.googleusercontent.com/a-/AAuE7mCP60AdSc8hNhjbgz0TQ2KWP4jwdyaOnPMdvDrJAA=s64",
      "userId": "14103510985297891925"
     },
     "user_tz": 360
    },
    "id": "Y1vQlF1Jyaro",
    "outputId": "9f18b696-d169-4864-ab46-7b1fb247317f",
    "slideshow": {
     "slide_type": "slide"
    }
   },
   "outputs": [
    {
     "name": "stdout",
     "output_type": "stream",
     "text": [
      "[0.81357094 0.80973603 0.82516284 0.81830648 0.81830648 0.82242029\n",
      " 0.80630785 0.82756256 0.82002057 0.82304527]\n",
      "--- 1.3099329471588135 seconds ---\n"
     ]
    }
   ],
   "source": [
    "from sklearn import ensemble\n",
    "from sklearn.model_selection import cross_val_score\n",
    "import time\n",
    "start_time = time.time()\n",
    "rfc = ensemble.RandomForestClassifier()\n",
    "print(cross_val_score(rfc, X, Y, cv=10))\n",
    "print(\"--- %s seconds ---\" % (time.time() - start_time))\n",
    "\n"
   ]
  },
  {
   "cell_type": "markdown",
   "metadata": {
    "colab_type": "text",
    "id": "7GKqrbb1zf0m",
    "slideshow": {
     "slide_type": "slide"
    }
   },
   "source": [
    "The Random Forest model that I ran returned a very similar accuracy score to my Logistic Regression model.  The Random Forest model takes longer to run (about 5 times as long) as the Logistic Regression model.  This isn't a huge deal with this dataset but if I was working with a much larger dataset then this time difference would probably not be worth the 1% accuracy bump from the Random Forest.  "
   ]
  },
  {
   "cell_type": "markdown",
   "metadata": {
    "colab_type": "text",
    "id": "b6X1wgK1gc5v",
    "slideshow": {
     "slide_type": "slide"
    }
   },
   "source": [
    "# Hyperparameter Tuning for Logistic Regression Model"
   ]
  },
  {
   "cell_type": "code",
   "execution_count": 154,
   "metadata": {
    "colab": {},
    "colab_type": "code",
    "id": "dP-BBa1lzZN5",
    "slideshow": {
     "slide_type": "slide"
    }
   },
   "outputs": [],
   "source": [
    "# I am going to try dropping the Capital Gains and Loss columns\n",
    "# to see what effect that has on my overall outcome\n",
    "y = income_df['>50K']\n",
    "X = income_df.drop(columns=['>50K'])\n",
    "X_train, X_test, y_train, y_test = train_test_split(X,y,test_size=.25)"
   ]
  },
  {
   "cell_type": "code",
   "execution_count": 155,
   "metadata": {
    "colab": {
     "base_uri": "https://localhost:8080/",
     "height": 0
    },
    "colab_type": "code",
    "executionInfo": {
     "elapsed": 73575,
     "status": "ok",
     "timestamp": 1580071257902,
     "user": {
      "displayName": "Vince Payne",
      "photoUrl": "https://lh3.googleusercontent.com/a-/AAuE7mCP60AdSc8hNhjbgz0TQ2KWP4jwdyaOnPMdvDrJAA=s64",
      "userId": "14103510985297891925"
     },
     "user_tz": 360
    },
    "id": "g0CHqF9og5zS",
    "outputId": "09c835cc-7ca0-4141-bf23-5c917bde8abf",
    "slideshow": {
     "slide_type": "fragment"
    }
   },
   "outputs": [
    {
     "name": "stdout",
     "output_type": "stream",
     "text": [
      "--- 1.7874059677124023 seconds ---\n",
      "The accuracy of Logistic Regression without regularization: 0.819\n"
     ]
    }
   ],
   "source": [
    "lr = LogisticRegression(solver='lbfgs', penalty='none', max_iter=1000)\n",
    "lr.fit(X_train, y_train)\n",
    "y_pred = lr.predict(X_test)\n",
    "lr_score = lr.score(X_test, y_test)\n",
    "print(\"--- %s seconds ---\" % (time.time() - start_time))\n",
    "print(\"The accuracy of Logistic Regression without regularization: {:.3f}\".format(lr_score))"
   ]
  },
  {
   "cell_type": "code",
   "execution_count": 156,
   "metadata": {
    "colab": {
     "base_uri": "https://localhost:8080/",
     "height": 0
    },
    "colab_type": "code",
    "executionInfo": {
     "elapsed": 74938,
     "status": "ok",
     "timestamp": 1580071259270,
     "user": {
      "displayName": "Vince Payne",
      "photoUrl": "https://lh3.googleusercontent.com/a-/AAuE7mCP60AdSc8hNhjbgz0TQ2KWP4jwdyaOnPMdvDrJAA=s64",
      "userId": "14103510985297891925"
     },
     "user_tz": 360
    },
    "id": "7lOK1ZMIyHJ5",
    "outputId": "3db35888-36f4-4c9b-8d22-5aae7c4032e7",
    "slideshow": {
     "slide_type": "slide"
    }
   },
   "outputs": [
    {
     "name": "stdout",
     "output_type": "stream",
     "text": [
      "--- 1.986449956893921 seconds ---\n",
      "The accuracy of Logistic Regression without regularization: 0.813\n"
     ]
    }
   ],
   "source": [
    "lr = LogisticRegression(solver='lbfgs', penalty='l2', max_iter=1000,C=.001)\n",
    "lr.fit(X_train, y_train)\n",
    "y_pred = lr.predict(X_test)\n",
    "lr_score = lr.score(X_test, y_test)\n",
    "print(\"--- %s seconds ---\" % (time.time() - start_time))\n",
    "print(\"The accuracy of Logistic Regression without regularization: {:.3f}\".format(lr_score))"
   ]
  },
  {
   "cell_type": "code",
   "execution_count": 157,
   "metadata": {
    "colab": {
     "base_uri": "https://localhost:8080/",
     "height": 0
    },
    "colab_type": "code",
    "executionInfo": {
     "elapsed": 82336,
     "status": "ok",
     "timestamp": 1580071266674,
     "user": {
      "displayName": "Vince Payne",
      "photoUrl": "https://lh3.googleusercontent.com/a-/AAuE7mCP60AdSc8hNhjbgz0TQ2KWP4jwdyaOnPMdvDrJAA=s64",
      "userId": "14103510985297891925"
     },
     "user_tz": 360
    },
    "id": "eob83lhsyzPU",
    "outputId": "7e2ef91e-038c-4435-ef19-ae04cd35c6f0",
    "slideshow": {
     "slide_type": "fragment"
    }
   },
   "outputs": [
    {
     "name": "stdout",
     "output_type": "stream",
     "text": [
      "--- 5.17825174331665 seconds ---\n",
      "The accuracy of Logistic Regression without regularization: 0.792\n"
     ]
    }
   ],
   "source": [
    "lr = LogisticRegression(solver='saga', penalty='l2', max_iter=1000,C=.001)\n",
    "lr.fit(X_train, y_train)\n",
    "y_pred = lr.predict(X_test)\n",
    "lr_score = lr.score(X_test, y_test)\n",
    "print(\"--- %s seconds ---\" % (time.time() - start_time))\n",
    "print(\"The accuracy of Logistic Regression without regularization: {:.3f}\".format(lr_score))"
   ]
  },
  {
   "cell_type": "code",
   "execution_count": 158,
   "metadata": {
    "colab": {
     "base_uri": "https://localhost:8080/",
     "height": 0
    },
    "colab_type": "code",
    "executionInfo": {
     "elapsed": 93756,
     "status": "ok",
     "timestamp": 1580071278099,
     "user": {
      "displayName": "Vince Payne",
      "photoUrl": "https://lh3.googleusercontent.com/a-/AAuE7mCP60AdSc8hNhjbgz0TQ2KWP4jwdyaOnPMdvDrJAA=s64",
      "userId": "14103510985297891925"
     },
     "user_tz": 360
    },
    "id": "q8LqSdzCzJP8",
    "outputId": "825cf2b6-6a41-4467-aa9c-7616ff8c42c8",
    "slideshow": {
     "slide_type": "fragment"
    }
   },
   "outputs": [
    {
     "name": "stdout",
     "output_type": "stream",
     "text": [
      "--- 9.751274347305298 seconds ---\n",
      "The accuracy of Logistic Regression without regularization: 0.793\n"
     ]
    }
   ],
   "source": [
    "lr = LogisticRegression(solver='saga', penalty='elasticnet', max_iter= 10000,C=.001, l1_ratio=0)\n",
    "lr.fit(X_train, y_train)\n",
    "y_pred = lr.predict(X_test)\n",
    "lr_score = lr.score(X_test, y_test)\n",
    "print(\"--- %s seconds ---\" % (time.time() - start_time))\n",
    "print(\"The accuracy of Logistic Regression without regularization: {:.3f}\".format(lr_score))"
   ]
  },
  {
   "cell_type": "markdown",
   "metadata": {
    "colab_type": "text",
    "id": "vYK5KXx30Vmi",
    "slideshow": {
     "slide_type": "slide"
    }
   },
   "source": [
    "# Hyperparameter Tuning for Random Forest Model"
   ]
  },
  {
   "cell_type": "code",
   "execution_count": 164,
   "metadata": {
    "colab": {
     "base_uri": "https://localhost:8080/",
     "height": 0
    },
    "colab_type": "code",
    "executionInfo": {
     "elapsed": 96720,
     "status": "ok",
     "timestamp": 1580071281068,
     "user": {
      "displayName": "Vince Payne",
      "photoUrl": "https://lh3.googleusercontent.com/a-/AAuE7mCP60AdSc8hNhjbgz0TQ2KWP4jwdyaOnPMdvDrJAA=s64",
      "userId": "14103510985297891925"
     },
     "user_tz": 360
    },
    "id": "KcciyN5OhTx0",
    "outputId": "640cf394-5fe6-4843-df62-bf1ae60bdc59",
    "slideshow": {
     "slide_type": "slide"
    }
   },
   "outputs": [
    {
     "data": {
      "image/png": "[encoded data removed]",
      "text/plain": [
       "<IPython.core.display.Image object>"
      ]
     },
     "execution_count": 164,
     "metadata": {},
     "output_type": "execute_result"
    }
   ],
   "source": [
    "# Max Depth 4\n",
    "\n",
    "# I'm going to use the Random Forest here\n",
    "Y = income_df['>50K']\n",
    "X = income_df.drop(['>50K'], axis=1)\n",
    "\n",
    "# I am creating and training the tree here\n",
    "decision_tree = tree.DecisionTreeClassifier(\n",
    "    criterion = 'entropy',\n",
    "    max_features = 1,\n",
    "    max_depth = 4,\n",
    ")\n",
    "decision_tree.fit(X,Y)\n",
    "\n",
    "# I will use the below code to render the tree\n",
    "dot_data = tree.export_graphviz(\n",
    "    decision_tree, out_file = None,\n",
    "    feature_names = X.columns,\n",
    "    class_names = ['>50K', '<=50K'],\n",
    "    filled = True\n",
    ")\n",
    "graph = pydotplus.graph_from_dot_data(dot_data)\n",
    "Image(graph.create_png())"
   ]
  },
  {
   "cell_type": "code",
   "execution_count": 160,
   "metadata": {
    "colab": {
     "base_uri": "https://localhost:8080/",
     "height": 0
    },
    "colab_type": "code",
    "executionInfo": {
     "elapsed": 116995,
     "status": "ok",
     "timestamp": 1580071301348,
     "user": {
      "displayName": "Vince Payne",
      "photoUrl": "https://lh3.googleusercontent.com/a-/AAuE7mCP60AdSc8hNhjbgz0TQ2KWP4jwdyaOnPMdvDrJAA=s64",
      "userId": "14103510985297891925"
     },
     "user_tz": 360
    },
    "id": "OveBkSMhhfsE",
    "outputId": "cf9fb90e-e072-40ad-f896-03fbea24ef67",
    "slideshow": {
     "slide_type": "slide"
    }
   },
   "outputs": [
    {
     "name": "stdout",
     "output_type": "stream",
     "text": [
      "[0.81699794 0.82104902 0.81899212 0.80905039 0.81933493 0.82756256\n",
      " 0.80973603 0.83030511 0.82379157 0.8175583 ]\n",
      "--- 11.545419692993164 seconds ---\n"
     ]
    }
   ],
   "source": [
    "rfc = ensemble.RandomForestClassifier()\n",
    "print(cross_val_score(rfc, X, Y, cv=10))\n",
    "print(\"--- %s seconds ---\" % (time.time() - start_time))\n"
   ]
  },
  {
   "cell_type": "code",
   "execution_count": 161,
   "metadata": {
    "colab": {
     "base_uri": "https://localhost:8080/",
     "height": 0
    },
    "colab_type": "code",
    "executionInfo": {
     "elapsed": 139326,
     "status": "ok",
     "timestamp": 1580071323684,
     "user": {
      "displayName": "Vince Payne",
      "photoUrl": "https://lh3.googleusercontent.com/a-/AAuE7mCP60AdSc8hNhjbgz0TQ2KWP4jwdyaOnPMdvDrJAA=s64",
      "userId": "14103510985297891925"
     },
     "user_tz": 360
    },
    "id": "afitsNb20jjs",
    "outputId": "7b8f40d9-d483-4b6d-b1ac-a7ab2ee67ead",
    "slideshow": {
     "slide_type": "slide"
    }
   },
   "outputs": [
    {
     "name": "stdout",
     "output_type": "stream",
     "text": [
      "[0.81322824 0.82104902 0.81590675 0.81967775 0.81967775 0.82104902\n",
      " 0.80425094 0.82276311 0.82653411 0.81824417]\n",
      "--- 13.677898168563843 seconds ---\n"
     ]
    }
   ],
   "source": [
    "# Max Depth 6\n",
    "\n",
    "# I'm going to use the Random Forest here\n",
    "Y = income_df['>50K']\n",
    "X = income_df.drop(['>50K'], axis=1)\n",
    "\n",
    "# I am creating and training the tree here\n",
    "decision_tree = tree.DecisionTreeClassifier(\n",
    "    criterion = 'entropy',\n",
    "    max_features = 1,\n",
    "    max_depth = 6,\n",
    ")\n",
    "decision_tree.fit(X,Y)\n",
    "\n",
    "# I will use the below code to render the tree\n",
    "dot_data = tree.export_graphviz(\n",
    "    decision_tree, out_file = None,\n",
    "    feature_names = X.columns,\n",
    "    class_names = ['>50K', '<=50K'],\n",
    "    filled = True\n",
    ")\n",
    "graph = pydotplus.graph_from_dot_data(dot_data)\n",
    "Image(graph.create_png())\n",
    "\n",
    "rfc = ensemble.RandomForestClassifier()\n",
    "print(cross_val_score(rfc, X, Y, cv=10))\n",
    "print(\"--- %s seconds ---\" % (time.time() - start_time))"
   ]
  },
  {
   "cell_type": "code",
   "execution_count": 166,
   "metadata": {
    "colab": {
     "base_uri": "https://localhost:8080/",
     "height": 0
    },
    "colab_type": "code",
    "executionInfo": {
     "elapsed": 162309,
     "status": "ok",
     "timestamp": 1580071346672,
     "user": {
      "displayName": "Vince Payne",
      "photoUrl": "https://lh3.googleusercontent.com/a-/AAuE7mCP60AdSc8hNhjbgz0TQ2KWP4jwdyaOnPMdvDrJAA=s64",
      "userId": "14103510985297891925"
     },
     "user_tz": 360
    },
    "id": "d2MToNZ_1gmm",
    "outputId": "f18df1e5-381f-4dd4-d5dc-ac2b5d2c3777",
    "slideshow": {
     "slide_type": "slide"
    }
   },
   "outputs": [
    {
     "name": "stdout",
     "output_type": "stream",
     "text": [
      "[0.81391364 0.81796366 0.81727803 0.81899212 0.82276311 0.8244772\n",
      " 0.81316421 0.83167638 0.81693521 0.82510288]\n",
      "--- 1622.2697269916534 seconds ---\n"
     ]
    }
   ],
   "source": [
    "# Max features 2 and Max Depth 6\n",
    "\n",
    "# I'm going to use the Random Forest here\n",
    "Y = income_df['>50K']\n",
    "X = income_df.drop(['>50K'], axis=1)\n",
    "\n",
    "# I am creating and training the tree here\n",
    "decision_tree = tree.DecisionTreeClassifier(\n",
    "    criterion = 'entropy',\n",
    "    max_features = 2,\n",
    "    max_depth = 6,\n",
    ")\n",
    "decision_tree.fit(X,Y)\n",
    "\n",
    "# I will use the below code to render the tree\n",
    "dot_data = tree.export_graphviz(\n",
    "    decision_tree, out_file = None,\n",
    "    feature_names = X.columns,\n",
    "    class_names = ['>50K', '<=50K'],\n",
    "    filled = True\n",
    ")\n",
    "graph = pydotplus.graph_from_dot_data(dot_data)\n",
    "Image(graph.create_png())\n",
    "\n",
    "rfc = ensemble.RandomForestClassifier()\n",
    "print(cross_val_score(rfc, X, Y, cv=10))\n",
    "print(\"--- %s seconds ---\" % (time.time() - start_time))"
   ]
  },
  {
   "cell_type": "code",
   "execution_count": 167,
   "metadata": {},
   "outputs": [
    {
     "name": "stdout",
     "output_type": "stream",
     "text": [
      "[0.82111035 0.81693521 0.81933493 0.8186493  0.82002057 0.82516284\n",
      " 0.80425094 0.8320192  0.81419266 0.81721536]\n",
      "--- 1640.1967692375183 seconds ---\n"
     ]
    }
   ],
   "source": [
    "# Max features 2 and Max Depth 6\n",
    "\n",
    "# I'm going to use the Random Forest here\n",
    "Y = income_df['>50K']\n",
    "X = income_df.drop(['>50K'], axis=1)\n",
    "\n",
    "# I am creating and training the tree here\n",
    "decision_tree = tree.DecisionTreeClassifier(\n",
    "    criterion = 'gini',\n",
    "    max_features = 2,\n",
    "    max_depth = 6,\n",
    ")\n",
    "decision_tree.fit(X,Y)\n",
    "\n",
    "# I will use the below code to render the tree\n",
    "dot_data = tree.export_graphviz(\n",
    "    decision_tree, out_file = None,\n",
    "    feature_names = X.columns,\n",
    "    class_names = ['>50K', '<=50K'],\n",
    "    filled = True\n",
    ")\n",
    "graph = pydotplus.graph_from_dot_data(dot_data)\n",
    "Image(graph.create_png())\n",
    "\n",
    "rfc = ensemble.RandomForestClassifier()\n",
    "print(cross_val_score(rfc, X, Y, cv=10))\n",
    "print(\"--- %s seconds ---\" % (time.time() - start_time))"
   ]
  },
  {
   "cell_type": "markdown",
   "metadata": {
    "colab_type": "text",
    "id": "1NbRuoCSvaSD",
    "slideshow": {
     "slide_type": "slide"
    }
   },
   "source": [
    "# Conclusion\n",
    "Using two different models, Logistic Regression and Random Forest, I was able to get right around an 82% accuracy for predicting income levels above or below 50K.\n",
    "\n",
    "I started off choosing the simple (but effective) Logistic Regression and then thought that maybe a Random Forest Model might do a better job predicting my target variable.  It did slightly better overall, however, it took nearly 5 times as long to finish predicting.  This wasn't a huge deal with my current dataset but it would not be worth the time when we are talking about potentially taking hours to run.  \n",
    "\n",
    "The \"real-world\" use for this model would be workers' advocate groups.  If groups can look at this model and get an idea of how much money people of similar education, race,gender, etc. are paid they can make sure that employers are not discriminating based on any of those factors.  \n",
    "\n",
    "A shortcoming that I can see with this model and dataset are that it classifies into 2 pretty broad groups (less than 50K and greater than 50K).  If the specific incomes for each of the people in this dataset were given it would really be much more effective when being used in the \"real-world\" example that I mentioned above.  As it stands it is tough to identify any big discrepencies when you are only dealing with these broad groups.  Also, the data is clearly focused on the majority of \"private\" workers in the United States.  This likely skews the data because a very small number of samples from other countries and other fields of work (it doesn't really specify what private is exactly) are represented.  My model was limited to the United States because of this.\n",
    "\n"
   ]
  }
 ],
 "metadata": {
  "celltoolbar": "Slideshow",
  "colab": {
   "name": "Income Capstone Project.ipynb",
   "provenance": []
  },
  "kernelspec": {
   "display_name": "Python 3",
   "language": "python",
   "name": "python3"
  },
  "language_info": {
   "codemirror_mode": {
    "name": "ipython",
    "version": 3
   },
   "file_extension": ".py",
   "mimetype": "text/x-python",
   "name": "python",
   "nbconvert_exporter": "python",
   "pygments_lexer": "ipython3",
   "version": "3.7.3"
  }
 },
 "nbformat": 4,
 "nbformat_minor": 1
}
